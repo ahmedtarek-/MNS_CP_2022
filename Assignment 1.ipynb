{
 "cells": [
  {
   "cell_type": "markdown",
   "id": "2eb2f52b-813c-43c1-8e3f-2e3a2d67abd3",
   "metadata": {},
   "source": [
    "## Test this MF"
   ]
  },
  {
   "cell_type": "code",
   "execution_count": 1,
   "id": "ff23c9cc-ca64-4d4b-83f3-0c08efa9aeb6",
   "metadata": {},
   "outputs": [],
   "source": [
    "import numpy as np\n",
    "import matplotlib"
   ]
  },
  {
   "cell_type": "code",
   "execution_count": 13,
   "id": "06ad039a-431d-40d9-a948-0a4c5cea930b",
   "metadata": {},
   "outputs": [
    {
     "data": {
      "text/plain": [
       "-1"
      ]
     },
     "execution_count": 13,
     "metadata": {},
     "output_type": "execute_result"
    }
   ],
   "source": [
    "X = np.array([1, -1, -1])\n",
    "W = np.array([3,2,2])\n",
    "\n",
    "Y = np.sign(np.dot(W.transpose(), X))\n",
    "\n",
    "Y "
   ]
  },
  {
   "cell_type": "code",
   "execution_count": null,
   "id": "911ff4ad-8645-4ad0-b0ff-d579396fbae1",
   "metadata": {},
   "outputs": [],
   "source": []
  }
 ],
 "metadata": {
  "kernelspec": {
   "display_name": "Python 3 (ipykernel)",
   "language": "python",
   "name": "python3"
  },
  "language_info": {
   "codemirror_mode": {
    "name": "ipython",
    "version": 3
   },
   "file_extension": ".py",
   "mimetype": "text/x-python",
   "name": "python",
   "nbconvert_exporter": "python",
   "pygments_lexer": "ipython3",
   "version": "3.9.6"
  }
 },
 "nbformat": 4,
 "nbformat_minor": 5
}
