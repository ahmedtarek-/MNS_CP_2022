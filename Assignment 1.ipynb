{
 "cells": [
  {
   "cell_type": "markdown",
   "id": "2eb2f52b-813c-43c1-8e3f-2e3a2d67abd3",
   "metadata": {},
   "source": [
    "## 1. McCulloch–Pitts neuron \n",
    "Test this MF"
   ]
  },
  {
   "cell_type": "code",
   "execution_count": 1,
   "id": "ff23c9cc-ca64-4d4b-83f3-0c08efa9aeb6",
   "metadata": {},
   "outputs": [],
   "source": [
    "import numpy as np\n",
    "import matplotlib"
   ]
  },
  {
   "cell_type": "code",
   "execution_count": 18,
   "id": "06ad039a-431d-40d9-a948-0a4c5cea930b",
   "metadata": {},
   "outputs": [],
   "source": [
    "# Setting up X, weights and the output sign function\n",
    "X = np.array([-1, -1, -1])\n",
    "W = np.array([3,2,2])\n",
    "\n",
    "Y = np.sign(np.dot(W.transpose(), X))\n"
   ]
  },
  {
   "cell_type": "markdown",
   "id": "95b48f41-41b5-4e24-94ee-3b3a45e1eb5c",
   "metadata": {},
   "source": [
    "### Truth table of x1, x2"
   ]
  },
  {
   "cell_type": "code",
   "execution_count": 23,
   "id": "df75fcc9-4eb7-4db9-ae43-6e2d4064e7e8",
   "metadata": {},
   "outputs": [
    {
     "name": "stdout",
     "output_type": "stream",
     "text": [
      "for x1: 1, x2: 1 - Y: 1\n",
      "for x1: 1, x2: -1 - Y: -1\n",
      "for x1: -1, x2: 1 - Y: -1\n",
      "for x1: -1, x2: -1 - Y: -1\n"
     ]
    }
   ],
   "source": [
    "combinations = [(1,1), (1,-1), (-1,1), (-1,-1)]\n",
    "for combination in combinations:\n",
    "    x1 = combination[0]\n",
    "    x2 = combination[1]\n",
    "    X = np.array([-1, x1, x2])\n",
    "    Y = np.sign(np.dot(W.transpose(), X))    \n",
    "    print(\"for x1: {}, x2: {} - Y: {}\".format(x1, x2, Y))"
   ]
  },
  {
   "cell_type": "code",
   "execution_count": null,
   "id": "1e493020-0504-443c-9aa0-70baeb1ee68f",
   "metadata": {},
   "outputs": [],
   "source": []
  }
 ],
 "metadata": {
  "kernelspec": {
   "display_name": "Python 3 (ipykernel)",
   "language": "python",
   "name": "python3"
  },
  "language_info": {
   "codemirror_mode": {
    "name": "ipython",
    "version": 3
   },
   "file_extension": ".py",
   "mimetype": "text/x-python",
   "name": "python",
   "nbconvert_exporter": "python",
   "pygments_lexer": "ipython3",
   "version": "3.9.6"
  }
 },
 "nbformat": 4,
 "nbformat_minor": 5
}
