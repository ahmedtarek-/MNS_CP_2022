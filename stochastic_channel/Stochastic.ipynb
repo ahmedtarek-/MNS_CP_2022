{
  "nbformat": 4,
  "nbformat_minor": 0,
  "metadata": {
    "colab": {
      "provenance": [],
      "include_colab_link": true
    },
    "kernelspec": {
      "name": "python3",
      "display_name": "Python 3"
    },
    "language_info": {
      "name": "python"
    },
    "gpuClass": "standard"
  },
  "cells": [
    {
      "cell_type": "markdown",
      "metadata": {
        "id": "view-in-github",
        "colab_type": "text"
      },
      "source": [
        "<a href=\"https://colab.research.google.com/github/ahmedtarek-/MNS_CP_2022/blob/main/stochastic_channel/Stochastic.ipynb\" target=\"_parent\"><img src=\"https://colab.research.google.com/assets/colab-badge.svg\" alt=\"Open In Colab\"/></a>"
      ]
    },
    {
      "cell_type": "markdown",
      "source": [
        "# H-H-He-He-He-Hel-Hell-Hello Stochastic\n"
      ],
      "metadata": {
        "id": "4LhClVhC69ja"
      }
    },
    {
      "cell_type": "markdown",
      "source": [
        "## 1) K+ channel \n",
        "\n",
        "#### 1.1) Defining the potassium channel object"
      ],
      "metadata": {
        "id": "fs8YXwSsdBPN"
      }
    },
    {
      "cell_type": "code",
      "execution_count": 1,
      "metadata": {
        "colab": {
          "base_uri": "https://localhost:8080/"
        },
        "id": "9MDiGfJpIEac",
        "outputId": "ab6c0e15-0510-465d-86d3-19b52e0d048f"
      },
      "outputs": [
        {
          "output_type": "stream",
          "name": "stdout",
          "text": [
            "initial: 1\n",
            "after one move: 1\n"
          ]
        }
      ],
      "source": [
        "from random import uniform\n",
        "import numpy as np\n",
        "import matplotlib.pyplot as plt\n",
        "from matplotlib.pyplot import figure\n",
        "import warnings\n",
        "warnings.filterwarnings('ignore')\n",
        "\n",
        "class StochasticKChannel:\n",
        "  def __init__(self, initial_state=1, voltage=-50, delta_t=0.1):\n",
        "    self.state = initial_state\n",
        "    self.voltage = voltage\n",
        "    self.delta_t = delta_t\n",
        "\n",
        "  def update_voltage(self, voltage):\n",
        "    self.voltage = voltage\n",
        "\n",
        "  def update_delta_t(self, delta_t):\n",
        "    self.delta_t = delta_t\n",
        "\n",
        "  def alpha_n(self):\n",
        "    alpha = (0.01* (self.voltage +  55)) / (1 - np.exp(-0.1 * (self.voltage + 55) ))\n",
        "    # print(\"Alpha: {}\".format(alpha))\n",
        "    return alpha * self.delta_t\n",
        "\n",
        "  def beta_n(self):\n",
        "    beta = 0.125 * np.exp(-0.0125 * (self.voltage + 65) )\n",
        "    # print(\"Beta: {}\".format(beta))\n",
        "    return beta * self.delta_t\n",
        "\n",
        "\n",
        "  def state_1_transition(self):\n",
        "    \"\"\"\n",
        "      Probability to leave and go to S2: 4*alpha_n\n",
        "    \"\"\"\n",
        "    random_1 = uniform(0, 1)\n",
        "    p_leave = 4*self.alpha_n()\n",
        "    # print(\"Prob to leave state 1: {} (rand: {})\".format(p_leave, random_1))\n",
        "    if random_1 <= p_leave:\n",
        "      self.state = 2\n",
        "      return True\n",
        "    return False\n",
        "\n",
        "  def state_2_transition(self):\n",
        "    \"\"\"\n",
        "      Probability to leave: 3*alpha_n + beta_n\n",
        "      Probability to go to S3: 3*alpha_n / (3*alpha_n + beta_n)\n",
        "      Probability to go to S1: 1- (3*alpha_n / (3*alpha_n + beta_n))\n",
        "    \"\"\"\n",
        "    random_1 = uniform(0, 1)\n",
        "    random_2 = uniform(0, 1)\n",
        "    p_leave = 3*self.alpha_n() + self.beta_n()\n",
        "    p_s3 = 3*self.alpha_n() / (3*self.alpha_n() + self.beta_n())\n",
        "    if random_1 > p_leave:\n",
        "      return False  # Stay in state 1\n",
        "    if random_2 <= p_s3:\n",
        "      self.state = 3\n",
        "    else:\n",
        "      self.state = 1\n",
        "    return True\n",
        "\n",
        "  def state_3_transition(self):\n",
        "    random_1 = uniform(0, 1)\n",
        "    random_2 = uniform(0, 1)\n",
        "    p_leave = 2*self.alpha_n() + 2*self.beta_n()\n",
        "    p_s4 = 2*self.alpha_n() / (2*self.alpha_n() + 2*self.beta_n())\n",
        "    if random_1 > p_leave:\n",
        "      return False  # Stay in state 1\n",
        "    if random_2 <= p_s4:\n",
        "      self.state = 4\n",
        "    else:\n",
        "      self.state = 2\n",
        "    return True\n",
        "\n",
        "  def state_4_transition(self):\n",
        "    random_1 = uniform(0, 1)\n",
        "    random_2 = uniform(0, 1)\n",
        "    p_leave = self.alpha_n() + 3*self.beta_n()\n",
        "    p_s5 = self.alpha_n() / (self.alpha_n() + 3*self.beta_n())\n",
        "    if random_1 > p_leave:\n",
        "      return False  # Stay in state 1\n",
        "    if random_2 <= p_s5:\n",
        "      self.state = 5\n",
        "    else:\n",
        "      self.state = 3\n",
        "    return True\n",
        "\n",
        "  def state_5_transition(self):\n",
        "    random_1 = uniform(0, 1)\n",
        "    if random_1 <= 4*self.beta_n():\n",
        "      self.state = 4\n",
        "      return True\n",
        "    return False\n",
        "\n",
        "  def P(self):\n",
        "    if self.state == 5:\n",
        "      return 1\n",
        "    else:\n",
        "      return 0\n",
        "\n",
        "  def next_state(self):\n",
        "    if self.state == 1:\n",
        "      self.state_1_transition()\n",
        "    elif self.state ==  2:\n",
        "      self.state_2_transition()\n",
        "    elif self.state == 3:\n",
        "      self.state_3_transition()\n",
        "    elif self.state == 4:\n",
        "      self.state_4_transition()\n",
        "    elif self.state ==  5:\n",
        "      self.state_5_transition()\n",
        "    return self.P()\n",
        "\n",
        "  def go_stochastic(self, t_max=0, delta_t=0):\n",
        "    self.delta_t = delta_t\n",
        "    t = delta_t\n",
        "    on_off = []\n",
        "    while t <= t_max:\n",
        "      on_off.append(self.P())\n",
        "      self.next_state()\n",
        "      t += delta_t\n",
        "    return on_off\n",
        "\n",
        "channel = StochasticKChannel(initial_state=1, voltage=10)\n",
        "print(\"initial: {}\".format(channel.state))\n",
        "channel.next_state()\n",
        "print(\"after one move: {}\".format(channel.state))"
      ]
    },
    {
      "cell_type": "markdown",
      "source": [
        "#### 1.2) Trying out the Stochastic time relation"
      ],
      "metadata": {
        "id": "okIlKpnijiOR"
      }
    },
    {
      "cell_type": "code",
      "source": [
        "t_max   = 20      # 20 mS\n",
        "delta_t = 0.01\n",
        "channel = StochasticKChannel(initial_state=1, voltage=-100)\n",
        "output_i = channel.go_stochastic(t_max=20, delta_t=delta_t)\n",
        "\n",
        "channel = StochasticKChannel(initial_state=1, voltage=10)\n",
        "output_ii = channel.go_stochastic(t_max=60, delta_t=delta_t)\n",
        "\n",
        "channel = StochasticKChannel(initial_state=1, voltage=-100)\n",
        "output_iii = channel.go_stochastic(t_max=20, delta_t=delta_t)\n",
        "\n",
        "outputs = output_i + output_ii + output_iii\n",
        "\n",
        "\n",
        "plt.plot(outputs)\n",
        "plt.show()"
      ],
      "metadata": {
        "colab": {
          "base_uri": "https://localhost:8080/",
          "height": 265
        },
        "id": "pdAxvfwhjmSq",
        "outputId": "c99145cb-db5a-45ea-c4ee-ebc931de99f1"
      },
      "execution_count": 2,
      "outputs": [
        {
          "output_type": "display_data",
          "data": {
            "text/plain": [
              "<Figure size 432x288 with 1 Axes>"
            ],
            "image/png": "[encoded data removed]"
          },
          "metadata": {
            "needs_background": "light"
          }
        }
      ]
    },
    {
      "cell_type": "markdown",
      "source": [
        "## 2) Na+ channel \n",
        "\n",
        "#### 2.1) Defining the Sodium channel object\n",
        "\n"
      ],
      "metadata": {
        "id": "0Gq8o3TbbGzm"
      }
    },
    {
      "cell_type": "code",
      "source": [
        "class StochasticNAChannel:\n",
        "  k1_rate = 0.24        # 1/ms\n",
        "  k3_rate = 1.5         # 1/ms\n",
        "  k2_rate = 0.4         # 1/ms\n",
        "\n",
        "  def __init__(self, initial_state=1, voltage=-50, delta_t=0.1):\n",
        "    self.state = initial_state\n",
        "    self.voltage = voltage\n",
        "    self.delta_t = delta_t\n",
        "\n",
        "  def update_voltage(self, voltage):\n",
        "    self.voltage = voltage\n",
        "\n",
        "  def update_delta_t(self, delta_t):\n",
        "    self.delta_t = delta_t\n",
        "\n",
        "  def alpha_m(self):\n",
        "    alpha = (0.1* (self.voltage +  40)) / (1 - np.exp(-0.1 * (self.voltage + 40) ))\n",
        "    return alpha * self.delta_t\n",
        "\n",
        "  def beta_m(self):\n",
        "    beta = 4 * np.exp(-0.0556 * (self.voltage + 65) )\n",
        "    return beta * self.delta_t\n",
        "\n",
        "  def alpha_h(self):\n",
        "    alpha = 0.07*np.exp(-0.05 * (self.voltage + 65))\n",
        "    return alpha * self.delta_t\n",
        "\n",
        "  def beta_h(self):\n",
        "    beta = 1 / (1 + np.exp(-0.1 * (self.voltage + 35) ))\n",
        "    return beta * self.delta_t\n",
        "\n",
        "  def k1(self):\n",
        "    return self.k1_rate * self.delta_t\n",
        "\n",
        "  def k2(self):\n",
        "    return self.k2_rate * self.delta_t\n",
        "  \n",
        "  def k3(self):\n",
        "    return self.k3_rate * self.delta_t\n",
        "\n",
        "  def state_1_transition(self):\n",
        "    \"\"\"\n",
        "      Probability to leave and go to S2: 3*alpha_m\n",
        "    \"\"\"\n",
        "    random_1 = uniform(0, 1)\n",
        "    p_leave = 3*self.alpha_m()\n",
        "    # print(\"Prob to leave state 1: {} (rand: {})\".format(p_leave, random_1))\n",
        "    if random_1 <= p_leave:\n",
        "      self.state = 2\n",
        "      return True\n",
        "    return False\n",
        "\n",
        "  def state_2_transition(self):\n",
        "    \"\"\"\n",
        "      Probability to leave: 3*alpha_n + beta_n\n",
        "      Probability to go to S3: 3*alpha_n / (3*alpha_n + beta_n)\n",
        "      Probability to go to S1: 1- (3*alpha_n / (3*alpha_n + beta_n))\n",
        "    \"\"\"\n",
        "    random_1 = uniform(0, 1)\n",
        "    p_leave = 2*self.alpha_m() + self.beta_m() + self.k1()\n",
        "    if random_1 > p_leave:\n",
        "      return False                                            # Stay in state 2\n",
        "    p_s3 = 2*self.alpha_m() / p_leave\n",
        "    p_s1 = (self.beta_m() + 2*self.alpha_m()) / p_leave\n",
        "    random_2 = uniform(0, 1)\n",
        "    if random_2 <= p_s3:\n",
        "      self.state = 3\n",
        "    elif random_2 <= p_s1:\n",
        "      self.state = 1\n",
        "    else:\n",
        "      self.state = 5\n",
        "    return True\n",
        "\n",
        "  def state_3_transition(self):\n",
        "    random_1 = uniform(0, 1)\n",
        "    p_leave = self.alpha_m() + 2*self.beta_m() + self.k2()\n",
        "    if random_1 > p_leave:\n",
        "      return False                                             # Stay in state 3\n",
        "    p_s4 = self.alpha_m() / p_leave\n",
        "    p_s2 = (2*self.beta_m() + self.alpha_m()) / p_leave\n",
        "    random_2 = uniform(0, 1)\n",
        "    if random_2 <= p_s4:\n",
        "      self.state = 4\n",
        "    elif random_2 <= p_s2:\n",
        "      self.state = 2\n",
        "    else:\n",
        "      self.state = 5\n",
        "    return True\n",
        "\n",
        "  def state_4_transition(self):\n",
        "    random_1 = uniform(0, 1)\n",
        "    p_leave = self.k3() + 3*self.beta_m()\n",
        "    if random_1 > p_leave:\n",
        "      return False                                             # Stay in state 1\n",
        "    random_2 = uniform(0, 1)\n",
        "    p_s5 = self.k3() / p_leave\n",
        "    if random_2 <= p_s5:\n",
        "      self.state = 5\n",
        "    else:\n",
        "      self.state = 3\n",
        "    return True\n",
        "\n",
        "  def state_5_transition(self):\n",
        "    random_1 = uniform(0, 1)\n",
        "    if random_1 <= self.alpha_h():\n",
        "      self.state = 3\n",
        "      return True\n",
        "    return False\n",
        "\n",
        "  def P(self):\n",
        "    if self.state == 4:\n",
        "      return 1\n",
        "    else:\n",
        "      return 0\n",
        "\n",
        "  def next_state(self):\n",
        "    if self.state == 1:\n",
        "      self.state_1_transition()\n",
        "    elif self.state ==  2:\n",
        "      self.state_2_transition()\n",
        "    elif self.state == 3:\n",
        "      self.state_3_transition()\n",
        "    elif self.state == 4:\n",
        "      self.state_4_transition()\n",
        "    elif self.state ==  5:\n",
        "      self.state_5_transition()\n",
        "    return self.P()\n",
        "\n",
        "  def go_stochastic(self, t_max=0, delta_t=0):\n",
        "    self.delta_t = delta_t\n",
        "    t = delta_t\n",
        "    on_off = []\n",
        "    while t <= t_max:\n",
        "      on_off.append(self.P())\n",
        "      self.next_state()\n",
        "      t += delta_t\n",
        "    return on_off\n",
        "\n",
        "channel = StochasticNAChannel(initial_state=1, voltage=10, delta_t=0.01)\n",
        "print(\"initial: {}\".format(channel.state))\n",
        "channel.next_state()\n",
        "print(\"after one transition: {}\".format(channel.state))\n"
      ],
      "metadata": {
        "colab": {
          "base_uri": "https://localhost:8080/"
        },
        "id": "g1WGgi8yfTtR",
        "outputId": "18f5fb84-fb99-4bf2-df85-741552814040"
      },
      "execution_count": 3,
      "outputs": [
        {
          "output_type": "stream",
          "name": "stdout",
          "text": [
            "initial: 1\n",
            "after one transition: 1\n"
          ]
        }
      ]
    },
    {
      "cell_type": "markdown",
      "source": [
        "#### 2.1) Calculating and plotting the behaviour of one NA channel"
      ],
      "metadata": {
        "id": "_u5wMYsYlWP9"
      }
    },
    {
      "cell_type": "code",
      "source": [
        "t_max   = 20      # 20 mS\n",
        "delta_t = 0.01\n",
        "channel = StochasticNAChannel(initial_state=1, voltage=-100)\n",
        "output_i = channel.go_stochastic(t_max=20, delta_t=delta_t)\n",
        "\n",
        "channel = StochasticNAChannel(initial_state=1, voltage=10)\n",
        "output_ii = channel.go_stochastic(t_max=60, delta_t=delta_t)\n",
        "\n",
        "channel = StochasticNAChannel(initial_state=1, voltage=-100)\n",
        "output_iii = channel.go_stochastic(t_max=20, delta_t=delta_t)\n",
        "\n",
        "outputs = output_i + output_ii + output_iii\n",
        "\n",
        "def alpha_m(voltage):\n",
        "  alpha = (0.1* (voltage +  40)) / (1 - np.exp(-0.1 * (voltage + 40) ))\n",
        "  # print(\"Alpha: {}\".format(alpha))\n",
        "  return alpha\n",
        "\n",
        "def beta_m(voltage):\n",
        "  beta = 4 * np.exp(-0.0556 * (voltage + 65) )\n",
        "  # print(\"Beta: {}\".format(beta))\n",
        "  return beta\n",
        "\n",
        "def alpha_h(voltage):\n",
        "  alpha = 0.07*np.exp(-0.05 * (voltage + 65))\n",
        "  # print(\"Alpha: {}\".format(alpha))\n",
        "  return alpha\n",
        "  \n",
        "def beta_h(voltage):\n",
        "  beta = 1 / (1 + np.exp(-0.1 * (voltage + 35) ))\n",
        "  # print(\"Beta: {}\".format(beta))\n",
        "  return beta\n",
        "\n",
        "def m_inf(voltage):\n",
        "  m_inf = alpha_m(voltage) / (alpha_m(voltage) + beta_m(voltage))\n",
        "  return m_inf\n",
        "\n",
        "def tao_m(voltage):\n",
        "  return 1 / (alpha_m(voltage) + beta_m(voltage))\n",
        "\n",
        "def h_inf(voltage):\n",
        "  h_inf = alpha_h(voltage) / (alpha_h(voltage) + beta_h(voltage))\n",
        "  return h_inf\n",
        "\n",
        "def tao_h(voltage):\n",
        "  return 1 / (alpha_h(voltage) + beta_h(voltage))\n",
        "\n",
        "expected_mean=[m_inf(10)**3*h_inf(10) for x in range(100000)]\n",
        "mean=np.mean(outputs)\n",
        "mean_calculated=[mean for x in range(100000)]\n",
        "print(f'calculated mean = {mean}')\n",
        "print(f'expected mean = {expected_mean[0]}')\n",
        "\n",
        "#I think the difference in means is quite large but then again I am not sure as it changes every time\n",
        "#sometimes we have good numbers and other times our prediction is larger than the expected one\n",
        "plt.plot(outputs)\n",
        "plt.plot(expected_mean, ls='--', c='k')\n",
        "plt.plot(mean_calculated)\n",
        "#plt.plot(tao_h)\n",
        "plt.show()\n",
        "print(tao_h(-10))"
      ],
      "metadata": {
        "id": "hBxZ-r0akuZh",
        "colab": {
          "base_uri": "https://localhost:8080/",
          "height": 317
        },
        "outputId": "7cd16507-9b0e-48de-800e-61f353ec4712"
      },
      "execution_count": 4,
      "outputs": [
        {
          "output_type": "stream",
          "name": "stdout",
          "text": [
            "calculated mean = 0.0010002000400080016\n",
            "expected mean = 0.0016020252408374166\n"
          ]
        },
        {
          "output_type": "display_data",
          "data": {
            "text/plain": [
              "<Figure size 432x288 with 1 Axes>"
            ],
            "image/png": "[encoded data removed]"
          },
          "metadata": {
            "needs_background": "light"
          }
        },
        {
          "output_type": "stream",
          "name": "stdout",
          "text": [
            "1.0768704938599587\n"
          ]
        }
      ]
    },
    {
      "cell_type": "markdown",
      "source": [
        "## 3) Defining a population class\n",
        "\n",
        "This lets us update the voltage after a whole population of channels have changed their *state*"
      ],
      "metadata": {
        "id": "rP2SngY_541w"
      }
    },
    {
      "cell_type": "code",
      "source": [
        "\n",
        "class StochasticPopulation:\n",
        "  def __init__(self, k_population=[], na_population=[], initial_voltage=0, delta_t=0):\n",
        "    self.k_population = k_population\n",
        "    self.na_population = na_population\n",
        "    self.voltage = initial_voltage\n",
        "    self.delta_t = delta_t\n",
        "    self.update_populations_voltages()\n",
        "    for channel in (self.k_population + self.na_population):\n",
        "      channel.update_delta_t(self.delta_t)\n",
        "\n",
        "  def update_populations_voltages(self):\n",
        "    for channel in (self.k_population + self.na_population):\n",
        "      channel.update_voltage(self.voltage)\n",
        "\n",
        "  # V in mV\n",
        "  def leak_current(self):\n",
        "    # S * 10^(-9) * V * 10^(-3) = A * 10^(-12) - picoAmper\n",
        "    return 0.3 * (self.voltage + 54.387)\n",
        "\n",
        "  def k_current(self, k_mean_open):\n",
        "    return 36 * k_mean_open * (self.voltage - (-77))\n",
        "\n",
        "  def na_current(self, na_mean_open):\n",
        "      return 120 * na_mean_open * (self.voltage - 50)\n",
        "\n",
        "  def hh_voltage(self, k_current, na_current, leak_current):\n",
        "      C_m = 1 # pF\n",
        "      voltage_diff = (-k_current - na_current - leak_current) / C_m\n",
        "      return self.voltage + (voltage_diff * self.delta_t)\n",
        "  \n",
        "  def update_voltage(self, k_mean_open, na_mean_open):\n",
        "    k_current = self.k_current(k_mean_open)\n",
        "    na_current = self.na_current(na_mean_open)\n",
        "    leak_current = self.leak_current()\n",
        "    self.voltage = self.hh_voltage(k_current, na_current, leak_current)\n",
        "    self.update_populations_voltages()\n",
        "    return self.voltage\n",
        "\n",
        "  def mean_from_population(self, population):\n",
        "    open_channels = 0\n",
        "    for channel in population:\n",
        "      open_channels += channel.next_state()\n",
        "    if len(population) != 0:\n",
        "      mean_open = open_channels / len(population)\n",
        "    else:\n",
        "      mean_open = 0\n",
        "    return mean_open\n",
        "\n",
        "  def go_stochastic(self, t_max=0, update_voltage=False):\n",
        "    t = self.delta_t\n",
        "    on_off_k = []\n",
        "    on_off_na = []\n",
        "    voltages = []\n",
        "    while t <= t_max:\n",
        "      k_mean_open = self.mean_from_population(self.k_population)\n",
        "      na_mean_open = self.mean_from_population(self.na_population)\n",
        "      on_off_k.append(k_mean_open)\n",
        "      on_off_na.append(na_mean_open)\n",
        "      if update_voltage:\n",
        "        voltages.append(self.update_voltage(k_mean_open, na_mean_open))\n",
        "      t += delta_t\n",
        "    return on_off_k, on_off_na, voltages\n"
      ],
      "metadata": {
        "id": "KCNHNgTz6KT5"
      },
      "execution_count": 18,
      "outputs": []
    },
    {
      "cell_type": "markdown",
      "source": [
        "## 4) Analysis & Plotting\n",
        "\n",
        "#### 4.1) Calculating gating variables"
      ],
      "metadata": {
        "id": "lAjXmyA9lusT"
      }
    },
    {
      "cell_type": "code",
      "source": [
        "def alpha_n(voltage):\n",
        "  alpha = (0.01* (voltage +  55)) / (1 - np.exp(-0.1 * (voltage + 55) ))\n",
        "  # print(\"Alpha: {}\".format(alpha))\n",
        "  return alpha\n",
        "\n",
        "def beta_n(voltage):\n",
        "  beta = 0.125 * np.exp(-0.0125 * (voltage + 65) )\n",
        "  # print(\"Beta: {}\".format(beta))\n",
        "  return beta\n",
        "\n",
        "def n_inf(voltage):\n",
        "  n_inf = alpha_n(voltage) / (alpha_n(voltage) + beta_n(voltage))\n",
        "  return n_inf\n",
        "\n",
        "def tao_n(voltage):\n",
        "  return 1 / (alpha_n(voltage) + beta_n(voltage))\n",
        "\n",
        "\n",
        "########################################################################################\n",
        "\n",
        "\n",
        "def alpha_m(voltage):\n",
        "  alpha = (0.1* (voltage +  40)) / (1 - np.exp(-0.1 * (voltage + 40) ))\n",
        "  # print(\"Alpha: {}\".format(alpha))\n",
        "  return alpha\n",
        "\n",
        "def beta_m(voltage):\n",
        "  beta = 4 * np.exp(-0.0556 * (voltage + 65) )\n",
        "  # print(\"Beta: {}\".format(beta))\n",
        "  return beta\n",
        "\n",
        "def alpha_h(voltage):\n",
        "  alpha = 0.07*np.exp(-0.05 * (voltage + 65))\n",
        "  # print(\"Alpha: {}\".format(alpha))\n",
        "  return alpha\n",
        "  \n",
        "def beta_h(voltage):\n",
        "  beta = 1 / (1 + np.exp(-0.1 * (voltage + 35) ))\n",
        "  # print(\"Beta: {}\".format(beta))\n",
        "  return beta\n",
        "\n",
        "def m_inf(voltage):\n",
        "  m_inf = alpha_m(voltage) / (alpha_m(voltage) + beta_m(voltage))\n",
        "  return m_inf\n",
        "\n",
        "def tao_m(voltage):\n",
        "  return 1 / (alpha_m(voltage) + beta_m(voltage))\n",
        "\n",
        "def h_inf(voltage):\n",
        "  h_inf = alpha_h(voltage) / (alpha_h(voltage) + beta_h(voltage))\n",
        "  return h_inf\n",
        "\n",
        "def tao_h(voltage):\n",
        "  return 1 / (alpha_h(voltage) + beta_h(voltage))\n",
        "\n"
      ],
      "metadata": {
        "id": "swXhy5dqrAEJ"
      },
      "execution_count": 6,
      "outputs": []
    },
    {
      "cell_type": "markdown",
      "source": [
        "#### 4.2) Calculating the variance and mean for different populations of K and Na for a fixed *voltage* V=10 mV"
      ],
      "metadata": {
        "id": "cw-Eexyxh8DB"
      }
    },
    {
      "cell_type": "code",
      "source": [
        "# voltage = 10\n",
        "# delta_t = 0.008\n",
        "\n",
        "# N_max = 100\n",
        "# step = 10\n",
        "# N = np.arange(1, N_max+step, step)\n",
        "# k_variances = []\n",
        "# na_variances = []\n",
        "\n",
        "# for n in N:  \n",
        "#   k_population = [StochasticKChannel(initial_state=1) for x in range(n)]\n",
        "#   k_stochastic_pop = StochasticPopulation(k_population=k_population, initial_voltage=voltage, delta_t=delta_t)\n",
        "#   k_avg = k_stochastic_pop.go_stochastic(t_max=20)[0]\n",
        "#   k_variances.append(np.var(k_avg[1000:]))\n",
        "  \n",
        "#   na_population = [StochasticNAChannel(initial_state=1) for x in range(n)]\n",
        "#   na_stochastic_pop = StochasticPopulation(na_population=na_population, initial_voltage=voltage, delta_t=delta_t)\n",
        "#   na_avg = na_stochastic_pop.go_stochastic(t_max=20)[1]\n",
        "#   na_variances.append(np.var(na_avg[500:]))\n",
        "\n",
        "# n_inf_line = [n_inf(10)**4 for x in range(len(k_avg))]\n",
        "# k_expected_varaince = [k_variances[0]/N for N in range(N_max)] \n",
        "\n",
        "# mh_inf_line = [m_inf(voltage)**3*h_inf(voltage) for x in range(len(na_avg))]\n",
        "# na_expected_varaince = [na_variances[0]/N for N in range(N_max)] \n"
      ],
      "metadata": {
        "id": "2Fr9i_fMTeG2"
      },
      "execution_count": 7,
      "outputs": []
    },
    {
      "cell_type": "markdown",
      "source": [
        "#### 4.3) Plotting the mean for K and Na population of 100 channels, fixed *voltage* V=10mV"
      ],
      "metadata": {
        "id": "jYIGjUEdnI4K"
      }
    },
    {
      "cell_type": "code",
      "source": [
        "# # Plotting\n",
        "# figure(figsize=(15,10))\n",
        "# plt.subplot(1,2,1)\n",
        "# plt.plot(k_avg, label='fraction of open K channels')\n",
        "# plt.plot(n_inf_line, label='n_inf^4')\n",
        "# plt.ylabel('mean')\n",
        "# plt.xlabel('time_step')\n",
        "# plt.title('Mean of K open channels')\n",
        "# plt.legend()\n",
        "\n",
        "# plt.subplot(1,2,2)\n",
        "# plt.plot(na_avg, label='fraction of open Na channels')\n",
        "# plt.plot(mh_inf_line, label='m_inf^3*h_inf')\n",
        "# plt.ylabel('mean')\n",
        "# plt.xlabel('time_step')\n",
        "# plt.title('Mean of Na open channels')\n",
        "# plt.legend()\n",
        "\n",
        "# plt.show()"
      ],
      "metadata": {
        "id": "6XFfyzV0nFT_"
      },
      "execution_count": 8,
      "outputs": []
    },
    {
      "cell_type": "markdown",
      "source": [
        "#### 4.4) Plotting the variance for different populations of K and Na for a fixed *voltage* V=10mV"
      ],
      "metadata": {
        "id": "kZeMKb_ioK4N"
      }
    },
    {
      "cell_type": "code",
      "source": [
        "# # Plotting\n",
        "# figure(figsize=(15,10))\n",
        "# plt.subplot(1,2,1)\n",
        "# plt.plot(N, k_variances, label='variance of K channels')\n",
        "# plt.plot(range(N_max), k_expected_varaince, ls=\":\", c=\"k\", label='expected variace')\n",
        "# plt.ylabel('variance')\n",
        "# plt.xlabel('Number of channels')\n",
        "# plt.title('Variance of different populations of K channels, V=10mV')\n",
        "# plt.legend()\n",
        "\n",
        "# plt.subplot(1,2,2)\n",
        "# plt.plot(N, na_variances, label='variance of Na channels')\n",
        "# plt.plot(range(N_max), na_expected_varaince, ls=\":\", c=\"k\", label='expected variance')\n",
        "# plt.ylabel('variance')\n",
        "# plt.xlabel('Number of channels')\n",
        "# plt.title('Variance of different populations of Na channels, V=10mV')\n",
        "# plt.legend()\n",
        "\n",
        "# plt.show()"
      ],
      "metadata": {
        "id": "0N3K95hEllnP"
      },
      "execution_count": 9,
      "outputs": []
    },
    {
      "cell_type": "code",
      "source": [],
      "metadata": {
        "id": "AmeykliZcX3f"
      },
      "execution_count": 9,
      "outputs": []
    },
    {
      "cell_type": "markdown",
      "source": [
        "#### 4.5) Calculating mean for different voltage, for a fixed population N=300 channels"
      ],
      "metadata": {
        "id": "VAE7Hh6noYkM"
      }
    },
    {
      "cell_type": "code",
      "source": [
        "# N = 200\n",
        "# delta_t = 0.01\n",
        "\n",
        "# V_max = 30\n",
        "# voltages = np.arange(-101,40,10)\n",
        "# k_avgs = []\n",
        "# na_avgs = []\n",
        "# n_inf_lines = []\n",
        "# mh_inf_lines = []\n",
        "\n",
        "# for voltage in voltages:  \n",
        "#   k_population = [StochasticKChannel(initial_state=1) for x in range(N)]\n",
        "#   k_stochastic_pop = StochasticPopulation(k_population=k_population, initial_voltage=voltage, delta_t=delta_t)\n",
        "#   k_avg = k_stochastic_pop.go_stochastic(t_max=30)[0]\n",
        "#   k_avgs.append(np.mean(k_avg))\n",
        "#   n_inf_lines.append(n_inf(voltage)**4)\n",
        "  \n",
        "#   na_population = [StochasticNAChannel(initial_state=1) for x in range(N)]\n",
        "#   na_stochastic_pop = StochasticPopulation(na_population=na_population, initial_voltage=voltage, delta_t=delta_t)\n",
        "#   na_avg = na_stochastic_pop.go_stochastic(t_max=30)[1]\n",
        "#   na_avgs.append(np.mean(na_avg))\n",
        "#   mh_inf_lines.append(m_inf(voltage)**3 * h_inf(voltage))\n",
        "\n",
        "\n"
      ],
      "metadata": {
        "id": "63uA-VcKjWU6"
      },
      "execution_count": 10,
      "outputs": []
    },
    {
      "cell_type": "markdown",
      "source": [
        "#### 4.6) Plotting the mean of the fraction of open K and Na channels for different voltages, fixed population of channels N=300"
      ],
      "metadata": {
        "id": "EjmvMWerqheX"
      }
    },
    {
      "cell_type": "code",
      "source": [
        "# # Plotting\n",
        "# figure(figsize=(15,10))\n",
        "# #plt.subplots_adjust(wspace=0.5)\n",
        "# plt.subplot(1,2,1)\n",
        "# plt.plot(voltages, k_avgs, label='<n(V)^4>')\n",
        "# plt.plot(voltages, n_inf_lines, ls=\":\", c=\"k\", label='n_inf^4(V)')\n",
        "# plt.ylabel('mean')\n",
        "# plt.xlabel('Voltage [mV]')\n",
        "# plt.title('Mean of open K channels, N=200')\n",
        "# plt.legend()\n",
        "\n",
        "# plt.subplot(1,2,2)\n",
        "# plt.plot(voltages, na_avgs, label='<m(V)^3*h(V)>')\n",
        "# plt.plot(voltages, mh_inf_lines, ls=\":\", c=\"k\", label='m_inf^3*h_inf(V)')\n",
        "# plt.ylabel('mean')\n",
        "# plt.xlabel('Voltage [mV]')\n",
        "# plt.title('Mean of fraction of open Na channels, N=200')\n",
        "# plt.legend()\n",
        "\n",
        "# plt.show()"
      ],
      "metadata": {
        "id": "FD26fAkRNdcN"
      },
      "execution_count": 11,
      "outputs": []
    },
    {
      "cell_type": "markdown",
      "source": [
        "## 5) Comparison against Hodgkin-Huxley model\n",
        "\n",
        "#### 5.1) Calculating the Hodgkin-Huxley current"
      ],
      "metadata": {
        "id": "tYojEA6FW76U"
      }
    },
    {
      "cell_type": "code",
      "source": [
        "def alpha_n(V):\n",
        "    return 0.01 * (V + 55) / (1 - np.exp(-0.1 * (V + 55)))\n",
        "\n",
        "def alpha_m(V):\n",
        "    return 0.1 * (V + 40) / (1 - np.exp(-0.1 * (V + 40)))\n",
        "\n",
        "def alpha_h(V):\n",
        "    return 0.07 * np.exp(-0.05 * (V + 65))\n",
        "\n",
        "def beta_n(V):\n",
        "    return 0.125 * np.exp(-0.0125 * (V + 65))\n",
        "\n",
        "def beta_m(V):\n",
        "    return 4 * np.exp(-0.0556 * (V + 65))\n",
        "\n",
        "def beta_h(V):\n",
        "    return 1 / (1 + np.exp(-0.1 * (V + 35)))\n",
        "\n",
        "def kinetic_equation_n(V, n):\n",
        "    return alpha_n(V) * (1 - n) - beta_n(V) * n\n",
        "\n",
        "def kinetic_equation_m(V, m):\n",
        "    return alpha_m(V) * (1 - m) - beta_m(V) * m\n",
        "\n",
        "def kinetic_equation_h(V, h):\n",
        "    return alpha_h(V) * (1 - h) - beta_h(V) * h\n",
        "\n",
        "# V in mV\n",
        "def leak_current(V):\n",
        "    return 0.3 * (V + 54.387) # S * 10^(-9) * V * 10^(-3) = A * 10^(-12) - picoAmper\n",
        "\n",
        "# leave conductance in nS, in the end we will get pA\n",
        "def potassium_current(V, n):\n",
        "    return 36 * pow(n, 4) * (V - (-77))\n",
        "\n",
        "def sodium_current(V, m, h):\n",
        "    return 120 * pow(m, 3) * h * (V - 50)\n",
        "\n",
        "def zero_injected_current(t):\n",
        "    return 0\n",
        "\n",
        "def HH_model(V, n, m, h, injected_current, t):\n",
        "    C_m = 1 # pF\n",
        "    # pA / pF = V\n",
        "    return (-potassium_current(V, n) - sodium_current(V, m, h) - leak_current(V) + injected_current(t)) / C_m\n",
        "\n",
        "# Write it with respect to current_t, V will change with t as in 1(c)\n",
        "def euler(n_func, m_func, h_func, model_equation, injected_current, V_0, n_0, m_0, h_0, t_max, dt, update_voltage=False):\n",
        "    timesteps = np.arange(dt, t_max, dt)\n",
        "    \n",
        "    n_solutions, I_K_solutions, m_solutions, h_solutions, I_Na_solutions = np.zeros(len(timesteps) + 1), \\\n",
        "                    np.zeros(len(timesteps) + 1), np.zeros(len(timesteps) + 1), \\\n",
        "                    np.zeros(len(timesteps) + 1), np.zeros(len(timesteps) + 1), \\\n",
        "    \n",
        "    n_solutions[0] = n_0 # we did our first dt step there  \n",
        "    m_solutions[0] = m_0\n",
        "    h_solutions[0] = h_0\n",
        "    I_K_solutions[0] = potassium_current(V_0, n_0)\n",
        "    I_Na_solutions[0] = sodium_current(V_0, m_0, h_0)  \n",
        "    voltage_solution = np.zeros(len(timesteps) + 1)\n",
        "    voltage_solution[0] = V_0\n",
        "    \n",
        "    for idx, current_t in enumerate(timesteps):\n",
        "        \n",
        "        idx = idx + 1 # as we skip the initial condition step\n",
        "        \n",
        "        n_next = n_0 + n_func(V_0, n_0) * dt \n",
        "        n_0 = n_next\n",
        "        n_solutions[idx] = n_0\n",
        "        \n",
        "        m_next = m_0 + m_func(V_0, m_0) * dt \n",
        "        m_0 = m_next\n",
        "        m_solutions[idx] = m_0\n",
        "        \n",
        "        h_next = h_0 + h_func(V_0, h_0) * dt \n",
        "        h_0 = h_next\n",
        "        h_solutions[idx] = h_0\n",
        "        \n",
        "        I_K = potassium_current(V_0, n_0)\n",
        "        I_K_solutions[idx] = I_K\n",
        "        \n",
        "        I_Na = sodium_current(V_0, m_0, h_0)\n",
        "        I_Na_solutions[idx] = I_Na\n",
        "       \n",
        "        if update_voltage:\n",
        "          V_next = V_0 + model_equation(V_0, n_0, m_0, h_0, injected_current, current_t) * dt\n",
        "        else:\n",
        "          V_next = V_0\n",
        "\n",
        "        V_0 = V_next\n",
        "        voltage_solution[idx] = V_0\n",
        "        \n",
        "    return voltage_solution, n_solutions, m_solutions, h_solutions, I_K_solutions, I_Na_solutions   \n",
        "\n",
        "\n",
        "# timesteps = np.arange(0, t_max, dt)\n",
        "# plt.plot(timesteps, voltage_solution)\n",
        "# ax = plt.gca()\n",
        "# ax.ticklabel_format(useOffset=False)\n",
        "# plt.xlabel(\"time [ms]\")\n",
        "# plt.ylabel(\"voltage [mV]\")\n",
        "\n",
        "# plt.plot(timesteps, HH_current_na)\n",
        "# ax = plt.gca()\n",
        "# ax.ticklabel_format(useOffset=False)\n",
        "# plt.xlabel(\"time [ms]\")\n",
        "# plt.ylabel(\"current Na [pA]\")"
      ],
      "metadata": {
        "id": "6Vn6ddCDXKKv"
      },
      "execution_count": 12,
      "outputs": []
    },
    {
      "cell_type": "markdown",
      "source": [
        "#### 5.2) Comparing against different populations "
      ],
      "metadata": {
        "id": "_Vj1pwnWXpDu"
      }
    },
    {
      "cell_type": "code",
      "source": [
        "def current_k(voltage, mean_open_k):\n",
        "  \"\"\"\n",
        "  The next line is based on n (HH model)\n",
        "    return K_CONDUC * prob**4 * (self.voltage - K_REVERSAL)\n",
        "  What we want though is current based on P (is channel open or no)\n",
        "  \"\"\"\n",
        "  k_reversal = -77            # mV\n",
        "  k_conduct = 36\n",
        "  return k_conduct * mean_open_k * (voltage - k_reversal)\n",
        "\n",
        "def current_na(voltage, mean_open_na):\n",
        "  \"\"\"\n",
        "  The next line is based on n (HH model)\n",
        "    return K_CONDUC * prob**4 * (self.voltage - K_REVERSAL)\n",
        "  What we want though is current based on P (is channel open or no)\n",
        "  \"\"\"\n",
        "  na_reversal = 50            # mV\n",
        "  na_conduct   = 120   # Siemens\n",
        "  return na_conduct * mean_open_na * (voltage - na_reversal)\n",
        "\n",
        "voltage = 10\n",
        "\n",
        "t_max = 5\n",
        "delta_t = 0.01\n",
        "\n",
        "n_0 = 0.3177\n",
        "m_0 = 0.0529\n",
        "h_0 = 0.5961\n",
        "\n",
        "N_max = 100\n",
        "step = 10\n",
        "N = [100]\n",
        "k_currents = []\n",
        "na_currents = []\n",
        "\n",
        "for n in N:  \n",
        "  k_population = [StochasticKChannel(initial_state=1) for x in range(n)]\n",
        "  k_stochastic_pop = StochasticPopulation(k_population=k_population, initial_voltage=voltage, delta_t=delta_t)\n",
        "  k_avgs = k_stochastic_pop.go_stochastic(t_max=t_max)[0]\n",
        "  k_currents.append([current_k(voltage, mean_k) for mean_k in k_avgs])\n",
        "  \n",
        "  na_population = [StochasticNAChannel(initial_state=1) for x in range(n)]\n",
        "  na_stochastic_pop = StochasticPopulation(na_population=na_population, initial_voltage=voltage, delta_t=delta_t)\n",
        "  na_avgs = na_stochastic_pop.go_stochastic(t_max=t_max)[1]\n",
        "  na_currents.append([current_na(voltage, mean_na) for mean_na in na_avgs])\n",
        "\n",
        "_, _, _, _, HH_current_k, HH_current_na = euler(kinetic_equation_n, kinetic_equation_m, kinetic_equation_h, HH_model, zero_injected_current, voltage, n_0, m_0, h_0, t_max, delta_t, update_voltage=False)\n",
        "\n",
        "print(k_avgs)\n",
        "print(k_currents[0])\n",
        "\n",
        "timesteps = np.arange(0, t_max, delta_t)\n",
        "plt.plot(timesteps, HH_current_k, label=\"HH model\")\n",
        "plt.plot(timesteps, k_currents[0], label=\"Stochastic\")\n",
        "ax = plt.gca()\n",
        "ax.ticklabel_format(useOffset=False)\n",
        "plt.xlabel(\"time [ms]\")\n",
        "plt.ylabel(\"current Na [pA]\")"
      ],
      "metadata": {
        "id": "U8ASt6NPXImt",
        "colab": {
          "base_uri": "https://localhost:8080/",
          "height": 351
        },
        "outputId": "cc6be3fc-4f55-486a-8f96-ef763ec061b3"
      },
      "execution_count": 19,
      "outputs": [
        {
          "output_type": "stream",
          "name": "stdout",
          "text": [
            "[0.0, 0.0, 0.0, 0.0, 0.0, 0.0, 0.0, 0.0, 0.0, 0.0, 0.0, 0.0, 0.0, 0.0, 0.0, 0.0, 0.0, 0.0, 0.0, 0.0, 0.0, 0.0, 0.0, 0.0, 0.0, 0.0, 0.0, 0.01, 0.01, 0.01, 0.01, 0.01, 0.01, 0.01, 0.01, 0.01, 0.01, 0.01, 0.01, 0.01, 0.01, 0.01, 0.01, 0.01, 0.01, 0.01, 0.01, 0.01, 0.01, 0.01, 0.01, 0.01, 0.01, 0.01, 0.01, 0.01, 0.01, 0.01, 0.01, 0.01, 0.01, 0.01, 0.01, 0.01, 0.01, 0.01, 0.01, 0.01, 0.01, 0.01, 0.01, 0.01, 0.01, 0.01, 0.01, 0.01, 0.01, 0.01, 0.01, 0.02, 0.02, 0.02, 0.02, 0.04, 0.04, 0.04, 0.04, 0.04, 0.04, 0.04, 0.04, 0.04, 0.04, 0.04, 0.04, 0.04, 0.04, 0.04, 0.04, 0.04, 0.04, 0.05, 0.05, 0.05, 0.05, 0.05, 0.05, 0.05, 0.05, 0.05, 0.05, 0.05, 0.05, 0.05, 0.05, 0.05, 0.05, 0.05, 0.05, 0.05, 0.05, 0.05, 0.05, 0.05, 0.05, 0.05, 0.05, 0.05, 0.06, 0.06, 0.06, 0.06, 0.06, 0.06, 0.06, 0.06, 0.06, 0.06, 0.06, 0.06, 0.07, 0.07, 0.08, 0.09, 0.09, 0.09, 0.09, 0.1, 0.1, 0.1, 0.1, 0.1, 0.1, 0.1, 0.1, 0.11, 0.11, 0.11, 0.11, 0.1, 0.11, 0.11, 0.11, 0.11, 0.11, 0.11, 0.11, 0.13, 0.13, 0.13, 0.13, 0.14, 0.14, 0.14, 0.14, 0.15, 0.15, 0.15, 0.15, 0.15, 0.15, 0.15, 0.16, 0.16, 0.16, 0.16, 0.19, 0.19, 0.19, 0.2, 0.2, 0.21, 0.21, 0.21, 0.21, 0.21, 0.21, 0.21, 0.21, 0.21, 0.21, 0.21, 0.21, 0.21, 0.21, 0.21, 0.21, 0.21, 0.23, 0.23, 0.23, 0.23, 0.24, 0.23, 0.23, 0.24, 0.24, 0.24, 0.25, 0.25, 0.25, 0.25, 0.26, 0.27, 0.29, 0.29, 0.29, 0.29, 0.29, 0.29, 0.29, 0.29, 0.29, 0.29, 0.3, 0.31, 0.31, 0.31, 0.31, 0.31, 0.31, 0.31, 0.31, 0.31, 0.31, 0.32, 0.32, 0.32, 0.32, 0.32, 0.32, 0.32, 0.32, 0.32, 0.33, 0.33, 0.33, 0.33, 0.34, 0.34, 0.34, 0.34, 0.35, 0.36, 0.36, 0.36, 0.36, 0.36, 0.36, 0.36, 0.36, 0.37, 0.37, 0.36, 0.37, 0.38, 0.38, 0.38, 0.38, 0.38, 0.39, 0.39, 0.4, 0.4, 0.4, 0.4, 0.39, 0.39, 0.39, 0.39, 0.4, 0.4, 0.4, 0.42, 0.42, 0.43, 0.43, 0.43, 0.43, 0.43, 0.43, 0.43, 0.44, 0.45, 0.45, 0.45, 0.45, 0.45, 0.47, 0.46, 0.47, 0.47, 0.47, 0.5, 0.5, 0.51, 0.51, 0.51, 0.51, 0.51, 0.51, 0.51, 0.51, 0.51, 0.51, 0.51, 0.51, 0.51, 0.51, 0.51, 0.51, 0.52, 0.52, 0.52, 0.52, 0.52, 0.52, 0.53, 0.53, 0.54, 0.54, 0.54, 0.54, 0.54, 0.54, 0.54, 0.54, 0.55, 0.55, 0.58, 0.58, 0.59, 0.59, 0.59, 0.6, 0.6, 0.6, 0.59, 0.59, 0.58, 0.57, 0.56, 0.56, 0.57, 0.57, 0.57, 0.58, 0.58, 0.58, 0.58, 0.58, 0.57, 0.57, 0.57, 0.57, 0.57, 0.58, 0.58, 0.58, 0.58, 0.58, 0.58, 0.58, 0.59, 0.59, 0.59, 0.59, 0.59, 0.58, 0.58, 0.58, 0.6, 0.6, 0.6, 0.6, 0.61, 0.61, 0.61, 0.62, 0.62, 0.63, 0.62, 0.62, 0.62, 0.62, 0.62, 0.62, 0.62, 0.62, 0.62, 0.62, 0.61, 0.61, 0.6, 0.59, 0.59, 0.59, 0.6, 0.6, 0.6, 0.6, 0.6, 0.6, 0.6, 0.6, 0.6, 0.6, 0.6, 0.61, 0.61, 0.61, 0.61, 0.61, 0.61, 0.61, 0.61, 0.61, 0.62, 0.62, 0.62, 0.64, 0.64, 0.64, 0.63, 0.62, 0.62, 0.61, 0.62, 0.62, 0.62, 0.62, 0.62, 0.61, 0.62, 0.62, 0.62, 0.62, 0.62, 0.62, 0.62, 0.62, 0.64, 0.64, 0.64, 0.63, 0.62, 0.62, 0.62, 0.62, 0.62, 0.63, 0.62, 0.62, 0.63, 0.63, 0.63, 0.63, 0.63, 0.63, 0.62, 0.62, 0.62, 0.62, 0.62, 0.62, 0.62, 0.62, 0.62, 0.62, 0.63, 0.63, 0.63, 0.64, 0.64, 0.64, 0.64, 0.64, 0.64, 0.64, 0.64]\n",
            "[0.0, 0.0, 0.0, 0.0, 0.0, 0.0, 0.0, 0.0, 0.0, 0.0, 0.0, 0.0, 0.0, 0.0, 0.0, 0.0, 0.0, 0.0, 0.0, 0.0, 0.0, 0.0, 0.0, 0.0, 0.0, 0.0, 0.0, 31.32, 31.32, 31.32, 31.32, 31.32, 31.32, 31.32, 31.32, 31.32, 31.32, 31.32, 31.32, 31.32, 31.32, 31.32, 31.32, 31.32, 31.32, 31.32, 31.32, 31.32, 31.32, 31.32, 31.32, 31.32, 31.32, 31.32, 31.32, 31.32, 31.32, 31.32, 31.32, 31.32, 31.32, 31.32, 31.32, 31.32, 31.32, 31.32, 31.32, 31.32, 31.32, 31.32, 31.32, 31.32, 31.32, 31.32, 31.32, 31.32, 31.32, 31.32, 31.32, 62.64, 62.64, 62.64, 62.64, 125.28, 125.28, 125.28, 125.28, 125.28, 125.28, 125.28, 125.28, 125.28, 125.28, 125.28, 125.28, 125.28, 125.28, 125.28, 125.28, 125.28, 125.28, 156.6, 156.6, 156.6, 156.6, 156.6, 156.6, 156.6, 156.6, 156.6, 156.6, 156.6, 156.6, 156.6, 156.6, 156.6, 156.6, 156.6, 156.6, 156.6, 156.6, 156.6, 156.6, 156.6, 156.6, 156.6, 156.6, 156.6, 187.92000000000002, 187.92000000000002, 187.92000000000002, 187.92000000000002, 187.92000000000002, 187.92000000000002, 187.92000000000002, 187.92000000000002, 187.92000000000002, 187.92000000000002, 187.92000000000002, 187.92000000000002, 219.24000000000004, 219.24000000000004, 250.56, 281.88, 281.88, 281.88, 281.88, 313.2, 313.2, 313.2, 313.2, 313.2, 313.2, 313.2, 313.2, 344.52, 344.52, 344.52, 344.52, 313.2, 344.52, 344.52, 344.52, 344.52, 344.52, 344.52, 344.52, 407.15999999999997, 407.15999999999997, 407.15999999999997, 407.15999999999997, 438.4800000000001, 438.4800000000001, 438.4800000000001, 438.4800000000001, 469.79999999999995, 469.79999999999995, 469.79999999999995, 469.79999999999995, 469.79999999999995, 469.79999999999995, 469.79999999999995, 501.12, 501.12, 501.12, 501.12, 595.08, 595.08, 595.08, 626.4, 626.4, 657.7199999999999, 657.7199999999999, 657.7199999999999, 657.7199999999999, 657.7199999999999, 657.7199999999999, 657.7199999999999, 657.7199999999999, 657.7199999999999, 657.7199999999999, 657.7199999999999, 657.7199999999999, 657.7199999999999, 657.7199999999999, 657.7199999999999, 657.7199999999999, 657.7199999999999, 720.3600000000001, 720.3600000000001, 720.3600000000001, 720.3600000000001, 751.6800000000001, 720.3600000000001, 720.3600000000001, 751.6800000000001, 751.6800000000001, 751.6800000000001, 783.0, 783.0, 783.0, 783.0, 814.3199999999999, 845.6400000000001, 908.28, 908.28, 908.28, 908.28, 908.28, 908.28, 908.28, 908.28, 908.28, 908.28, 939.5999999999999, 970.92, 970.92, 970.92, 970.92, 970.92, 970.92, 970.92, 970.92, 970.92, 970.92, 1002.24, 1002.24, 1002.24, 1002.24, 1002.24, 1002.24, 1002.24, 1002.24, 1002.24, 1033.5600000000002, 1033.5600000000002, 1033.5600000000002, 1033.5600000000002, 1064.88, 1064.88, 1064.88, 1064.88, 1096.2, 1127.52, 1127.52, 1127.52, 1127.52, 1127.52, 1127.52, 1127.52, 1127.52, 1158.84, 1158.84, 1127.52, 1158.84, 1190.16, 1190.16, 1190.16, 1190.16, 1190.16, 1221.48, 1221.48, 1252.8, 1252.8, 1252.8, 1252.8, 1221.48, 1221.48, 1221.48, 1221.48, 1252.8, 1252.8, 1252.8, 1315.4399999999998, 1315.4399999999998, 1346.76, 1346.76, 1346.76, 1346.76, 1346.76, 1346.76, 1346.76, 1378.08, 1409.3999999999999, 1409.3999999999999, 1409.3999999999999, 1409.3999999999999, 1409.3999999999999, 1472.0399999999997, 1440.7200000000003, 1472.0399999999997, 1472.0399999999997, 1472.0399999999997, 1566.0, 1566.0, 1597.32, 1597.32, 1597.32, 1597.32, 1597.32, 1597.32, 1597.32, 1597.32, 1597.32, 1597.32, 1597.32, 1597.32, 1597.32, 1597.32, 1597.32, 1597.32, 1628.6399999999999, 1628.6399999999999, 1628.6399999999999, 1628.6399999999999, 1628.6399999999999, 1628.6399999999999, 1659.9600000000003, 1659.9600000000003, 1691.2800000000002, 1691.2800000000002, 1691.2800000000002, 1691.2800000000002, 1691.2800000000002, 1691.2800000000002, 1691.2800000000002, 1691.2800000000002, 1722.6000000000001, 1722.6000000000001, 1816.56, 1816.56, 1847.8799999999999, 1847.8799999999999, 1847.8799999999999, 1879.1999999999998, 1879.1999999999998, 1879.1999999999998, 1847.8799999999999, 1847.8799999999999, 1816.56, 1785.24, 1753.9200000000003, 1753.9200000000003, 1785.24, 1785.24, 1785.24, 1816.56, 1816.56, 1816.56, 1816.56, 1816.56, 1785.24, 1785.24, 1785.24, 1785.24, 1785.24, 1816.56, 1816.56, 1816.56, 1816.56, 1816.56, 1816.56, 1816.56, 1847.8799999999999, 1847.8799999999999, 1847.8799999999999, 1847.8799999999999, 1847.8799999999999, 1816.56, 1816.56, 1816.56, 1879.1999999999998, 1879.1999999999998, 1879.1999999999998, 1879.1999999999998, 1910.52, 1910.52, 1910.52, 1941.84, 1941.84, 1973.16, 1941.84, 1941.84, 1941.84, 1941.84, 1941.84, 1941.84, 1941.84, 1941.84, 1941.84, 1941.84, 1910.52, 1910.52, 1879.1999999999998, 1847.8799999999999, 1847.8799999999999, 1847.8799999999999, 1879.1999999999998, 1879.1999999999998, 1879.1999999999998, 1879.1999999999998, 1879.1999999999998, 1879.1999999999998, 1879.1999999999998, 1879.1999999999998, 1879.1999999999998, 1879.1999999999998, 1879.1999999999998, 1910.52, 1910.52, 1910.52, 1910.52, 1910.52, 1910.52, 1910.52, 1910.52, 1910.52, 1941.84, 1941.84, 1941.84, 2004.48, 2004.48, 2004.48, 1973.16, 1941.84, 1941.84, 1910.52, 1941.84, 1941.84, 1941.84, 1941.84, 1941.84, 1910.52, 1941.84, 1941.84, 1941.84, 1941.84, 1941.84, 1941.84, 1941.84, 1941.84, 2004.48, 2004.48, 2004.48, 1973.16, 1941.84, 1941.84, 1941.84, 1941.84, 1941.84, 1973.16, 1941.84, 1941.84, 1973.16, 1973.16, 1973.16, 1973.16, 1973.16, 1973.16, 1941.84, 1941.84, 1941.84, 1941.84, 1941.84, 1941.84, 1941.84, 1941.84, 1941.84, 1941.84, 1973.16, 1973.16, 1973.16, 2004.48, 2004.48, 2004.48, 2004.48, 2004.48, 2004.48, 2004.48, 2004.48]\n"
          ]
        },
        {
          "output_type": "execute_result",
          "data": {
            "text/plain": [
              "Text(0, 0.5, 'current Na [pA]')"
            ]
          },
          "metadata": {},
          "execution_count": 19
        },
        {
          "output_type": "display_data",
          "data": {
            "text/plain": [
              "<Figure size 432x288 with 1 Axes>"
            ],
            "image/png": "[encoded data removed]"
          },
          "metadata": {
            "needs_background": "light"
          }
        }
      ]
    },
    {
      "cell_type": "markdown",
      "source": [
        "#### 5.3) Hodgkin-Huxley using Stochastic population vs gating variables"
      ],
      "metadata": {
        "id": "XYnoq0_dmG28"
      }
    },
    {
      "cell_type": "code",
      "source": [
        "voltage = 10\n",
        "\n",
        "t_max = 5\n",
        "delta_t = 0.01\n",
        "\n",
        "n_0 = 0.3177\n",
        "m_0 = 0.0529\n",
        "h_0 = 0.5961\n",
        "\n",
        "population_size = 100\n",
        "\n",
        "# 1. Initialize the populations\n",
        "k_population = [StochasticKChannel(initial_state=1) for x in range(population_size)]\n",
        "na_population = [StochasticNAChannel(initial_state=1) for x in range(population_size)]\n",
        "\n",
        "# 2. Run stochastic\n",
        "stochastic_pop = StochasticPopulation(k_population=k_population, na_population=na_population, initial_voltage=voltage, delta_t=delta_t)\n",
        "stochastic_output = stochastic_pop.go_stochastic(t_max=t_max, update_voltage=True)\n",
        "\n",
        "# 3. Get K, NA currents\n",
        "k_avgs = stochastic_output[0]\n",
        "na_avgs = stochastic_output[1]\n",
        "k_currents = [current_k(voltage, mean_k) for mean_k in k_avgs]\n",
        "na_currents = [current_na(voltage, mean_na) for mean_na in na_avgs]\n",
        "\n",
        "# 4. Get voltages\n",
        "stochastic_voltages = stochastic_output[2]\n",
        "\n",
        "# 5. Run pure HH model (using Euler method)\n",
        "hh_voltages, _, _, _, HH_current_k, HH_current_na = euler(kinetic_equation_n, kinetic_equation_m, kinetic_equation_h, HH_model, zero_injected_current, voltage, n_0, m_0, h_0, t_max, delta_t, update_voltage=True)\n",
        "\n",
        "\n",
        "# 6. Plotting\n",
        "timesteps = np.arange(0, t_max, delta_t)\n",
        "figure(figsize=(15,10))\n",
        "\n",
        "plt.subplot(3,1,1)\n",
        "plt.plot(timesteps, hh_voltages, label=\"HH model\")\n",
        "plt.plot(timesteps, stochastic_voltages, label=\"Stochastic\")\n",
        "ax = plt.gca()\n",
        "ax.ticklabel_format(useOffset=False)\n",
        "plt.ylabel(\"current Na [pA]\")\n",
        "plt.title('Voltages')\n",
        "plt.legend()\n",
        "\n",
        "plt.subplot(3,1,2)\n",
        "plt.plot(timesteps, HH_current_k, label=\"HH model\")\n",
        "plt.plot(timesteps, k_currents, label=\"Stochastic\")\n",
        "ax = plt.gca()\n",
        "ax.ticklabel_format(useOffset=False)\n",
        "plt.ylabel(\"current K [pA]\")\n",
        "plt.title('K Current')\n",
        "plt.legend()\n",
        "\n",
        "plt.subplot(3,1,3)\n",
        "plt.plot(timesteps, HH_current_na, label=\"HH model\")\n",
        "plt.plot(timesteps, na_currents, label=\"Stochastic\")\n",
        "ax = plt.gca()\n",
        "ax.ticklabel_format(useOffset=False)\n",
        "plt.xlabel(\"time [ms]\")\n",
        "plt.ylabel(\"current NA [pA]\")\n",
        "plt.title('NA Current')\n",
        "plt.legend()\n",
        "\n",
        "plt.subplots_adjust(wspace=0.8)\n",
        "plt.show()"
      ],
      "metadata": {
        "id": "VWjsw3ZXrW1h",
        "colab": {
          "base_uri": "https://localhost:8080/",
          "height": 621
        },
        "outputId": "926c6141-9c91-46d3-99fe-49d063bc45c0"
      },
      "execution_count": 20,
      "outputs": [
        {
          "output_type": "display_data",
          "data": {
            "text/plain": [
              "<Figure size 1080x720 with 3 Axes>"
            ],
            "image/png": "[encoded data removed]"
          },
          "metadata": {
            "needs_background": "light"
          }
        }
      ]
    },
    {
      "cell_type": "markdown",
      "source": [
        "----------------------------------------------------------------\n",
        "\n",
        "1.   Plot current\n",
        "    - Calculate the current on every step\n",
        "    - Using the reversal potential and conducatnce (na, k)\n",
        "2.   Include the hh_euler method to calculate the current\n",
        "3.   Plugging the values of current from our stochastic model and plug it into  the hh model  \n",
        "4. Calculate the ISI\n"
      ],
      "metadata": {
        "id": "29046nWTSTQ0"
      }
    }
  ]
}