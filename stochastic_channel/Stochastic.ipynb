{
  "nbformat": 4,
  "nbformat_minor": 0,
  "metadata": {
    "colab": {
      "provenance": [],
      "authorship_tag": "ABX9TyOTMTbJSOaa1bASEnAzCQuB",
      "include_colab_link": true
    },
    "kernelspec": {
      "name": "python3",
      "display_name": "Python 3"
    },
    "language_info": {
      "name": "python"
    }
  },
  "cells": [
    {
      "cell_type": "markdown",
      "metadata": {
        "id": "view-in-github",
        "colab_type": "text"
      },
      "source": [
        "<a href=\"https://colab.research.google.com/github/ahmedtarek-/MNS_CP_2022/blob/main/stochastic_channel/Stochastic.ipynb\" target=\"_parent\"><img src=\"https://colab.research.google.com/assets/colab-badge.svg\" alt=\"Open In Colab\"/></a>"
      ]
    },
    {
      "cell_type": "code",
      "execution_count": 71,
      "metadata": {
        "colab": {
          "base_uri": "https://localhost:8080/"
        },
        "id": "9MDiGfJpIEac",
        "outputId": "449bd207-99ff-48e0-a7c3-0aa1b091b401"
      },
      "outputs": [
        {
          "output_type": "stream",
          "name": "stdout",
          "text": [
            "initial: 1\n",
            "after one move: 1\n"
          ]
        }
      ],
      "source": [
        "from random import uniform\n",
        "import numpy as np\n",
        "import matplotlib.pyplot as plt\n",
        "import warnings\n",
        "warnings.filterwarnings('ignore')\n",
        "\n",
        "K_REVERSAL = -77        # mV\n",
        "K_CONDUC = 36*10**-6    # Siemens (should've been ^-9 but multiplied with 1000 to compensate for using milli votls)\n",
        "\n",
        "class StochasticKChannel:\n",
        "  def __init__(self, initial_state=1, voltage=-50, delta_t=0.1):\n",
        "    self.state = initial_state\n",
        "    self.voltage = voltage\n",
        "    self.delta_t = delta_t\n",
        "\n",
        "  def alpha_n(self):\n",
        "    alpha = (0.01* (self.voltage +  55)) / (1 - np.exp(-0.1 * (self.voltage + 55) ))\n",
        "    # print(\"Alpha: {}\".format(alpha))\n",
        "    return alpha * self.delta_t\n",
        "\n",
        "  def beta_n(self):\n",
        "    beta = 0.125 * np.exp(-0.0125 * (self.voltage + 65) )\n",
        "    # print(\"Beta: {}\".format(beta))\n",
        "    return beta * self.delta_t\n",
        "\n",
        "  def k_current(self):\n",
        "    \"\"\"\n",
        "    The next line is based on n (HH model)\n",
        "      return K_CONDUC * prob**4 * (self.voltage - K_REVERSAL)\n",
        "    What we want though is current based on P (is channel open or no)\n",
        "    \"\"\"\n",
        "    return K_CONDUC * self.P() * (self.voltage - K_REVERSAL)\n",
        "\n",
        "  def state_1_transition(self):\n",
        "    \"\"\"\n",
        "      Probability to leave and go to S2: 4*alpha_n\n",
        "    \"\"\"\n",
        "    random_1 = uniform(0, 1)\n",
        "    p_leave = 4*self.alpha_n()\n",
        "    # print(\"Prob to leave state 1: {} (rand: {})\".format(p_leave, random_1))\n",
        "    if random_1 <= p_leave:\n",
        "      self.state = 2\n",
        "      return True\n",
        "    return False\n",
        "\n",
        "  def state_2_transition(self):\n",
        "    \"\"\"\n",
        "      Probability to leave: 3*alpha_n + beta_n\n",
        "      Probability to go to S3: 3*alpha_n / (3*alpha_n + beta_n)\n",
        "      Probability to go to S1: 1- (3*alpha_n / (3*alpha_n + beta_n))\n",
        "    \"\"\"\n",
        "    random_1 = uniform(0, 1)\n",
        "    random_2 = uniform(0, 1)\n",
        "    p_leave = 3*self.alpha_n() + self.beta_n()\n",
        "    p_s3 = 3*self.alpha_n() / (3*self.alpha_n() + self.beta_n())\n",
        "    if random_1 > p_leave:\n",
        "      return False  # Stay in state 1\n",
        "    if random_2 <= p_s3:\n",
        "      self.state = 3\n",
        "    else:\n",
        "      self.state = 1\n",
        "    return True\n",
        "\n",
        "  def state_3_transition(self):\n",
        "    random_1 = uniform(0, 1)\n",
        "    random_2 = uniform(0, 1)\n",
        "    p_leave = 2*self.alpha_n() + 2*self.beta_n()\n",
        "    p_s4 = 2*self.alpha_n() / (2*self.alpha_n() + 2*self.beta_n())\n",
        "    if random_1 > p_leave:\n",
        "      return False  # Stay in state 1\n",
        "    if random_2 <= p_s4:\n",
        "      self.state = 4\n",
        "    else:\n",
        "      self.state = 2\n",
        "    return True\n",
        "\n",
        "  def state_4_transition(self):\n",
        "    random_1 = uniform(0, 1)\n",
        "    random_2 = uniform(0, 1)\n",
        "    p_leave = self.alpha_n() + 3*self.beta_n()\n",
        "    p_s5 = self.alpha_n() / (self.alpha_n() + 3*self.beta_n())\n",
        "    if random_1 > p_leave:\n",
        "      return False  # Stay in state 1\n",
        "    if random_2 <= p_s5:\n",
        "      self.state = 5\n",
        "    else:\n",
        "      self.state = 3\n",
        "    return True\n",
        "\n",
        "  def state_5_transition(self):\n",
        "    random_1 = uniform(0, 1)\n",
        "    if random_1 <= 4*self.beta_n():\n",
        "      self.state = 4\n",
        "      return True\n",
        "    return False\n",
        "\n",
        "  def P(self):\n",
        "    if self.state == 5:\n",
        "      return 1\n",
        "    else:\n",
        "      return 0\n",
        "\n",
        "  def next_state(self):\n",
        "    if self.state == 1:\n",
        "      self.state_1_transition()\n",
        "    elif self.state ==  2:\n",
        "      self.state_2_transition()\n",
        "    elif self.state == 3:\n",
        "      self.state_3_transition()\n",
        "    elif self.state == 4:\n",
        "      self.state_4_transition()\n",
        "    elif self.state ==  5:\n",
        "      self.state_5_transition()\n",
        "\n",
        "  def go_stochastic(self, t_max=0, delta_t=0):\n",
        "    self.delta_t = delta_t\n",
        "    t = delta_t\n",
        "    on_off = []\n",
        "    while t <= t_max:\n",
        "      on_off.append(self.P())\n",
        "      self.next_state()\n",
        "      t += delta_t\n",
        "    return on_off\n",
        "\n",
        "channel = StochasticKChannel(initial_state=1, voltage=10)\n",
        "print(\"initial: {}\".format(channel.state))\n",
        "channel.next_state()\n",
        "print(\"after one move: {}\".format(channel.state))\n",
        "# Extend Channel to take t_max and delta_t and keeps going on until t_max is done"
      ]
    },
    {
      "cell_type": "markdown",
      "source": [
        "**Trying out the Stochastic time relation**"
      ],
      "metadata": {
        "id": "okIlKpnijiOR"
      }
    },
    {
      "cell_type": "code",
      "source": [
        "t_max   = 20      # 20 mS\n",
        "delta_t = 0.01\n",
        "channel = StochasticKChannel(initial_state=1, voltage=-100)\n",
        "output_i = channel.go_stochastic(t_max=20, delta_t=delta_t)\n",
        "\n",
        "channel = StochasticKChannel(initial_state=1, voltage=10)\n",
        "output_ii = channel.go_stochastic(t_max=60, delta_t=delta_t)\n",
        "\n",
        "channel = StochasticKChannel(initial_state=1, voltage=-100)\n",
        "output_iii = channel.go_stochastic(t_max=20, delta_t=delta_t)\n",
        "\n",
        "outputs = output_i + output_ii + output_iii\n",
        "\n",
        "\n",
        "plt.plot(outputs)"
      ],
      "metadata": {
        "colab": {
          "base_uri": "https://localhost:8080/",
          "height": 282
        },
        "id": "pdAxvfwhjmSq",
        "outputId": "1585572a-b79b-4ed9-f4db-71a1509ee932"
      },
      "execution_count": 74,
      "outputs": [
        {
          "output_type": "execute_result",
          "data": {
            "text/plain": [
              "[<matplotlib.lines.Line2D at 0x7ffb3ab9beb0>]"
            ]
          },
          "metadata": {},
          "execution_count": 74
        },
        {
          "output_type": "display_data",
          "data": {
            "text/plain": [
              "<Figure size 432x288 with 1 Axes>"
            ],
            "image/png": "[encoded data removed]"
          },
          "metadata": {
            "needs_background": "light"
          }
        }
      ]
    },
    {
      "cell_type": "code",
      "source": [
        "\"\"\"\n",
        "Channel models can be instantiated directly\n",
        "from state diagrams simply by keeping track of the state of the channel\n",
        "and allowing stochastic changes of state to occur at appropriate transition\n",
        "rates. If the model is updated in short time steps of duration delta_t, the probability that the channel makes a given transition during an update interval\n",
        "is the transition rate times delta_t.\n",
        "\"\"\"\n",
        "x = 1\n",
        "\"\"\"\n",
        "TODOS/Questions:\n",
        "- What are the values for conductance and Reversal potential? K values?\n",
        "- 0) Simulate a two state system\n",
        "- 1) Start by fixing the voltage\n",
        "- 2) Introduce time! But how? small delta_t\n",
        "  - safe way to do it is by choosing delta_t \n",
        "    according to the largest alpha/beta we can have \n",
        "    (largest voltage)\n",
        "- Compare the temporal mean of stochastic ion channel\n",
        "  at a fixed voltage with stationary value of n** at same V4 (from HH)\n",
        "- Meet every Monday (at 3PM)\n",
        "\"\"\"\n"
      ],
      "metadata": {
        "id": "l74urgWhJ9qd",
        "colab": {
          "base_uri": "https://localhost:8080/",
          "height": 70
        },
        "outputId": "a54d2cf0-5dc2-4843-9894-ff4e573e48cb"
      },
      "execution_count": 9,
      "outputs": [
        {
          "output_type": "execute_result",
          "data": {
            "text/plain": [
              "'\\nTODOS/Questions:\\n- What are the values for conductance and Reversal potential? K values?\\n- 0) Simulate a two state system\\n- 1) Start by fixing the voltage\\n- 2) Introduce time! But how? small delta_t\\n  - safe way to do it is by choosing delta_t \\n    according to the largest alpha/beta we can have \\n    (largest voltage)\\n- Compare the temporal mean of stochastic ion channel\\n  at a fixed voltage with stationary value of n** at same V4 (from HH)\\n- Meet every Monday (at 3PM)\\n'"
            ],
            "application/vnd.google.colaboratory.intrinsic+json": {
              "type": "string"
            }
          },
          "metadata": {},
          "execution_count": 9
        }
      ]
    },
    {
      "cell_type": "code",
      "source": [],
      "metadata": {
        "id": "6S5NI8RWxtyQ"
      },
      "execution_count": null,
      "outputs": []
    }
  ]
}