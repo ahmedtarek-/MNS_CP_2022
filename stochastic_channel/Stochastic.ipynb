{
  "nbformat": 4,
  "nbformat_minor": 0,
  "metadata": {
    "colab": {
      "provenance": [],
      "authorship_tag": "ABX9TyNdr/JMhlN4WDGnj83S3uGy",
      "include_colab_link": true
    },
    "kernelspec": {
      "name": "python3",
      "display_name": "Python 3"
    },
    "language_info": {
      "name": "python"
    }
  },
  "cells": [
    {
      "cell_type": "markdown",
      "metadata": {
        "id": "view-in-github",
        "colab_type": "text"
      },
      "source": [
        "<a href=\"https://colab.research.google.com/github/ahmedtarek-/MNS_CP_2022/blob/main/stochastic_channel/Stochastic.ipynb\" target=\"_parent\"><img src=\"https://colab.research.google.com/assets/colab-badge.svg\" alt=\"Open In Colab\"/></a>"
      ]
    },
    {
      "cell_type": "code",
      "execution_count": 10,
      "metadata": {
        "colab": {
          "base_uri": "https://localhost:8080/"
        },
        "id": "9MDiGfJpIEac",
        "outputId": "186ce778-b7f5-4dd1-f12e-deb47569fbfc"
      },
      "outputs": [
        {
          "output_type": "stream",
          "name": "stdout",
          "text": [
            "initial: 1\n",
            "after one move: 1\n"
          ]
        }
      ],
      "source": [
        "from random import uniform\n",
        "\n",
        "class StochasticKChannel:\n",
        "  alpha_n = 0.044\n",
        "  beta_n = 0.02\n",
        "\n",
        "  def __init__(self, initial_state):\n",
        "    self.state = initial_state\n",
        "\n",
        "  def state_1_transition(self):\n",
        "    random_1 = uniform(0, 1)\n",
        "    if random_1 < 4*self.alpha_n:\n",
        "      self.state = 2\n",
        "      return True\n",
        "\n",
        "  def state_2_transition(self):\n",
        "    \"\"\"\n",
        "      Probability to leave: 3*alpha_n + beta_n\n",
        "      Probability to go to S3: 3*alpha_n / (3*alpha_n + beta_n)\n",
        "      Probability to go to S1: 1- (3*alpha_n / (3*alpha_n + beta_n))\n",
        "    \"\"\"\n",
        "    random_1 = uniform(0, 1)\n",
        "    random_2 = uniform(0, 1)\n",
        "    p_leave = 3*self.alpha_n + self.beta_n\n",
        "    p_s3 = 3*self.alpha_n / (3*self.alpha_n + self.beta_n)\n",
        "    if random_1 > p_leave:\n",
        "      return False  # Stay in state 1\n",
        "    if random_2 <= p_s3:\n",
        "      self.state = 3\n",
        "    else:\n",
        "      self.state = 1\n",
        "    return True\n",
        "\n",
        "  def state_3_transition(self):\n",
        "    \"\"\"\n",
        "      Probability to leave: 2*alpha_n + 2*beta_n\n",
        "      Probability to go to S3: 3*alpha_n / (3*alpha_n + beta_n)\n",
        "      Probability to go to S1: 1- (3*alpha_n / (3*alpha_n + beta_n))\n",
        "    \"\"\"\n",
        "    random_1 = uniform(0, 1)\n",
        "    random_2 = uniform(0, 1)\n",
        "    p_leave = 3*alpha_n + beta_n\n",
        "    p_s3 = 3*alpha_n / (3*alpha_n + beta_n)\n",
        "    if random_1 > p_leave:\n",
        "      return False  # Stay in state 1\n",
        "    if random_2 <= p_s3:\n",
        "      self.state = 3\n",
        "    else:\n",
        "      self.state = 1\n",
        "    return True\n",
        "    \n",
        "\n",
        "  def next_state(self):\n",
        "    if self.state == 1:\n",
        "      self.state_1_transition()\n",
        "    elif self.state ==  2:\n",
        "      self.state_2_transition()\n",
        "    elif self.state == 3:\n",
        "      self.state_3_transition()\n",
        "    elif self.state == 4:\n",
        "      self.state_4_transition()\n",
        "    elif self.state ==  5:\n",
        "      self.state_5_transition()\n",
        "\n",
        "channel = StochasticKChannel(1)\n",
        "print(\"initial: {}\".format(channel.state))\n",
        "channel.next_state()\n",
        "print(\"after one move: {}\".format(channel.state))"
      ]
    },
    {
      "cell_type": "code",
      "source": [],
      "metadata": {
        "id": "l74urgWhJ9qd"
      },
      "execution_count": 9,
      "outputs": []
    }
  ]
}