{
  "nbformat": 4,
  "nbformat_minor": 0,
  "metadata": {
    "colab": {
      "provenance": [],
      "include_colab_link": true
    },
    "kernelspec": {
      "name": "python3",
      "display_name": "Python 3"
    },
    "language_info": {
      "name": "python"
    }
  },
  "cells": [
    {
      "cell_type": "markdown",
      "metadata": {
        "id": "view-in-github",
        "colab_type": "text"
      },
      "source": [
        "<a href=\"https://colab.research.google.com/github/ahmedtarek-/MNS_CP_2022/blob/main/stochastic_channel/Stochastic.ipynb\" target=\"_parent\"><img src=\"https://colab.research.google.com/assets/colab-badge.svg\" alt=\"Open In Colab\"/></a>"
      ]
    },
    {
      "cell_type": "markdown",
      "source": [
        "# H-H-He-He-He-Hel-Hell-Hello Stochastic\n",
        "\n",
        "\n",
        "## 1.1) Defining the potassium channel object"
      ],
      "metadata": {
        "id": "fs8YXwSsdBPN"
      }
    },
    {
      "cell_type": "code",
      "execution_count": null,
      "metadata": {
        "colab": {
          "base_uri": "https://localhost:8080/"
        },
        "id": "9MDiGfJpIEac",
        "outputId": "9376abd8-a387-4c65-cdf9-9e59382c1778"
      },
      "outputs": [
        {
          "output_type": "stream",
          "name": "stdout",
          "text": [
            "initial: 1\n",
            "after one move: 1\n"
          ]
        }
      ],
      "source": [
        "from random import uniform\n",
        "import numpy as np\n",
        "import matplotlib.pyplot as plt\n",
        "from matplotlib.pyplot import figure\n",
        "import warnings\n",
        "warnings.filterwarnings('ignore')\n",
        "\n",
        "K_REVERSAL = -77        # mV\n",
        "K_CONDUC = 36*10**-6    # Siemens (should've been ^-9 but multiplied with 1000 to compensate for using milli votls)\n",
        "\n",
        "class StochasticKChannel:\n",
        "  def __init__(self, initial_state=1, voltage=-50, delta_t=0.1):\n",
        "    self.state = initial_state\n",
        "    self.voltage = voltage\n",
        "    self.delta_t = delta_t\n",
        "\n",
        "  def update_voltage(self, voltage):\n",
        "    self.voltage = voltage\n",
        "\n",
        "  def update_delta_t(self, delta_t):\n",
        "    self.delta_t = delta_t\n",
        "\n",
        "  def alpha_n(self):\n",
        "    alpha = (0.01* (self.voltage +  55)) / (1 - np.exp(-0.1 * (self.voltage + 55) ))\n",
        "    # print(\"Alpha: {}\".format(alpha))\n",
        "    return alpha * self.delta_t\n",
        "\n",
        "  def beta_n(self):\n",
        "    beta = 0.125 * np.exp(-0.0125 * (self.voltage + 65) )\n",
        "    # print(\"Beta: {}\".format(beta))\n",
        "    return beta * self.delta_t\n",
        "\n",
        "  def k_current(self):\n",
        "    \"\"\"\n",
        "    The next line is based on n (HH model)\n",
        "      return K_CONDUC * prob**4 * (self.voltage - K_REVERSAL)\n",
        "    What we want though is current based on P (is channel open or no)\n",
        "    \"\"\"\n",
        "    return K_CONDUC * self.P() * (self.voltage - K_REVERSAL)\n",
        "\n",
        "  def state_1_transition(self):\n",
        "    \"\"\"\n",
        "      Probability to leave and go to S2: 4*alpha_n\n",
        "    \"\"\"\n",
        "    random_1 = uniform(0, 1)\n",
        "    p_leave = 4*self.alpha_n()\n",
        "    # print(\"Prob to leave state 1: {} (rand: {})\".format(p_leave, random_1))\n",
        "    if random_1 <= p_leave:\n",
        "      self.state = 2\n",
        "      return True\n",
        "    return False\n",
        "\n",
        "  def state_2_transition(self):\n",
        "    \"\"\"\n",
        "      Probability to leave: 3*alpha_n + beta_n\n",
        "      Probability to go to S3: 3*alpha_n / (3*alpha_n + beta_n)\n",
        "      Probability to go to S1: 1- (3*alpha_n / (3*alpha_n + beta_n))\n",
        "    \"\"\"\n",
        "    random_1 = uniform(0, 1)\n",
        "    random_2 = uniform(0, 1)\n",
        "    p_leave = 3*self.alpha_n() + self.beta_n()\n",
        "    p_s3 = 3*self.alpha_n() / (3*self.alpha_n() + self.beta_n())\n",
        "    if random_1 > p_leave:\n",
        "      return False  # Stay in state 1\n",
        "    if random_2 <= p_s3:\n",
        "      self.state = 3\n",
        "    else:\n",
        "      self.state = 1\n",
        "    return True\n",
        "\n",
        "  def state_3_transition(self):\n",
        "    random_1 = uniform(0, 1)\n",
        "    random_2 = uniform(0, 1)\n",
        "    p_leave = 2*self.alpha_n() + 2*self.beta_n()\n",
        "    p_s4 = 2*self.alpha_n() / (2*self.alpha_n() + 2*self.beta_n())\n",
        "    if random_1 > p_leave:\n",
        "      return False  # Stay in state 1\n",
        "    if random_2 <= p_s4:\n",
        "      self.state = 4\n",
        "    else:\n",
        "      self.state = 2\n",
        "    return True\n",
        "\n",
        "  def state_4_transition(self):\n",
        "    random_1 = uniform(0, 1)\n",
        "    random_2 = uniform(0, 1)\n",
        "    p_leave = self.alpha_n() + 3*self.beta_n()\n",
        "    p_s5 = self.alpha_n() / (self.alpha_n() + 3*self.beta_n())\n",
        "    if random_1 > p_leave:\n",
        "      return False  # Stay in state 1\n",
        "    if random_2 <= p_s5:\n",
        "      self.state = 5\n",
        "    else:\n",
        "      self.state = 3\n",
        "    return True\n",
        "\n",
        "  def state_5_transition(self):\n",
        "    random_1 = uniform(0, 1)\n",
        "    if random_1 <= 4*self.beta_n():\n",
        "      self.state = 4\n",
        "      return True\n",
        "    return False\n",
        "\n",
        "  def P(self):\n",
        "    if self.state == 5:\n",
        "      return 1\n",
        "    else:\n",
        "      return 0\n",
        "\n",
        "  def next_state(self):\n",
        "    if self.state == 1:\n",
        "      self.state_1_transition()\n",
        "    elif self.state ==  2:\n",
        "      self.state_2_transition()\n",
        "    elif self.state == 3:\n",
        "      self.state_3_transition()\n",
        "    elif self.state == 4:\n",
        "      self.state_4_transition()\n",
        "    elif self.state ==  5:\n",
        "      self.state_5_transition()\n",
        "    return self.P()\n",
        "\n",
        "  def go_stochastic(self, t_max=0, delta_t=0):\n",
        "    self.delta_t = delta_t\n",
        "    t = delta_t\n",
        "    on_off = []\n",
        "    while t <= t_max:\n",
        "      on_off.append(self.P())\n",
        "      self.next_state()\n",
        "      t += delta_t\n",
        "    return on_off\n",
        "\n",
        "channel = StochasticKChannel(initial_state=1, voltage=10)\n",
        "print(\"initial: {}\".format(channel.state))\n",
        "channel.next_state()\n",
        "print(\"after one move: {}\".format(channel.state))"
      ]
    },
    {
      "cell_type": "markdown",
      "source": [
        "## 1.2) Trying out the Stochastic time relation"
      ],
      "metadata": {
        "id": "okIlKpnijiOR"
      }
    },
    {
      "cell_type": "code",
      "source": [
        "t_max   = 20      # 20 mS\n",
        "delta_t = 0.01\n",
        "channel = StochasticKChannel(initial_state=1, voltage=-100)\n",
        "output_i = channel.go_stochastic(t_max=20, delta_t=delta_t)\n",
        "\n",
        "channel = StochasticKChannel(initial_state=1, voltage=10)\n",
        "output_ii = channel.go_stochastic(t_max=60, delta_t=delta_t)\n",
        "\n",
        "channel = StochasticKChannel(initial_state=1, voltage=-100)\n",
        "output_iii = channel.go_stochastic(t_max=20, delta_t=delta_t)\n",
        "\n",
        "outputs = output_i + output_ii + output_iii\n",
        "\n",
        "\n",
        "plt.plot(outputs)\n",
        "plt.show()"
      ],
      "metadata": {
        "colab": {
          "base_uri": "https://localhost:8080/",
          "height": 265
        },
        "id": "pdAxvfwhjmSq",
        "outputId": "d3181a1c-4b11-4f66-b198-32eea75629bf"
      },
      "execution_count": null,
      "outputs": [
        {
          "output_type": "display_data",
          "data": {
            "text/plain": [
              "<Figure size 432x288 with 1 Axes>"
            ],
            "image/png": "[encoded data removed]"
          },
          "metadata": {
            "needs_background": "light"
          }
        }
      ]
    },
    {
      "cell_type": "markdown",
      "source": [
        "### 1.3) Defining a population class"
      ],
      "metadata": {
        "id": "W4JURHs728t1"
      }
    },
    {
      "cell_type": "code",
      "source": [
        "class StochasticPopulation:\n",
        "  def __init__(self, k_population=[], na_population=[], initial_voltage=0, delta_t=0):\n",
        "    self.k_population = k_population\n",
        "    self.na_population = na_population\n",
        "    self.voltage = initial_voltage\n",
        "    self.delta_t = delta_t\n",
        "    for channel in (self.k_population + self.na_population):\n",
        "        channel.update_voltage(self.voltage)\n",
        "        channel.update_delta_t(self.delta_t)\n",
        "\n",
        "  def go_stochastic(self, t_max=0):\n",
        "    t = 0\n",
        "    on_off_k = []\n",
        "    on_off_na = []\n",
        "    while t <= t_max:\n",
        "      open_k_channels = 0\n",
        "      open_na_channels = 0\n",
        "      for k_channel in self.k_population:\n",
        "        open_k_channels += k_channel.next_state()\n",
        "      for na_channel in self.na_population:\n",
        "        open_na_channels += na_channel.next_state()\n",
        "      if len(self.k_population) != 0:\n",
        "        mean_open_k = open_k_channels / len(self.k_population)\n",
        "        on_off_k.append(mean_open_k)\n",
        "      if len(self.na_population) != 0:\n",
        "        mean_open_na = open_na_channels / len(self.na_population)\n",
        "        on_off_na.append(mean_open_na)\n",
        "      # Update voltage here using current calculated from above\n",
        "      t += delta_t\n",
        "    return on_off_k, on_off_na\n"
      ],
      "metadata": {
        "id": "qq4x-6tf3AjF"
      },
      "execution_count": null,
      "outputs": []
    },
    {
      "cell_type": "markdown",
      "source": [
        "## 1.4) Calculating and plotting the variance over different populations (k)\n",
        "We also plot the ON/OFF mean of channels (against the n(inf) which is our expec ted mean).   "
      ],
      "metadata": {
        "id": "VFCcVk38hR4H"
      }
    },
    {
      "cell_type": "code",
      "source": [
        "def alpha_n(voltage):\n",
        "  alpha = (0.01* (voltage +  55)) / (1 - np.exp(-0.1 * (voltage + 55) ))\n",
        "  # print(\"Alpha: {}\".format(alpha))\n",
        "  return alpha\n",
        "\n",
        "def beta_n(voltage):\n",
        "  beta = 0.125 * np.exp(-0.0125 * (voltage + 65) )\n",
        "  # print(\"Beta: {}\".format(beta))\n",
        "  return beta\n",
        "\n",
        "def n_inf(voltage):\n",
        "  n_inf = alpha_n(voltage) / (alpha_n(voltage) + beta_n(voltage))\n",
        "  return n_inf\n",
        "\n",
        "def tao(voltage):\n",
        "  return 1 / (alpha_n(voltage) + beta_n(voltage))\n",
        "\n",
        "voltage = 10\n",
        "delta_t = 0.01\n",
        "\n",
        "k_population = [StochasticKChannel(initial_state=1) for x in range(100)]\n",
        "stochastic_pop = StochasticPopulation(k_population=k_population, initial_voltage=voltage, delta_t=delta_t)\n",
        "avgs_100 = stochastic_pop.go_stochastic(t_max=20)[0]\n",
        "\n",
        "n_inf_line = [n_inf(10)**4 for x in range(len(avgs_100))]\n",
        "\n",
        "ns = np.arange(1,200, 5)\n",
        "variances = []\n",
        "for n in ns:  \n",
        "  outputs = []\n",
        "  k_population = [StochasticKChannel(initial_state=1) for x in range(n)]\n",
        "  stochastic_pop = StochasticPopulation(k_population=k_population, initial_voltage=voltage, delta_t=delta_t)\n",
        "  avgs = stochastic_pop.go_stochastic(t_max=20)[0]\n",
        "  variances.append(np.var(avgs[1000:]))\n",
        "\n",
        "n_inf_line = [n_inf(10)**4 for x in range(len(avgs))]\n",
        "expected_varaince = [variances[0]/N for N in range(200)] \n",
        "\n",
        "# Plotting\n",
        "figure(figsize=(10,8))\n",
        "plt.subplot(1,2,1)\n",
        "plt.plot(avgs)\n",
        "plt.plot(n_inf_line)\n",
        "\n",
        "plt.subplot(1,2,2)\n",
        "plt.plot(ns, variances)\n",
        "plt.plot(range(200), expected_varaince, ls=\":\", c=\"k\")"
      ],
      "metadata": {
        "id": "l74urgWhJ9qd",
        "colab": {
          "base_uri": "https://localhost:8080/",
          "height": 501
        },
        "outputId": "459d171b-9efa-4202-d052-8a1ca6459476"
      },
      "execution_count": null,
      "outputs": [
        {
          "output_type": "execute_result",
          "data": {
            "text/plain": [
              "[<matplotlib.lines.Line2D at 0x7f934720abb0>]"
            ]
          },
          "metadata": {},
          "execution_count": 17
        },
        {
          "output_type": "display_data",
          "data": {
            "text/plain": [
              "<Figure size 720x576 with 2 Axes>"
            ],
            "image/png": "[encoded data removed]"
          },
          "metadata": {
            "needs_background": "light"
          }
        }
      ]
    },
    {
      "cell_type": "markdown",
      "source": [
        "## 2) Defining the Sodium channel object"
      ],
      "metadata": {
        "id": "0Gq8o3TbbGzm"
      }
    },
    {
      "cell_type": "code",
      "source": [
        "class StochasticNAChannel:\n",
        "  k1_rate = 0.24        # 1/ms\n",
        "  k3_rate = 1.5         # 1/ms\n",
        "  k2_rate = 0.4         # 1/ms\n",
        "\n",
        "  def __init__(self, initial_state=1, voltage=-50, delta_t=0.1):\n",
        "    self.state = initial_state\n",
        "    self.voltage = voltage\n",
        "    self.delta_t = delta_t\n",
        "\n",
        "  def update_voltage(self, voltage):\n",
        "    self.voltage = voltage\n",
        "\n",
        "  def update_delta_t(self, delta_t):\n",
        "    self.delta_t = delta_t\n",
        "\n",
        "  def alpha_m(self):\n",
        "    alpha = (0.1* (self.voltage +  40)) / (1 - np.exp(-0.1 * (self.voltage + 40) ))\n",
        "    return alpha * self.delta_t\n",
        "\n",
        "  def beta_m(self):\n",
        "    beta = 4 * np.exp(-0.0556 * (self.voltage + 65) )\n",
        "    return beta * self.delta_t\n",
        "\n",
        "  def alpha_h(self):\n",
        "    alpha = 0.07*np.exp(-0.05 * (self.voltage + 65))\n",
        "    return alpha * self.delta_t\n",
        "\n",
        "  def beta_h(self):\n",
        "    beta = 1 / (1 + np.exp(-0.1 * (self.voltage + 35) ))\n",
        "    return beta * self.delta_t\n",
        "\n",
        "  def k1(self):\n",
        "    return self.k1_rate * self.delta_t\n",
        "\n",
        "  def k2(self):\n",
        "    return self.k2_rate * self.delta_t\n",
        "  \n",
        "  def k3(self):\n",
        "    return self.k3_rate * self.delta_t\n",
        "\n",
        "  def state_1_transition(self):\n",
        "    \"\"\"\n",
        "      Probability to leave and go to S2: 3*alpha_m\n",
        "    \"\"\"\n",
        "    random_1 = uniform(0, 1)\n",
        "    p_leave = 3*self.alpha_m()\n",
        "    # print(\"Prob to leave state 1: {} (rand: {})\".format(p_leave, random_1))\n",
        "    if random_1 <= p_leave:\n",
        "      self.state = 2\n",
        "      return True\n",
        "    return False\n",
        "\n",
        "  def state_2_transition(self):\n",
        "    \"\"\"\n",
        "      Probability to leave: 3*alpha_n + beta_n\n",
        "      Probability to go to S3: 3*alpha_n / (3*alpha_n + beta_n)\n",
        "      Probability to go to S1: 1- (3*alpha_n / (3*alpha_n + beta_n))\n",
        "    \"\"\"\n",
        "    random_1 = uniform(0, 1)\n",
        "    p_leave = 2*self.alpha_m() + self.beta_m() + self.k1()\n",
        "    if random_1 > p_leave:\n",
        "      return False                                            # Stay in state 2\n",
        "    p_s3 = 2*self.alpha_m() / p_leave\n",
        "    p_s1 = (self.beta_m() + 2*self.alpha_m()) / p_leave\n",
        "    random_2 = uniform(0, 1)\n",
        "    if random_2 <= p_s3:\n",
        "      self.state = 3\n",
        "    elif random_2 <= p_s1:\n",
        "      self.state = 1\n",
        "    else:\n",
        "      self.state = 5\n",
        "    return True\n",
        "\n",
        "  def state_3_transition(self):\n",
        "    random_1 = uniform(0, 1)\n",
        "    p_leave = self.alpha_m() + 2*self.beta_m() + self.k2()\n",
        "    if random_1 > p_leave:\n",
        "      return False                                             # Stay in state 3\n",
        "    p_s4 = self.alpha_m() / p_leave\n",
        "    p_s2 = (2*self.beta_m() + self.alpha_m()) / p_leave\n",
        "    random_2 = uniform(0, 1)\n",
        "    if random_2 <= p_s4:\n",
        "      self.state = 4\n",
        "    elif random_2 <= p_s2:\n",
        "      self.state = 2\n",
        "    else:\n",
        "      self.state = 5\n",
        "    return True\n",
        "\n",
        "  def state_4_transition(self):\n",
        "    random_1 = uniform(0, 1)\n",
        "    p_leave = self.k3() + 3*self.beta_m()\n",
        "    if random_1 > p_leave:\n",
        "      return False                                             # Stay in state 1\n",
        "    random_2 = uniform(0, 1)\n",
        "    p_s5 = self.k3() / p_leave\n",
        "    if random_2 <= p_s5:\n",
        "      self.state = 5\n",
        "    else:\n",
        "      self.state = 3\n",
        "    return True\n",
        "\n",
        "  def state_5_transition(self):\n",
        "    random_1 = uniform(0, 1)\n",
        "    if random_1 <= self.alpha_h():\n",
        "      self.state = 3\n",
        "      return True\n",
        "    return False\n",
        "\n",
        "  def P(self):\n",
        "    if self.state == 4:\n",
        "      return 1\n",
        "    else:\n",
        "      return 0\n",
        "\n",
        "  def next_state(self):\n",
        "    if self.state == 1:\n",
        "      self.state_1_transition()\n",
        "    elif self.state ==  2:\n",
        "      self.state_2_transition()\n",
        "    elif self.state == 3:\n",
        "      self.state_3_transition()\n",
        "    elif self.state == 4:\n",
        "      self.state_4_transition()\n",
        "    elif self.state ==  5:\n",
        "      self.state_5_transition()\n",
        "    return self.P()\n",
        "\n",
        "  def go_stochastic(self, t_max=0, delta_t=0):\n",
        "    self.delta_t = delta_t\n",
        "    t = delta_t\n",
        "    on_off = []\n",
        "    while t <= t_max:\n",
        "      on_off.append(self.P())\n",
        "      self.next_state()\n",
        "      t += delta_t\n",
        "    return on_off\n",
        "\n",
        "channel = StochasticNAChannel(initial_state=1, voltage=10, delta_t=0.01)\n",
        "print(\"initial: {}\".format(channel.state))\n",
        "channel.next_state()\n",
        "print(\"after one transition: {}\".format(channel.state))\n",
        "\n",
        "# Do we need to distinguish between closed and inactive states?\n"
      ],
      "metadata": {
        "colab": {
          "base_uri": "https://localhost:8080/"
        },
        "id": "g1WGgi8yfTtR",
        "outputId": "c72f449c-2fe6-43bf-8b2b-9d3570c94076"
      },
      "execution_count": null,
      "outputs": [
        {
          "output_type": "stream",
          "name": "stdout",
          "text": [
            "initial: 1\n",
            "after one transition: 1\n"
          ]
        }
      ]
    },
    {
      "cell_type": "markdown",
      "source": [
        "#### 2.1) Calculating and plotting the behaviour of one NA channel"
      ],
      "metadata": {
        "id": "_u5wMYsYlWP9"
      }
    },
    {
      "cell_type": "code",
      "source": [
        "t_max   = 20      # 20 mS\n",
        "delta_t = 0.001\n",
        "channel = StochasticNAChannel(initial_state=1, voltage=-100)\n",
        "output_i = channel.go_stochastic(t_max=20, delta_t=delta_t)\n",
        "\n",
        "channel = StochasticNAChannel(initial_state=1, voltage=10)\n",
        "output_ii = channel.go_stochastic(t_max=60, delta_t=delta_t)\n",
        "\n",
        "channel = StochasticNAChannel(initial_state=1, voltage=-100)\n",
        "output_iii = channel.go_stochastic(t_max=20, delta_t=delta_t)\n",
        "\n",
        "outputs = output_i + output_ii + output_iii\n",
        "\n",
        "def alpha_m(voltage):\n",
        "  alpha = (0.1* (voltage +  40)) / (1 - np.exp(-0.1 * (voltage + 40) ))\n",
        "  # print(\"Alpha: {}\".format(alpha))\n",
        "  return alpha\n",
        "\n",
        "def beta_m(voltage):\n",
        "  beta = 4 * np.exp(-0.0556 * (voltage + 65) )\n",
        "  # print(\"Beta: {}\".format(beta))\n",
        "  return beta\n",
        "\n",
        "def alpha_h(voltage):\n",
        "  alpha = 0.07*np.exp(-0.05 * (voltage + 65))\n",
        "  # print(\"Alpha: {}\".format(alpha))\n",
        "  return alpha\n",
        "  \n",
        "def beta_h(voltage):\n",
        "  beta = 1 / (1 + np.exp(-0.1 * (voltage + 35) ))\n",
        "  # print(\"Beta: {}\".format(beta))\n",
        "  return beta\n",
        "\n",
        "def m_inf(voltage):\n",
        "  m_inf = alpha_m(voltage) / (alpha_m(voltage) + beta_m(voltage))\n",
        "  return m_inf\n",
        "\n",
        "def tao_m(voltage):\n",
        "  return 1 / (alpha_m(voltage) + beta_m(voltage))\n",
        "\n",
        "def h_inf(voltage):\n",
        "  h_inf = alpha_h(voltage) / (alpha_h(voltage) + beta_h(voltage))\n",
        "  return h_inf\n",
        "\n",
        "def tao_h(voltage):\n",
        "  return 1 / (alpha_h(voltage) + beta_h(voltage))\n",
        "\n",
        "expected_mean=[m_inf(10)**3*h_inf(10) for x in range(100000)]\n",
        "mean=np.mean(outputs)\n",
        "mean_calculated=[mean for x in range(100000)]\n",
        "print(f'calculated mean = {mean}')\n",
        "print(f'expected mean = {expected_mean[0]}')\n",
        "\n",
        "#I think the difference in means is quite large but then again I am not sure as it changes every time\n",
        "#sometimes we have good numbers and other times our prediction is larger than the expected one\n",
        "plt.plot(outputs)\n",
        "plt.plot(expected_mean, ls='--', c='k')\n",
        "plt.plot(mean_calculated)\n",
        "#plt.plot(tao_h)\n",
        "plt.show()\n",
        "print(tao_h(-10))"
      ],
      "metadata": {
        "id": "hBxZ-r0akuZh",
        "colab": {
          "base_uri": "https://localhost:8080/",
          "height": 320
        },
        "outputId": "2aae5b37-d170-4875-c951-c7a43c6ce6a0"
      },
      "execution_count": null,
      "outputs": [
        {
          "output_type": "stream",
          "name": "stdout",
          "text": [
            "calculated mean = 0.0008000160003200064\n",
            "expected mean = 0.0016020252408374166\n"
          ]
        },
        {
          "output_type": "display_data",
          "data": {
            "text/plain": [
              "<Figure size 432x288 with 1 Axes>"
            ],
            "image/png": "[encoded data removed]"
          },
          "metadata": {
            "needs_background": "light"
          }
        },
        {
          "output_type": "stream",
          "name": "stdout",
          "text": [
            "1.0768704938599587\n"
          ]
        }
      ]
    },
    {
      "cell_type": "markdown",
      "source": [
        "#### 2.2) Variance, mean for a population of NA channels"
      ],
      "metadata": {
        "id": "lAjXmyA9lusT"
      }
    },
    {
      "cell_type": "code",
      "source": [
        "def alpha_m(voltage):\n",
        "  alpha = (0.1* (voltage +  40)) / (1 - np.exp(-0.1 * (voltage + 40) ))\n",
        "  # print(\"Alpha: {}\".format(alpha))\n",
        "  return alpha\n",
        "\n",
        "def beta_m(voltage):\n",
        "  beta = 4 * np.exp(-0.0556 * (voltage + 65) )\n",
        "  # print(\"Beta: {}\".format(beta))\n",
        "  return beta\n",
        "\n",
        "def alpha_h(voltage):\n",
        "  alpha = 0.07*np.exp(-0.05 * (voltage + 65))\n",
        "  # print(\"Alpha: {}\".format(alpha))\n",
        "  return alpha\n",
        "  \n",
        "def beta_h(voltage):\n",
        "  beta = 1 / (1 + np.exp(-0.1 * (voltage + 35) ))\n",
        "  # print(\"Beta: {}\".format(beta))\n",
        "  return beta\n",
        "\n",
        "def m_inf(voltage):\n",
        "  m_inf = alpha_m(voltage) / (alpha_m(voltage) + beta_m(voltage))\n",
        "  return m_inf\n",
        "\n",
        "def tao_m(voltage):\n",
        "  return 1 / (alpha_m(voltage) + beta_m(voltage))\n",
        "\n",
        "def h_inf(voltage):\n",
        "  h_inf = alpha_h(voltage) / (alpha_h(voltage) + beta_h(voltage))\n",
        "  return h_inf\n",
        "\n",
        "def tao_h(voltage):\n",
        "  return 1 / (alpha_h(voltage) + beta_h(voltage))\n",
        "\n",
        "voltage = -60\n",
        "delta_t = 0.01\n",
        "\n",
        "na_population = [StochasticNAChannel(initial_state=1) for x in range(100)]\n",
        "stochastic_pop = StochasticPopulation(na_population=na_population, initial_voltage=voltage, delta_t=delta_t)\n",
        "avgs_100 = stochastic_pop.go_stochastic(t_max=20)[1]\n",
        "\n",
        "ns = np.arange(1,101, 1)\n",
        "variances = []\n",
        "for n in ns:  \n",
        "  outputs = []\n",
        "  na_population = [StochasticNAChannel(initial_state=1) for x in range(n)]\n",
        "  stochastic_pop = StochasticPopulation(na_population=na_population, initial_voltage=voltage, delta_t=delta_t)\n",
        "  avgs = stochastic_pop.go_stochastic(t_max=20)[1]\n",
        "  variances.append(np.var(avgs[1000:]))\n",
        "\n",
        "mh_inf_line = [m_inf(voltage)**3*h_inf(voltage) for x in range(len(avgs))]\n",
        "expected_varaince = [variances[0]/N for N in range(100)] \n",
        "\n",
        "# Plotting\n",
        "figure(figsize=(10,8))\n",
        "plt.subplot(1,2,1)\n",
        "plt.plot(avgs)\n",
        "plt.plot(mh_inf_line)\n",
        "\n",
        "plt.subplot(1,2,2)\n",
        "plt.plot(ns, variances)\n",
        "plt.plot(range(100), expected_varaince, ls=\":\", c=\"k\")\n",
        "plt.show()\n"
      ],
      "metadata": {
        "colab": {
          "base_uri": "https://localhost:8080/",
          "height": 483
        },
        "id": "swXhy5dqrAEJ",
        "outputId": "7d2921a5-a359-43bc-b0bf-a966a13c3a1b"
      },
      "execution_count": null,
      "outputs": [
        {
          "output_type": "display_data",
          "data": {
            "text/plain": [
              "<Figure size 720x576 with 2 Axes>"
            ],
            "image/png": "[encoded data removed]"
          },
          "metadata": {
            "needs_background": "light"
          }
        }
      ]
    },
    {
      "cell_type": "code",
      "source": [
        "\n",
        "voltage = 10\n",
        "delta_t = 0.01\n",
        "ns = [50,100,200,500,600]\n",
        "variances = []\n",
        "for n in ns:  \n",
        "  outputs = []\n",
        "  for x in range(n):\n",
        "    channel = StochasticKChannel(initial_state=1, voltage=voltage)\n",
        "    outputs.append(channel.go_stochastic(t_max=60, delta_t=delta_t))\n",
        "  avgs = np.mean(np.array(outputs), axis=0)\n",
        "  variances.append(np.var(avgs))\n",
        "\n",
        "n_inf_line = [n_inf(10)**4 for x in range(int(t_max/delta_t))]\n",
        "expected_varaince = [variances[0]/N for N in range(100)] \n",
        "plt.plot(ns, variances)\n",
        "plt.plot(range(100), expected_varaince, ls=\":\", c=\"k\")\n",
        "tao(voltage)"
      ],
      "metadata": {
        "colab": {
          "base_uri": "https://localhost:8080/",
          "height": 283
        },
        "id": "2Fr9i_fMTeG2",
        "outputId": "e1ce66a5-9af1-4fda-d974-dcd3e0b2b50c"
      },
      "execution_count": null,
      "outputs": [
        {
          "output_type": "execute_result",
          "data": {
            "text/plain": [
              "1.4287155038424852"
            ]
          },
          "metadata": {},
          "execution_count": 13
        },
        {
          "output_type": "display_data",
          "data": {
            "text/plain": [
              "<Figure size 432x288 with 1 Axes>"
            ],
            "image/png": "[encoded data removed]"
          },
          "metadata": {
            "needs_background": "light"
          }
        }
      ]
    },
    {
      "cell_type": "code",
      "source": [],
      "metadata": {
        "id": "FD26fAkRNdcN"
      },
      "execution_count": null,
      "outputs": []
    }
  ]
}