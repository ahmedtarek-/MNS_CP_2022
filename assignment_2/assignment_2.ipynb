{
 "cells": [
  {
   "cell_type": "markdown",
   "id": "b53026a8-937a-41a8-85b7-31bb762e1e4a",
   "metadata": {},
   "source": [
    "# Assignment 2 (Hopfield Network)\n",
    "\n",
    "## 1) Storing the weights"
   ]
  },
  {
   "cell_type": "code",
   "execution_count": 27,
   "id": "91f23543-1b84-4b35-aafd-b285303a92b0",
   "metadata": {},
   "outputs": [
    {
     "name": "stdout",
     "output_type": "stream",
     "text": [
      "====================\n",
      "Input Pattern: [1, -1, 1, -1]\n",
      "Current states after this pattern: [1, -1, 1, -1]\n",
      "stable: True\n",
      "====================\n",
      "Input Pattern: [-1, 1, 1, 1]\n",
      "Current states after this pattern: [-1, 1, -1, 1]\n",
      "stable: False\n",
      "====================\n",
      "Input Pattern: [-1, -1, -1, 1]\n",
      "Current states after this pattern: [-1, 1, -1, 1]\n",
      "stable: False\n"
     ]
    },
    {
     "data": {
      "text/plain": [
       "[[1, -1, 1, -1]]"
      ]
     },
     "execution_count": 27,
     "metadata": {},
     "output_type": "execute_result"
    }
   ],
   "source": [
    "import numpy as np\n",
    "import pandas as pd\n",
    "import random\n",
    "\n",
    "class HopfieldNetwork:\n",
    "    \"\"\"\n",
    "    Generic network, initiate with array of patterns\n",
    "    number_of_weights = (n*(n-1))/2\n",
    "    \"\"\"\n",
    "    def __init__(self, patterns):\n",
    "        self.energies = []\n",
    "        self.patterns = patterns\n",
    "        self.patterns_matrix = np.array(patterns)\n",
    "        self.weights = self.evaluate_weights()\n",
    "        self.stable_patterns = self.evaluate_stable_patterns()\n",
    "        self.current_states = []\n",
    "\n",
    "    # def initiate_weights(self):\n",
    "    #     \"\"\"\n",
    "    #     Initializes the basic structure of the weights dict\n",
    "    #     which would something like this\n",
    "    #       {\"1,2\": 0, \"1,3\": 0, \"2,3\": 0}\n",
    "    #       where each key is a connection between two states\n",
    "    #       ex. \"1,2\" is weight of connection between state 1 and 2\n",
    "    #     \"\"\"\n",
    "    #     n = len(self.patterns[0])\n",
    "    #     weights = {}\n",
    "    #     for index in range(n):\n",
    "    #         first_index = index + 1 # to make the 0 become 1 and so on\n",
    "    #         second_index = first_index + 1\n",
    "    #         while second_index <= n:\n",
    "    #             weight_id = \"{},{}\".format(first_index, second_index)\n",
    "    #             weights[weight_id] = \"yoo\"\n",
    "    #             second_index = second_index + 1\n",
    "    #     return weights\n",
    "\n",
    "    # def calculate_weight_from_patterns(self,unit_1_index, unit_2_index):\n",
    "    #     \"\"\"\n",
    "    #     Given two indices i, j\n",
    "    #     loop over the different patterns and calculate the weight of the\n",
    "    #     connection ij.\n",
    "    #     \"\"\"\n",
    "    #     multiplicants = [pattern[unit_1_index] * pattern[unit_2_index] for pattern in self.patterns]\n",
    "    #     return np.array(multiplicants).sum()\n",
    "\n",
    "    def evaluate_weights(self):\n",
    "        \"\"\"\n",
    "        Evaluate weights of the network based on self.patterns\n",
    "        This is done by looping through all (n*(n-1))/2 connections of the\n",
    "        network (where n is number of states). For each connection we get the\n",
    "        i, j indices and calculate the weight for it.\n",
    "        \"\"\"\n",
    "        # weights = self.initiate_weights()\n",
    "        # print(self.patterns)\n",
    "        # print(weights)\n",
    "        # for weight_key in weights.keys():\n",
    "        #     unit_1_index = int(weight_key.split(\",\")[0]) - 1\n",
    "        #     unit_2_index = int(weight_key.split(\",\")[1]) - 1\n",
    "        #     calculated_weight = self.calculate_weight_from_patterns(unit_1_index, unit_2_index)\n",
    "        #     weights[weight_key] = calculated_weight\n",
    "        weights_matrix = np.dot(self.patterns_matrix.transpose(), self.patterns_matrix)\n",
    "        np.fill_diagonal(weights_matrix, 0)\n",
    "        return weights_matrix\n",
    "\n",
    "    def state_update(self, state_index):\n",
    "        \"\"\"\n",
    "        Updates the state of the given state (by index) using the pattern given.\n",
    "        The value of each connected state is fetched and multiplied by the weight\n",
    "        of the connection between these two states.\n",
    "        Then a sum of these multipels is returned.\n",
    "        \"\"\"\n",
    "        # current_state_index = str(state_index + 1)\n",
    "        # relevant_weights = {k: v for k, v in self.weights.items() if current_state_index in k.split(\",\")}\n",
    "        # multiplications = []\n",
    "        # for relevant_weight_key, relevant_weight_value in relevant_weights.items():\n",
    "        #     other_state = [idx for idx in relevant_weight_key.split(\",\") if idx != current_state_index][0]\n",
    "        #     other_state_index = int(other_state) - 1\n",
    "        #     multiplications.append(self.current_states[other_state_index] * relevant_weight_value)\n",
    "        # return np.sign(np.array(multiplications).sum())\n",
    "        return np.sign(np.dot(self.weights[state_index], self.current_states))\n",
    "    \n",
    "    def calculate_energy(self):\n",
    "        \"\"\"\n",
    "        Calculates the intermediate energy of state in a pattern\n",
    "        by multiplying each weight with the i_th and j_th states\n",
    "        \"\"\"\n",
    "        # sum_per_state = []\n",
    "        # for state_index in range(len(self.current_states)):\n",
    "        #     current_state_index = str(state_index+1)\n",
    "        #     relevant_weights = {k: v for k, v in self.weights.items() if current_state_index in k.split(\",\")}\n",
    "        #     energy_multiples = []\n",
    "        #     for relevant_weight_key, relevant_weight_value in relevant_weights.items():\n",
    "        #         other_state = [idx for idx in relevant_weight_key.split(\",\") if idx != current_state_index][0]\n",
    "        #         other_state_index = int(other_state) - 1\n",
    "        #         energy_multiples.append(relevant_weight_value * self.current_states[state_index] * self.current_states[other_state_index])\n",
    "        #     sum_per_state.append(np.array(energy_multiples).sum())\n",
    "        # return np.array(sum_per_state).sum() * -1\n",
    "        return np.dot(\n",
    "    \n",
    "    def evaulate_pattern_stability(self, pattern, log=False):\n",
    "        \"\"\"\n",
    "        Returns True if every state is stable for this pattern\n",
    "        False otherwise\n",
    "        \"\"\"\n",
    "        print(\"====================\")\n",
    "        print(\"Input Pattern: {}\".format(pattern))\n",
    "        state_energies = []\n",
    "        self.current_states = pattern.copy()\n",
    "        for state_index in random.sample(range(len(pattern)), len(pattern)):\n",
    "            updated_state_value = self.state_update(state_index)\n",
    "            energy = self.calculate_energy()\n",
    "            state_energies.append(energy)\n",
    "            print(\"energy after updating state {}: {}\".format(state_index+1, energy))\n",
    "            self.current_states[state_index] = updated_state_value\n",
    "        print(\"Current states after this pattern: {}\".format(self.current_states))\n",
    "        matched = self.current_states == pattern\n",
    "        print(\"stable: {}\".format(matched))\n",
    "        return [matched, state_energies]\n",
    "\n",
    "    def evaluate_stable_patterns(self):\n",
    "        \"\"\"\n",
    "        Goes through the network and calculates which states are stable.\n",
    "        \"\"\"\n",
    "        stable_patterns = []\n",
    "        for pattern in self.patterns:\n",
    "            if self.evaulate_pattern_stability(pattern)[0]:\n",
    "                stable_patterns.append(pattern)\n",
    "        return stable_patterns\n",
    "    \n",
    "    def calculate_energies(self, pattern):\n",
    "        \"\"\"\n",
    "        Returns energies calculated while updating the states\n",
    "        of the network based on the given pattern.\n",
    "        \"\"\"\n",
    "        stable, energies = self.evaulate_pattern_stability(pattern, log=True)\n",
    "        return energies\n",
    "\n",
    "pattern_1 = [1, -1, 1, -1]\n",
    "pattern_2 = [-1, 1, 1, 1]\n",
    "pattern_3 = [-1, -1, -1, 1]\n",
    "\n",
    "patterns = [pattern_1, pattern_2, pattern_3]\n",
    "hopfield_network = HopfieldNetwork(patterns)\n",
    "hopfield_network.stable_patterns\n",
    "\n",
    "# x = np.array(patterns)\n",
    "# weights = np.dot(x.transpose(), x)\n",
    "# np.fill_diagonal(weights, 0)\n",
    "# np.dot(weights[0], np.array(pattern_1).transpose())"
   ]
  },
  {
   "cell_type": "markdown",
   "id": "015cf7cc-b0b1-4e20-90d1-eee3caeb1b01",
   "metadata": {},
   "source": [
    "### Summary\n",
    "\n",
    "Only the pattern [1, -1, 1, -1] **(pattern A)** is stable. Tested this by \n",
    "1. Updating the state for each unit using the given function\n",
    "2. Tested if the \"pattern state\" matches the \"evaluated state\"\n",
    "3. If 2 is True for all states, then a pattern is stable"
   ]
  },
  {
   "cell_type": "markdown",
   "id": "616bd2fd-d1c8-4b32-a118-b9ab323f4e68",
   "metadata": {},
   "source": [
    "### 2) What does the network converge to in states A/B/C\n",
    "\n",
    "- **Pattern A** remains itself\n",
    "- **Pattern B** changes to [-1, 1, -1, 1]\n",
    "- **Pattern C** changes to [-1, 1, -1, 1]"
   ]
  },
  {
   "cell_type": "code",
   "execution_count": 5,
   "id": "b9541d82-5cad-42ad-8b73-beb1f376497c",
   "metadata": {},
   "outputs": [
    {
     "name": "stdout",
     "output_type": "stream",
     "text": [
      "====================\n",
      "Input Pattern: [1, -1, 1, -1]\n",
      "Current states after this pattern: [1, -1, 1, -1]\n",
      "stable: True\n",
      "====================\n",
      "Input Pattern: [-1, 1, 1, 1]\n",
      "Current states after this pattern: [-1, 1, -1, 1]\n",
      "stable: False\n",
      "====================\n",
      "Input Pattern: [-1, -1, -1, 1]\n",
      "Current states after this pattern: [-1, 1, -1, 1]\n",
      "stable: False\n"
     ]
    },
    {
     "data": {
      "image/png": "[encoded data removed]",
      "text/plain": [
       "<Figure size 432x288 with 1 Axes>"
      ]
     },
     "metadata": {
      "needs_background": "light"
     },
     "output_type": "display_data"
    }
   ],
   "source": [
    "import matplotlib.pyplot as plt\n",
    "  \n",
    "pattern_1_energies = hopfield_network.calculate_energies(pattern_1)\n",
    "pattern_2_energies = hopfield_network.calculate_energies(pattern_2)\n",
    "pattern_3_energies = hopfield_network.calculate_energies(pattern_3)\n",
    "\n",
    "t = [1,2,3,4]\n",
    "\n",
    "plt.plot(t, pattern_1_energies, label = \"Pattern 1 energies\")\n",
    "plt.plot(t, pattern_2_energies, label = \"Pattern 2 energies\")\n",
    "plt.plot(t, pattern_3_energies, label = \"Pattern 3 energies\")\n",
    "plt.legend()\n",
    "plt.show()\n"
   ]
  },
  {
   "cell_type": "markdown",
   "id": "db37d614-01be-48d6-9710-400e28445690",
   "metadata": {},
   "source": [
    "### 3) Loading images and using hopfield network on it"
   ]
  },
  {
   "cell_type": "code",
   "execution_count": 6,
   "id": "43a17dfc-6ff3-4658-ace6-0d19d8c3e8b8",
   "metadata": {},
   "outputs": [
    {
     "data": {
      "image/png": "[encoded data removed]",
      "text/plain": [
       "<Figure size 864x288 with 8 Axes>"
      ]
     },
     "metadata": {
      "needs_background": "light"
     },
     "output_type": "display_data"
    }
   ],
   "source": [
    "def plot_images(images):\n",
    "    nr_images = images.shape[0]\n",
    "    fig = plt.figure()\n",
    "    fig.set_figwidth(12)\n",
    "    for m in range(nr_images):\n",
    "        plt.subplot(1, 8, m+1)\n",
    "        plt.imshow(images[m])\n",
    "        plt.xticks([m+1])\n",
    "        plt.yticks([])\n",
    "    plt.show()\n",
    "\n",
    "images = np.load(\"images.npz\")[\"arr_0\"]\n",
    "plot_images(images)"
   ]
  },
  {
   "cell_type": "code",
   "execution_count": 8,
   "id": "dbac6b27-f9a9-47e2-a395-4c27725c4636",
   "metadata": {},
   "outputs": [
    {
     "name": "stderr",
     "output_type": "stream",
     "text": [
      "IOPub data rate exceeded.\n",
      "The Jupyter server will temporarily stop sending output\n",
      "to the client in order to avoid crashing it.\n",
      "To change this limit, set the config variable\n",
      "`--ServerApp.iopub_data_rate_limit`.\n",
      "\n",
      "Current values:\n",
      "ServerApp.iopub_data_rate_limit=1000000.0 (bytes/sec)\n",
      "ServerApp.rate_limit_window=3.0 (secs)\n",
      "\n"
     ]
    },
    {
     "name": "stdout",
     "output_type": "stream",
     "text": [
      "====================\n",
      "Input Pattern: [1. 1. 1. ... 1. 1. 1.]\n"
     ]
    },
    {
     "ename": "KeyboardInterrupt",
     "evalue": "",
     "output_type": "error",
     "traceback": [
      "\u001b[0;31m---------------------------------------------------------------------------\u001b[0m",
      "\u001b[0;31mKeyboardInterrupt\u001b[0m                         Traceback (most recent call last)",
      "\u001b[0;32m/var/folders/fg/34sg6qnn5cz5_2nn6kqrgcdc0000gn/T/ipykernel_33974/446985288.py\u001b[0m in \u001b[0;36m<module>\u001b[0;34m\u001b[0m\n\u001b[1;32m      1\u001b[0m \u001b[0mimages_vectors\u001b[0m \u001b[0;34m=\u001b[0m \u001b[0mimages\u001b[0m\u001b[0;34m.\u001b[0m\u001b[0mreshape\u001b[0m\u001b[0;34m(\u001b[0m\u001b[0;36m8\u001b[0m\u001b[0;34m,\u001b[0m \u001b[0mimages\u001b[0m\u001b[0;34m.\u001b[0m\u001b[0mshape\u001b[0m\u001b[0;34m[\u001b[0m\u001b[0;36m1\u001b[0m\u001b[0;34m]\u001b[0m\u001b[0;34m*\u001b[0m\u001b[0mimages\u001b[0m\u001b[0;34m.\u001b[0m\u001b[0mshape\u001b[0m\u001b[0;34m[\u001b[0m\u001b[0;36m2\u001b[0m\u001b[0;34m]\u001b[0m\u001b[0;34m)\u001b[0m\u001b[0;34m\u001b[0m\u001b[0;34m\u001b[0m\u001b[0m\n\u001b[0;32m----> 2\u001b[0;31m \u001b[0mhopfield_network\u001b[0m \u001b[0;34m=\u001b[0m \u001b[0mHopfieldNetwork\u001b[0m\u001b[0;34m(\u001b[0m\u001b[0;34m[\u001b[0m\u001b[0mimages_vectors\u001b[0m\u001b[0;34m[\u001b[0m\u001b[0;36m0\u001b[0m\u001b[0;34m]\u001b[0m\u001b[0;34m,\u001b[0m \u001b[0mimages_vectors\u001b[0m\u001b[0;34m[\u001b[0m\u001b[0;36m1\u001b[0m\u001b[0;34m]\u001b[0m\u001b[0;34m,\u001b[0m \u001b[0mimages_vectors\u001b[0m\u001b[0;34m[\u001b[0m\u001b[0;36m2\u001b[0m\u001b[0;34m]\u001b[0m\u001b[0;34m]\u001b[0m\u001b[0;34m)\u001b[0m\u001b[0;34m\u001b[0m\u001b[0;34m\u001b[0m\u001b[0m\n\u001b[0m\u001b[1;32m      3\u001b[0m \u001b[0mhopfield_network\u001b[0m\u001b[0;34m.\u001b[0m\u001b[0mweights\u001b[0m\u001b[0;34m\u001b[0m\u001b[0;34m\u001b[0m\u001b[0m\n",
      "\u001b[0;32m/var/folders/fg/34sg6qnn5cz5_2nn6kqrgcdc0000gn/T/ipykernel_33974/1234897684.py\u001b[0m in \u001b[0;36m__init__\u001b[0;34m(self, patterns)\u001b[0m\n\u001b[1;32m     12\u001b[0m         \u001b[0mself\u001b[0m\u001b[0;34m.\u001b[0m\u001b[0mpatterns\u001b[0m \u001b[0;34m=\u001b[0m \u001b[0mpatterns\u001b[0m\u001b[0;34m\u001b[0m\u001b[0;34m\u001b[0m\u001b[0m\n\u001b[1;32m     13\u001b[0m         \u001b[0mself\u001b[0m\u001b[0;34m.\u001b[0m\u001b[0mweights\u001b[0m \u001b[0;34m=\u001b[0m \u001b[0mself\u001b[0m\u001b[0;34m.\u001b[0m\u001b[0mevaluate_weights\u001b[0m\u001b[0;34m(\u001b[0m\u001b[0;34m)\u001b[0m\u001b[0;34m\u001b[0m\u001b[0;34m\u001b[0m\u001b[0m\n\u001b[0;32m---> 14\u001b[0;31m         \u001b[0mself\u001b[0m\u001b[0;34m.\u001b[0m\u001b[0mstable_patterns\u001b[0m \u001b[0;34m=\u001b[0m \u001b[0mself\u001b[0m\u001b[0;34m.\u001b[0m\u001b[0mevaluate_stable_patterns\u001b[0m\u001b[0;34m(\u001b[0m\u001b[0;34m)\u001b[0m\u001b[0;34m\u001b[0m\u001b[0;34m\u001b[0m\u001b[0m\n\u001b[0m\u001b[1;32m     15\u001b[0m         \u001b[0mself\u001b[0m\u001b[0;34m.\u001b[0m\u001b[0mcurrent_states\u001b[0m \u001b[0;34m=\u001b[0m \u001b[0;34m[\u001b[0m\u001b[0;34m]\u001b[0m\u001b[0;34m\u001b[0m\u001b[0;34m\u001b[0m\u001b[0m\n\u001b[1;32m     16\u001b[0m \u001b[0;34m\u001b[0m\u001b[0m\n",
      "\u001b[0;32m/var/folders/fg/34sg6qnn5cz5_2nn6kqrgcdc0000gn/T/ipykernel_33974/1234897684.py\u001b[0m in \u001b[0;36mevaluate_stable_patterns\u001b[0;34m(self)\u001b[0m\n\u001b[1;32m    119\u001b[0m         \u001b[0mstable_patterns\u001b[0m \u001b[0;34m=\u001b[0m \u001b[0;34m[\u001b[0m\u001b[0;34m]\u001b[0m\u001b[0;34m\u001b[0m\u001b[0;34m\u001b[0m\u001b[0m\n\u001b[1;32m    120\u001b[0m         \u001b[0;32mfor\u001b[0m \u001b[0mpattern\u001b[0m \u001b[0;32min\u001b[0m \u001b[0mself\u001b[0m\u001b[0;34m.\u001b[0m\u001b[0mpatterns\u001b[0m\u001b[0;34m:\u001b[0m\u001b[0;34m\u001b[0m\u001b[0;34m\u001b[0m\u001b[0m\n\u001b[0;32m--> 121\u001b[0;31m             \u001b[0;32mif\u001b[0m \u001b[0mself\u001b[0m\u001b[0;34m.\u001b[0m\u001b[0mevaulate_pattern_stability\u001b[0m\u001b[0;34m(\u001b[0m\u001b[0mpattern\u001b[0m\u001b[0;34m)\u001b[0m\u001b[0;34m[\u001b[0m\u001b[0;36m0\u001b[0m\u001b[0;34m]\u001b[0m\u001b[0;34m:\u001b[0m\u001b[0;34m\u001b[0m\u001b[0;34m\u001b[0m\u001b[0m\n\u001b[0m\u001b[1;32m    122\u001b[0m                 \u001b[0mstable_patterns\u001b[0m\u001b[0;34m.\u001b[0m\u001b[0mappend\u001b[0m\u001b[0;34m(\u001b[0m\u001b[0mpattern\u001b[0m\u001b[0;34m)\u001b[0m\u001b[0;34m\u001b[0m\u001b[0;34m\u001b[0m\u001b[0m\n\u001b[1;32m    123\u001b[0m         \u001b[0;32mreturn\u001b[0m \u001b[0mstable_patterns\u001b[0m\u001b[0;34m\u001b[0m\u001b[0;34m\u001b[0m\u001b[0m\n",
      "\u001b[0;32m/var/folders/fg/34sg6qnn5cz5_2nn6kqrgcdc0000gn/T/ipykernel_33974/1234897684.py\u001b[0m in \u001b[0;36mevaulate_pattern_stability\u001b[0;34m(self, pattern, log)\u001b[0m\n\u001b[1;32m    104\u001b[0m         \u001b[0;32mfor\u001b[0m \u001b[0mstate_index\u001b[0m \u001b[0;32min\u001b[0m \u001b[0mrandom\u001b[0m\u001b[0;34m.\u001b[0m\u001b[0msample\u001b[0m\u001b[0;34m(\u001b[0m\u001b[0mrange\u001b[0m\u001b[0;34m(\u001b[0m\u001b[0mlen\u001b[0m\u001b[0;34m(\u001b[0m\u001b[0mpattern\u001b[0m\u001b[0;34m)\u001b[0m\u001b[0;34m)\u001b[0m\u001b[0;34m,\u001b[0m \u001b[0mlen\u001b[0m\u001b[0;34m(\u001b[0m\u001b[0mpattern\u001b[0m\u001b[0;34m)\u001b[0m\u001b[0;34m)\u001b[0m\u001b[0;34m:\u001b[0m\u001b[0;34m\u001b[0m\u001b[0;34m\u001b[0m\u001b[0m\n\u001b[1;32m    105\u001b[0m             \u001b[0mupdated_state_value\u001b[0m \u001b[0;34m=\u001b[0m \u001b[0mself\u001b[0m\u001b[0;34m.\u001b[0m\u001b[0mstate_update\u001b[0m\u001b[0;34m(\u001b[0m\u001b[0mstate_index\u001b[0m\u001b[0;34m)\u001b[0m\u001b[0;34m\u001b[0m\u001b[0;34m\u001b[0m\u001b[0m\n\u001b[0;32m--> 106\u001b[0;31m             \u001b[0menergy\u001b[0m \u001b[0;34m=\u001b[0m \u001b[0mself\u001b[0m\u001b[0;34m.\u001b[0m\u001b[0mcalculate_energy\u001b[0m\u001b[0;34m(\u001b[0m\u001b[0;34m)\u001b[0m\u001b[0;34m\u001b[0m\u001b[0;34m\u001b[0m\u001b[0m\n\u001b[0m\u001b[1;32m    107\u001b[0m             \u001b[0mstate_energies\u001b[0m\u001b[0;34m.\u001b[0m\u001b[0mappend\u001b[0m\u001b[0;34m(\u001b[0m\u001b[0menergy\u001b[0m\u001b[0;34m)\u001b[0m\u001b[0;34m\u001b[0m\u001b[0;34m\u001b[0m\u001b[0m\n\u001b[1;32m    108\u001b[0m             \u001b[0;31m# print(\"energy after updating state {}: {}\".format(state_index+1, energy))\u001b[0m\u001b[0;34m\u001b[0m\u001b[0;34m\u001b[0m\u001b[0;34m\u001b[0m\u001b[0m\n",
      "\u001b[0;32m/var/folders/fg/34sg6qnn5cz5_2nn6kqrgcdc0000gn/T/ipykernel_33974/1234897684.py\u001b[0m in \u001b[0;36mcalculate_energy\u001b[0;34m(self)\u001b[0m\n\u001b[1;32m     84\u001b[0m         \u001b[0;32mfor\u001b[0m \u001b[0mstate_index\u001b[0m \u001b[0;32min\u001b[0m \u001b[0mrange\u001b[0m\u001b[0;34m(\u001b[0m\u001b[0mlen\u001b[0m\u001b[0;34m(\u001b[0m\u001b[0mself\u001b[0m\u001b[0;34m.\u001b[0m\u001b[0mcurrent_states\u001b[0m\u001b[0;34m)\u001b[0m\u001b[0;34m)\u001b[0m\u001b[0;34m:\u001b[0m\u001b[0;34m\u001b[0m\u001b[0;34m\u001b[0m\u001b[0m\n\u001b[1;32m     85\u001b[0m             \u001b[0mcurrent_state_index\u001b[0m \u001b[0;34m=\u001b[0m \u001b[0mstr\u001b[0m\u001b[0;34m(\u001b[0m\u001b[0mstate_index\u001b[0m\u001b[0;34m+\u001b[0m\u001b[0;36m1\u001b[0m\u001b[0;34m)\u001b[0m\u001b[0;34m\u001b[0m\u001b[0;34m\u001b[0m\u001b[0m\n\u001b[0;32m---> 86\u001b[0;31m             \u001b[0mrelevant_weights\u001b[0m \u001b[0;34m=\u001b[0m \u001b[0;34m{\u001b[0m\u001b[0mk\u001b[0m\u001b[0;34m:\u001b[0m \u001b[0mv\u001b[0m \u001b[0;32mfor\u001b[0m \u001b[0mk\u001b[0m\u001b[0;34m,\u001b[0m \u001b[0mv\u001b[0m \u001b[0;32min\u001b[0m \u001b[0mself\u001b[0m\u001b[0;34m.\u001b[0m\u001b[0mweights\u001b[0m\u001b[0;34m.\u001b[0m\u001b[0mitems\u001b[0m\u001b[0;34m(\u001b[0m\u001b[0;34m)\u001b[0m \u001b[0;32mif\u001b[0m \u001b[0mcurrent_state_index\u001b[0m \u001b[0;32min\u001b[0m \u001b[0mk\u001b[0m\u001b[0;34m.\u001b[0m\u001b[0msplit\u001b[0m\u001b[0;34m(\u001b[0m\u001b[0;34m\",\"\u001b[0m\u001b[0;34m)\u001b[0m\u001b[0;34m}\u001b[0m\u001b[0;34m\u001b[0m\u001b[0;34m\u001b[0m\u001b[0m\n\u001b[0m\u001b[1;32m     87\u001b[0m             \u001b[0menergy_multiples\u001b[0m \u001b[0;34m=\u001b[0m \u001b[0;34m[\u001b[0m\u001b[0;34m]\u001b[0m\u001b[0;34m\u001b[0m\u001b[0;34m\u001b[0m\u001b[0m\n\u001b[1;32m     88\u001b[0m             \u001b[0;32mfor\u001b[0m \u001b[0mrelevant_weight_key\u001b[0m\u001b[0;34m,\u001b[0m \u001b[0mrelevant_weight_value\u001b[0m \u001b[0;32min\u001b[0m \u001b[0mrelevant_weights\u001b[0m\u001b[0;34m.\u001b[0m\u001b[0mitems\u001b[0m\u001b[0;34m(\u001b[0m\u001b[0;34m)\u001b[0m\u001b[0;34m:\u001b[0m\u001b[0;34m\u001b[0m\u001b[0;34m\u001b[0m\u001b[0m\n",
      "\u001b[0;32m/var/folders/fg/34sg6qnn5cz5_2nn6kqrgcdc0000gn/T/ipykernel_33974/1234897684.py\u001b[0m in \u001b[0;36m<dictcomp>\u001b[0;34m(.0)\u001b[0m\n\u001b[1;32m     84\u001b[0m         \u001b[0;32mfor\u001b[0m \u001b[0mstate_index\u001b[0m \u001b[0;32min\u001b[0m \u001b[0mrange\u001b[0m\u001b[0;34m(\u001b[0m\u001b[0mlen\u001b[0m\u001b[0;34m(\u001b[0m\u001b[0mself\u001b[0m\u001b[0;34m.\u001b[0m\u001b[0mcurrent_states\u001b[0m\u001b[0;34m)\u001b[0m\u001b[0;34m)\u001b[0m\u001b[0;34m:\u001b[0m\u001b[0;34m\u001b[0m\u001b[0;34m\u001b[0m\u001b[0m\n\u001b[1;32m     85\u001b[0m             \u001b[0mcurrent_state_index\u001b[0m \u001b[0;34m=\u001b[0m \u001b[0mstr\u001b[0m\u001b[0;34m(\u001b[0m\u001b[0mstate_index\u001b[0m\u001b[0;34m+\u001b[0m\u001b[0;36m1\u001b[0m\u001b[0;34m)\u001b[0m\u001b[0;34m\u001b[0m\u001b[0;34m\u001b[0m\u001b[0m\n\u001b[0;32m---> 86\u001b[0;31m             \u001b[0mrelevant_weights\u001b[0m \u001b[0;34m=\u001b[0m \u001b[0;34m{\u001b[0m\u001b[0mk\u001b[0m\u001b[0;34m:\u001b[0m \u001b[0mv\u001b[0m \u001b[0;32mfor\u001b[0m \u001b[0mk\u001b[0m\u001b[0;34m,\u001b[0m \u001b[0mv\u001b[0m \u001b[0;32min\u001b[0m \u001b[0mself\u001b[0m\u001b[0;34m.\u001b[0m\u001b[0mweights\u001b[0m\u001b[0;34m.\u001b[0m\u001b[0mitems\u001b[0m\u001b[0;34m(\u001b[0m\u001b[0;34m)\u001b[0m \u001b[0;32mif\u001b[0m \u001b[0mcurrent_state_index\u001b[0m \u001b[0;32min\u001b[0m \u001b[0mk\u001b[0m\u001b[0;34m.\u001b[0m\u001b[0msplit\u001b[0m\u001b[0;34m(\u001b[0m\u001b[0;34m\",\"\u001b[0m\u001b[0;34m)\u001b[0m\u001b[0;34m}\u001b[0m\u001b[0;34m\u001b[0m\u001b[0;34m\u001b[0m\u001b[0m\n\u001b[0m\u001b[1;32m     87\u001b[0m             \u001b[0menergy_multiples\u001b[0m \u001b[0;34m=\u001b[0m \u001b[0;34m[\u001b[0m\u001b[0;34m]\u001b[0m\u001b[0;34m\u001b[0m\u001b[0;34m\u001b[0m\u001b[0m\n\u001b[1;32m     88\u001b[0m             \u001b[0;32mfor\u001b[0m \u001b[0mrelevant_weight_key\u001b[0m\u001b[0;34m,\u001b[0m \u001b[0mrelevant_weight_value\u001b[0m \u001b[0;32min\u001b[0m \u001b[0mrelevant_weights\u001b[0m\u001b[0;34m.\u001b[0m\u001b[0mitems\u001b[0m\u001b[0;34m(\u001b[0m\u001b[0;34m)\u001b[0m\u001b[0;34m:\u001b[0m\u001b[0;34m\u001b[0m\u001b[0;34m\u001b[0m\u001b[0m\n",
      "\u001b[0;31mKeyboardInterrupt\u001b[0m: "
     ]
    }
   ],
   "source": [
    "images_vectors = images.reshape(8, images.shape[1]*images.shape[2])\n",
    "hopfield_network = HopfieldNetwork([images_vectors[0], images_vectors[1], images_vectors[2]])\n",
    "hopfield_network.weights"
   ]
  },
  {
   "cell_type": "code",
   "execution_count": null,
   "id": "111f5b43-e30c-4943-997b-13baf0aaa543",
   "metadata": {},
   "outputs": [],
   "source": []
  }
 ],
 "metadata": {
  "kernelspec": {
   "display_name": "Python 3 (ipykernel)",
   "language": "python",
   "name": "python3"
  },
  "language_info": {
   "codemirror_mode": {
    "name": "ipython",
    "version": 3
   },
   "file_extension": ".py",
   "mimetype": "text/x-python",
   "name": "python",
   "nbconvert_exporter": "python",
   "pygments_lexer": "ipython3",
   "version": "3.9.6"
  }
 },
 "nbformat": 4,
 "nbformat_minor": 5
}
