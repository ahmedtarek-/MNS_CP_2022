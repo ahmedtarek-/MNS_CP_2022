{
 "cells": [
  {
   "cell_type": "markdown",
   "id": "b53026a8-937a-41a8-85b7-31bb762e1e4a",
   "metadata": {},
   "source": [
    "# Assignment 2 (Hopfield Network)\n",
    "\n",
    "## 1) Storing the weights"
   ]
  },
  {
   "cell_type": "code",
   "execution_count": 35,
   "id": "91f23543-1b84-4b35-aafd-b285303a92b0",
   "metadata": {},
   "outputs": [
    {
     "name": "stdout",
     "output_type": "stream",
     "text": [
      "====================\n",
      "Input Pattern: [1, -1, 1, -1]\n",
      "Evaluated Pattern: [1, -1, 1, -1]\n",
      "stable: True\n",
      "====================\n",
      "Input Pattern: [-1, 1, 1, 1]\n",
      "Evaluated Pattern: [-1, 1, -1, 1]\n",
      "stable: False\n",
      "====================\n",
      "Input Pattern: [-1, -1, -1, 1]\n",
      "Evaluated Pattern: [-1, 1, -1, 1]\n",
      "stable: False\n"
     ]
    }
   ],
   "source": [
    "import numpy as np\n",
    "import pandas as pd\n",
    "\n",
    "class HopfieldNetwork:\n",
    "    \"\"\"\n",
    "    Generic network, initiate with array of patterns\n",
    "    number_of_weights = (n*(n-1))/2\n",
    "    \"\"\"\n",
    "    def __init__(self, patterns):\n",
    "        self.energies = []\n",
    "        self.patterns = patterns\n",
    "        self.weights = self.evaluate_weights()\n",
    "        self.stable_patterns = self.evaluate_stable_patterns()\n",
    "\n",
    "    def initiate_weights(self):\n",
    "        \"\"\"\n",
    "        Initializes the basic structure of the weights dict\n",
    "        which would something like this\n",
    "          {\"1,2\": 0, \"1,3\": 0, \"2,3\": 0}\n",
    "          where each key is a connection between two states\n",
    "          ex. \"1,2\" is weight of connection between state 1 and 2\n",
    "        \"\"\"\n",
    "        n = len(self.patterns[0])\n",
    "        weights = {}\n",
    "        for index in range(n):\n",
    "            first_index = index + 1 # to make the 0 become 1 and so on\n",
    "            second_index = first_index + 1\n",
    "            while second_index <= n:\n",
    "                weight_id = \"{},{}\".format(first_index, second_index)\n",
    "                weights[weight_id] = \"yoo\"\n",
    "                second_index = second_index + 1\n",
    "        return weights\n",
    "\n",
    "    def calculate_weight_from_patterns(self,unit_1_index, unit_2_index):\n",
    "        \"\"\"\n",
    "        Given two indices i, j\n",
    "        loop over the different patterns and calculate the weight of the\n",
    "        connection ij.\n",
    "        \"\"\"\n",
    "        multiplicants = [pattern[unit_1_index] * pattern[unit_2_index] for pattern in patterns]\n",
    "        return np.array(multiplicants).sum()\n",
    "\n",
    "    def evaluate_weights(self):\n",
    "        \"\"\"\n",
    "        Evaluate weights of the network based on self.patterns\n",
    "        This is done by looping through all (n*(n-1))/2 connections of the\n",
    "        network (where n is number of states). For each connection we get the\n",
    "        i, j indices and calculate the weight for it.\n",
    "        \"\"\"\n",
    "        weights = self.initiate_weights()\n",
    "        for weight_key in weights.keys():\n",
    "            unit_1_index = int(weight_key.split(\",\")[0]) - 1\n",
    "            unit_2_index = int(weight_key.split(\",\")[1]) - 1\n",
    "            calculated_weight = self.calculate_weight_from_patterns(unit_1_index, unit_2_index)\n",
    "            weights[weight_key] = calculated_weight\n",
    "        return weights\n",
    "\n",
    "    def state_update(self, state_index, pattern):\n",
    "        \"\"\"\n",
    "        Updates the state of the given state (by index) using the pattern given.\n",
    "        The value of each connected state is fetched and multiplied by the weight\n",
    "        of the connection between these two states.\n",
    "        Then a sum of these multipels is returned.\n",
    "        \"\"\"\n",
    "        current_state_index = str(state_index+1)\n",
    "        relevant_weights = {k: v for k, v in self.weights.items() if current_state_index in k.split(\",\")}\n",
    "        multiplications = []\n",
    "        for relevant_weight_key, relevant_weight_value in relevant_weights.items():\n",
    "            other_state = [idx for idx in relevant_weight_key.split(\",\") if idx != current_state_index][0]\n",
    "            other_state_index = int(other_state) - 1\n",
    "            multiplications.append(pattern[other_state_index] * relevant_weight_value)\n",
    "        return np.sign(np.array(multiplications).sum())\n",
    "    \n",
    "    def calculate_energy(self, state_index, pattern):\n",
    "        \"\"\"\n",
    "        Calculates the intermediate energy of state in a pattern\n",
    "        by multiplying each weight with the i_th and j_th states\n",
    "        \"\"\"\n",
    "        current_state_index = str(state_index+1)\n",
    "        relevant_weights = {k: v for k, v in self.weights.items() if current_state_index in k.split(\",\")}\n",
    "        energy_multiples = []\n",
    "        for relevant_weight_key, relevant_weight_value in relevant_weights.items():\n",
    "            other_state = [idx for idx in relevant_weight_key.split(\",\") if idx != current_state_index][0]\n",
    "            other_state_index = int(other_state) - 1\n",
    "            energy_multiples.append(relevant_weight_value * pattern[state_index] * pattern[other_state_index])\n",
    "        return np.array(energy_multiples).sum()\n",
    "    \n",
    "    def evaulate_pattern_stability(self, pattern):\n",
    "        \"\"\"\n",
    "        Returns True if every state is stable for this pattern\n",
    "        False otherwise\n",
    "        \"\"\"\n",
    "        print(\"====================\")\n",
    "        print(\"Input Pattern: {}\".format(pattern))\n",
    "        evaluated_pattern = []\n",
    "        state_energies = []\n",
    "        for state_index, state_value in enumerate(pattern):\n",
    "            updated_state = self.state_update(state_index, pattern)\n",
    "            state_energies.append(self.calculate_energy(state_index, pattern))\n",
    "            evaluated_pattern.append(updated_state)\n",
    "        matched = evaluated_pattern == pattern\n",
    "        self.energies.append(np.array(state_energies).sum() * -1)\n",
    "        print(\"Evaluated Pattern: {}\".format(evaluated_pattern))\n",
    "        print(\"stable: {}\".format(matched))\n",
    "        return matched\n",
    "\n",
    "    def evaluate_stable_patterns(self):\n",
    "        \"\"\"\n",
    "        Goes through the network and calculates which states are stable.\n",
    "        \"\"\"\n",
    "        stable_patterns = []\n",
    "        for pattern in self.patterns:\n",
    "            if self.evaulate_pattern_stability(pattern):\n",
    "                stable_patterns.append(pattern)\n",
    "        return stable_patterns\n",
    "                \n",
    "\n",
    "pattern_1 = [1, -1, 1, -1]\n",
    "pattern_2 = [-1, 1, 1, 1]\n",
    "pattern_3 = [-1, -1, -1, 1]\n",
    "\n",
    "patterns = [pattern_1, pattern_2, pattern_3]\n",
    "hopfield_network = HopfieldNetwork(patterns)\n"
   ]
  },
  {
   "cell_type": "markdown",
   "id": "015cf7cc-b0b1-4e20-90d1-eee3caeb1b01",
   "metadata": {},
   "source": [
    "### Summary\n",
    "\n",
    "Only the pattern [1, -1, 1, -1] **(pattern A)** is stable. Tested this by \n",
    "1. Updating the state for each unit using the given function\n",
    "2. Tested if the \"pattern state\" matches the \"evaluated state\"\n",
    "3. If 2 is True for all states, then a pattern is stable"
   ]
  },
  {
   "cell_type": "markdown",
   "id": "616bd2fd-d1c8-4b32-a118-b9ab323f4e68",
   "metadata": {},
   "source": [
    "### 2) What does the network converge to in states A/B/C\n",
    "\n",
    "_below might be wrong_\n",
    "- **Pattern A** Converges to itself\n",
    "- **Pattern B** Converges to [-1, 1, -1, 1]\n",
    "- **Pattern C** Converges to [-1, 1, -1, 1]"
   ]
  },
  {
   "cell_type": "code",
   "execution_count": 44,
   "id": "b9541d82-5cad-42ad-8b73-beb1f376497c",
   "metadata": {},
   "outputs": [
    {
     "name": "stdout",
     "output_type": "stream",
     "text": [
      "====================\n",
      "Input Pattern: [1, -1, 1, -1]\n",
      "Evaluated Pattern: [1, -1, 1, -1]\n",
      "stable: True\n",
      "====================\n",
      "Input Pattern: [-1, 1, 1, 1]\n",
      "Evaluated Pattern: [-1, 1, -1, 1]\n",
      "stable: False\n",
      "====================\n",
      "Input Pattern: [-1, -1, -1, 1]\n",
      "Evaluated Pattern: [-1, 1, -1, 1]\n",
      "stable: False\n"
     ]
    }
   ],
   "source": [
    "# TODO:\n",
    "# - take the initial pattern, update the state\n",
    "# - keep doing this until states don't change\n",
    "# - print after each state update\n",
    "# - make this method return the energies\n",
    "def converge(self, initial_pattern):\n",
    "    return self.energies\n",
    "\n",
    "HopfieldNetwork.converge = converge\n",
    "hopfield_network = HopfieldNetwork(patterns)\n",
    "\n",
    "# hopfield_network.converge([1,2])"
   ]
  },
  {
   "cell_type": "code",
   "execution_count": 36,
   "id": "602468a3-1366-4ffe-8d9b-fd38e9093f31",
   "metadata": {},
   "outputs": [
    {
     "data": {
      "text/plain": [
       "[-12, -8, -8]"
      ]
     },
     "execution_count": 36,
     "metadata": {},
     "output_type": "execute_result"
    }
   ],
   "source": []
  },
  {
   "cell_type": "code",
   "execution_count": null,
   "id": "b48b58ed-c63d-415a-8c20-85c6246af0f3",
   "metadata": {},
   "outputs": [],
   "source": []
  },
  {
   "cell_type": "code",
   "execution_count": null,
   "id": "24c46f8a-1d02-4816-b34a-c4195fd0429a",
   "metadata": {},
   "outputs": [],
   "source": []
  }
 ],
 "metadata": {
  "kernelspec": {
   "display_name": "Python 3 (ipykernel)",
   "language": "python",
   "name": "python3"
  },
  "language_info": {
   "codemirror_mode": {
    "name": "ipython",
    "version": 3
   },
   "file_extension": ".py",
   "mimetype": "text/x-python",
   "name": "python",
   "nbconvert_exporter": "python",
   "pygments_lexer": "ipython3",
   "version": "3.9.6"
  }
 },
 "nbformat": 4,
 "nbformat_minor": 5
}
