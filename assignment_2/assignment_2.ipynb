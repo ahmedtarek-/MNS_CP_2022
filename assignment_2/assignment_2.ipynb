{
 "cells": [
  {
   "cell_type": "markdown",
   "id": "b53026a8-937a-41a8-85b7-31bb762e1e4a",
   "metadata": {},
   "source": [
    "# MNS - CP - 2. Problem Set\n",
    "_Assignment 2 (Hopfield Network)_\n",
    "\n",
    "### Ahmed Abdalfatah - Mohammad Orabe - Sahand Sabahi Miab\n",
    "\n",
    "## 1) Storing the weights"
   ]
  },
  {
   "cell_type": "code",
   "execution_count": 88,
   "id": "91f23543-1b84-4b35-aafd-b285303a92b0",
   "metadata": {},
   "outputs": [
    {
     "name": "stdout",
     "output_type": "stream",
     "text": [
      "stable: True\n",
      "stable: False\n",
      "stable: False\n"
     ]
    },
    {
     "data": {
      "text/plain": [
       "[[1, -1, 1, -1]]"
      ]
     },
     "execution_count": 88,
     "metadata": {},
     "output_type": "execute_result"
    }
   ],
   "source": [
    "import numpy as np\n",
    "import pandas as pd\n",
    "import random\n",
    "\n",
    "class HopfieldNetwork:\n",
    "    \"\"\"\n",
    "    Hopfield network implementation that accepts patterns array,\n",
    "    and evalutes weights based on these patterns.\n",
    "      - number_of_weights = (n*(n-1))/2\n",
    "      - Most operations are done on matrices/vectors\n",
    "      - self.current_states holds the a snapshot of current states of the network at any moment.\n",
    "    \"\"\"\n",
    "    def __init__(self, patterns):\n",
    "        self.energies = []\n",
    "        self.patterns = patterns\n",
    "        self.weights = self.evaluate_weights()\n",
    "        self.stable_patterns = self.evaluate_stable_patterns()\n",
    "        self.current_states = []\n",
    "\n",
    "    def evaluate_weights(self):\n",
    "        \"\"\"\n",
    "        Evaluate weights of the network based on self.patterns\n",
    "        This is done by dot product of the patterns matrix with\n",
    "        its transpose.\n",
    "\n",
    "        Returns matrix representing weights of connections between each two states.\n",
    "        \"\"\"\n",
    "        weights_matrix = np.dot(np.array(self.patterns).transpose(), self.patterns)\n",
    "        np.fill_diagonal(weights_matrix, 0)\n",
    "        return weights_matrix\n",
    "\n",
    "    def state_update(self, state_index):\n",
    "        \"\"\"\n",
    "        Updates the state of the given state (by index) and current_states of the\n",
    "        network.\n",
    "\n",
    "        Returns sign function output of the dot product of weights and current_states.\n",
    "        \"\"\"\n",
    "        return np.sign(np.dot(self.weights[state_index], self.current_states))\n",
    "    \n",
    "    def calculate_energy(self):\n",
    "        \"\"\"\n",
    "        Calculates the energy of the network based on current_states, goes through each\n",
    "        state and multiplies the weights vector with the current_states and its transpose.\n",
    "        \n",
    "        Returns the sum of energies of different states.\n",
    "        \"\"\"\n",
    "        sum_per_state = []\n",
    "        for state_index in range(len(self.current_states)):\n",
    "            sum_per_state.append(np.dot(np.array(self.current_states).transpose(), np.dot(self.weights[state_index], self.current_states)))\n",
    "        return np.array(sum_per_state).diagonal().sum() * -1\n",
    "    \n",
    "    def evaulate_pattern_stability(self, pattern, calculate_energy=False):\n",
    "        \"\"\"\n",
    "        Evaluates the stability of the patterns.\n",
    "\n",
    "        Returns:\n",
    "            - boolean representing stability of given pattern\n",
    "            - energies of this pattern (if calculate_energy bool is True)\n",
    "        \"\"\"\n",
    "        state_energies = []\n",
    "        self.current_states = pattern.copy()\n",
    "        for state_index in random.sample(range(len(pattern)), len(pattern)):\n",
    "            updated_state_value = self.state_update(state_index)\n",
    "            self.current_states[state_index] = updated_state_value\n",
    "            if calculate_energy:\n",
    "                energy = self.calculate_energy()\n",
    "                state_energies.append(energy)\n",
    "        # print(\"Current states after this pattern: {}\".format(self.current_states))\n",
    "        matched = (self.current_states == pattern)\n",
    "        print(\"stable: {}\".format(matched))\n",
    "        return [matched, state_energies]\n",
    "\n",
    "    def evaluate_stable_patterns(self):\n",
    "        \"\"\"\n",
    "        Goes through the network and calculates which patterns are stable.\n",
    "\n",
    "        Returns array of stable patterns\n",
    "        \"\"\"\n",
    "        stable_patterns = []\n",
    "        for pattern in self.patterns:\n",
    "            if self.evaulate_pattern_stability(pattern)[0]:\n",
    "                stable_patterns.append(pattern)\n",
    "        return stable_patterns\n",
    "    \n",
    "    def calculate_energies(self, pattern):\n",
    "        \"\"\"\n",
    "        Returns energies calculated while updating the states\n",
    "        of the network based on the given pattern.\n",
    "        \"\"\"\n",
    "        stable, energies = self.evaulate_pattern_stability(pattern, calculate_energy=True)\n",
    "        return energies\n",
    "\n",
    "pattern_1 = [1, -1, 1, -1]\n",
    "pattern_2 = [-1, 1, 1, 1]\n",
    "pattern_3 = [-1, -1, -1, 1]\n",
    "\n",
    "patterns = [pattern_1, pattern_2, pattern_3]\n",
    "hopfield_network = HopfieldNetwork(patterns)\n",
    "hopfield_network.stable_patterns"
   ]
  },
  {
   "cell_type": "markdown",
   "id": "015cf7cc-b0b1-4e20-90d1-eee3caeb1b01",
   "metadata": {},
   "source": [
    "### Summary\n",
    "\n",
    "Only the pattern [1, -1, 1, -1] **(pattern A)** is stable. Tested this by \n",
    "1. Updating the state for each unit using the given function (**chosen randomly**)\n",
    "2. Tested if the \"pattern state\" matches the \"evaluated state\"\n",
    "3. If 2 is True for all states, then a pattern is stable"
   ]
  },
  {
   "cell_type": "markdown",
   "id": "616bd2fd-d1c8-4b32-a118-b9ab323f4e68",
   "metadata": {},
   "source": [
    "### 2) What does the network converge to in states A/B/C\n",
    "\n",
    "- **Pattern A** remains itself\n",
    "- **Pattern B** changes to [-1, 1, -1, 1]\n",
    "- **Pattern C** changes to [-1, 1, -1, 1]"
   ]
  },
  {
   "cell_type": "code",
   "execution_count": 85,
   "id": "b9541d82-5cad-42ad-8b73-beb1f376497c",
   "metadata": {},
   "outputs": [
    {
     "name": "stdout",
     "output_type": "stream",
     "text": [
      "stable: True\n",
      "stable: False\n",
      "stable: False\n"
     ]
    },
    {
     "data": {
      "image/png": "[encoded data removed]",
      "text/plain": [
       "<Figure size 432x288 with 1 Axes>"
      ]
     },
     "metadata": {
      "needs_background": "light"
     },
     "output_type": "display_data"
    },
    {
     "data": {
      "text/plain": [
       "([-12, -12, -12, -12], [-8, -8, -8, -12], [-8, -8, -12, -12])"
      ]
     },
     "execution_count": 85,
     "metadata": {},
     "output_type": "execute_result"
    }
   ],
   "source": [
    "import matplotlib.pyplot as plt\n",
    "  \n",
    "pattern_1_energies = hopfield_network.calculate_energies(pattern_1)\n",
    "pattern_2_energies = hopfield_network.calculate_energies(pattern_2)\n",
    "pattern_3_energies = hopfield_network.calculate_energies(pattern_3)\n",
    "\n",
    "t = [1,2,3,4]\n",
    "\n",
    "plt.plot(t, pattern_1_energies, label = \"Pattern A energy\")\n",
    "plt.plot(t, pattern_2_energies, label = \"Pattern B energy\")\n",
    "plt.plot(t, pattern_3_energies, label = \"Pattern C energy\")\n",
    "plt.legend()\n",
    "plt.show()\n",
    "\n",
    "pattern_1_energies, pattern_2_energies, pattern_3_energies"
   ]
  },
  {
   "cell_type": "markdown",
   "id": "1112e10c-09e9-4480-ac1a-44137dd03f88",
   "metadata": {},
   "source": [
    "### Summary\n",
    "\n",
    "- Stable pattern A has stable energy (-12)\n",
    "- Unstable Pattern B starts at -8 and goes down to -12\n",
    "- Unstable Pattern C starts at -8 and goes down to -12"
   ]
  },
  {
   "cell_type": "markdown",
   "id": "db37d614-01be-48d6-9710-400e28445690",
   "metadata": {},
   "source": [
    "### 3) Loading images and using hopfield network on it"
   ]
  },
  {
   "cell_type": "code",
   "execution_count": 86,
   "id": "43a17dfc-6ff3-4658-ace6-0d19d8c3e8b8",
   "metadata": {},
   "outputs": [
    {
     "data": {
      "image/png": "[encoded data removed]",
      "text/plain": [
       "<Figure size 864x288 with 8 Axes>"
      ]
     },
     "metadata": {
      "needs_background": "light"
     },
     "output_type": "display_data"
    }
   ],
   "source": [
    "# Method to plot the images\n",
    "def plot_images(images):\n",
    "    nr_images = images.shape[0]\n",
    "    fig = plt.figure()\n",
    "    fig.set_figwidth(12)\n",
    "    for m in range(nr_images):\n",
    "        plt.subplot(1, 8, m+1)\n",
    "        plt.imshow(images[m])\n",
    "        plt.xticks([m+1])\n",
    "        plt.yticks([])\n",
    "    plt.show()\n",
    "\n",
    "# Loading the images from file and plotting them\n",
    "images = np.load(\"images.npz\")[\"arr_0\"]\n",
    "plot_images(images)"
   ]
  },
  {
   "cell_type": "code",
   "execution_count": 87,
   "id": "dbac6b27-f9a9-47e2-a395-4c27725c4636",
   "metadata": {},
   "outputs": [
    {
     "name": "stdout",
     "output_type": "stream",
     "text": [
      "stable: True\n",
      "stable: True\n",
      "stable: False\n",
      "stable: True\n",
      "stable: True\n",
      "stable: True\n",
      "stable: True\n",
      "stable: True\n"
     ]
    },
    {
     "data": {
      "text/plain": [
       "array([[0., 6., 6., ..., 6., 8., 8.],\n",
       "       [6., 0., 8., ..., 4., 6., 6.],\n",
       "       [6., 8., 0., ..., 4., 6., 6.],\n",
       "       ...,\n",
       "       [6., 4., 4., ..., 0., 6., 6.],\n",
       "       [8., 6., 6., ..., 6., 0., 8.],\n",
       "       [8., 6., 6., ..., 6., 8., 0.]])"
      ]
     },
     "execution_count": 87,
     "metadata": {},
     "output_type": "execute_result"
    }
   ],
   "source": [
    "# Reshaping the vectors by flatting them (8 arrays of 1200 elements each)\n",
    "images_vectors = images.reshape(8, images.shape[1]*images.shape[2])\n",
    "\n",
    "# Initializing the network using the 2d array of images\n",
    "hopfield_network = HopfieldNetwork(images_vectors.tolist())\n",
    "hopfield_network.weights"
   ]
  },
  {
   "cell_type": "markdown",
   "id": "34edbae9-c9ae-43f5-a1a3-bb4ccc4ea8d6",
   "metadata": {},
   "source": [
    "### Summary\n",
    "\n",
    "**Patterns stability:**\n",
    "\n",
    "- 1st pattern: True\n",
    "- 2nd pattern: True\n",
    "- 3rd pattern: False\n",
    "- 4th pattern: True\n",
    "- 5th pattern: True\n",
    "- 6th pattern: True\n",
    "- 7th pattern: True\n",
    "- 8th pattern: True\n"
   ]
  },
  {
   "cell_type": "code",
   "execution_count": null,
   "id": "a781df55-9ccd-4b6e-b193-013d746b44d6",
   "metadata": {},
   "outputs": [],
   "source": []
  }
 ],
 "metadata": {
  "kernelspec": {
   "display_name": "Python 3 (ipykernel)",
   "language": "python",
   "name": "python3"
  },
  "language_info": {
   "codemirror_mode": {
    "name": "ipython",
    "version": 3
   },
   "file_extension": ".py",
   "mimetype": "text/x-python",
   "name": "python",
   "nbconvert_exporter": "python",
   "pygments_lexer": "ipython3",
   "version": "3.9.6"
  }
 },
 "nbformat": 4,
 "nbformat_minor": 5
}
