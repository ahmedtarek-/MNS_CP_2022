{
 "cells": [
  {
   "cell_type": "markdown",
   "id": "2eb2f52b-813c-43c1-8e3f-2e3a2d67abd3",
   "metadata": {},
   "source": [
    "## 1. McCulloch–Pitts neuron \n",
    "\n",
    "\n",
    "### a) Defining the function"
   ]
  },
  {
   "cell_type": "code",
   "execution_count": 2,
   "id": "ff23c9cc-ca64-4d4b-83f3-0c08efa9aeb6",
   "metadata": {},
   "outputs": [],
   "source": [
    "import numpy as np\n",
    "import matplotlib.pyplot as plt"
   ]
  },
  {
   "cell_type": "code",
   "execution_count": 18,
   "id": "06ad039a-431d-40d9-a948-0a4c5cea930b",
   "metadata": {},
   "outputs": [],
   "source": [
    "# Setting up X, weights and the output sign function\n",
    "X = np.array([-1, -1, -1])\n",
    "W = np.array([3,2,2])\n",
    "\n",
    "Y = np.sign(np.dot(W.transpose(), X))\n"
   ]
  },
  {
   "cell_type": "markdown",
   "id": "95b48f41-41b5-4e24-94ee-3b3a45e1eb5c",
   "metadata": {},
   "source": [
    "### b) Truth table of x1, x2"
   ]
  },
  {
   "cell_type": "code",
   "execution_count": 87,
   "id": "df75fcc9-4eb7-4db9-ae43-6e2d4064e7e8",
   "metadata": {},
   "outputs": [
    {
     "name": "stdout",
     "output_type": "stream",
     "text": [
      "  - for x1: 1, x2: 1\n",
      "    Y: 1\n",
      "  - for x1: 1, x2: -1\n",
      "    Y: -1\n",
      "  - for x1: -1, x2: 1\n",
      "    Y: -1\n",
      "  - for x1: -1, x2: -1\n",
      "    Y: -1\n"
     ]
    }
   ],
   "source": [
    "combinations = [(1,1), (1,-1), (-1,1), (-1,-1)]\n",
    "for combination in combinations:\n",
    "    x1 = combination[0]\n",
    "    x2 = combination[1]\n",
    "    X = np.array([-1, x1, x2])\n",
    "    Y = np.sign(np.dot(W.transpose(), X))\n",
    "    print(\"for x1\")\n",
    "    print(x1)\n",
    "    print(\"and x2:\")\n",
    "    print(x2)\n",
    "    print(\"  - for x1: {}, x2: {}\\n    Y: {}\".format(x1, x2, Y))"
   ]
  },
  {
   "cell_type": "markdown",
   "id": "6fc9d40b-513d-4b71-a337-6c074e609f41",
   "metadata": {},
   "source": [
    "### Summary\n",
    "\n",
    "- Trying out all combinations of x1, x2 show us that whenever there is a (-1/False) then output is -1/False, \n",
    "- Only when both inputs are (1/True) then output is (1/True)\n",
    "- Function is logical AND"
   ]
  },
  {
   "cell_type": "markdown",
   "id": "2535b795-3bfc-4be8-8d59-b2fbaabf55cf",
   "metadata": {},
   "source": [
    "-----------------------------------------------------\n",
    "\n",
    "## 2. Activation Functions"
   ]
  },
  {
   "cell_type": "code",
   "execution_count": 66,
   "id": "343cca33-ba84-401f-a11d-1047d3f3fb6d",
   "metadata": {},
   "outputs": [
    {
     "data": {
      "image/png": "[encoded data removed]",
      "text/plain": [
       "<Figure size 432x288 with 1 Axes>"
      ]
     },
     "metadata": {
      "needs_background": "light"
     },
     "output_type": "display_data"
    }
   ],
   "source": [
    "# Defining the plot\n",
    "fig = plt.figure()\n",
    "ax = fig.add_subplot(1, 1, 1)\n",
    "ax.spines['left'].set_position('center')\n",
    "ax.spines['bottom'].set_position('zero')\n",
    "ax.spines['right'].set_color('none')\n",
    "ax.spines['top'].set_color('none')\n",
    "ax.xaxis.set_ticks_position('bottom')\n",
    "ax.yaxis.set_ticks_position('left')\n",
    "\n",
    "# Defining points\n",
    "x = np.linspace(-5,5,100)"
   ]
  },
  {
   "cell_type": "markdown",
   "id": "33510956-d44c-4247-91f4-47a73b07c8a3",
   "metadata": {},
   "source": [
    "### a) Sigmoid function"
   ]
  },
  {
   "cell_type": "code",
   "execution_count": 74,
   "id": "651715db-9b75-41cd-8e72-949612e66090",
   "metadata": {},
   "outputs": [
    {
     "data": {
      "image/png": "[encoded data removed]",
      "text/plain": [
       "<Figure size 432x288 with 1 Axes>"
      ]
     },
     "metadata": {
      "needs_background": "light"
     },
     "output_type": "display_data"
    }
   ],
   "source": [
    "# Defining param (a)\n",
    "a = 1\n",
    "\n",
    "# Defining the function\n",
    "y1 = 2/(1+np.exp(-a*x)) - 1\n",
    "\n",
    "# plot the function\n",
    "plt.plot(x, y1, 'r')\n",
    "\n",
    "# show the plot\n",
    "plt.show()"
   ]
  },
  {
   "cell_type": "markdown",
   "id": "303334bf-23c8-4fc2-b12b-e59a94d39ac8",
   "metadata": {},
   "source": [
    "### b) tanh function"
   ]
  },
  {
   "cell_type": "code",
   "execution_count": 59,
   "id": "721ef7e3-5909-48a7-a246-211c3227c9c3",
   "metadata": {},
   "outputs": [
    {
     "data": {
      "image/png": "[encoded data removed]",
      "text/plain": [
       "<Figure size 432x288 with 1 Axes>"
      ]
     },
     "metadata": {
      "needs_background": "light"
     },
     "output_type": "display_data"
    }
   ],
   "source": [
    "# Defining param (a)\n",
    "a = 0.4\n",
    "\n",
    "# Defining the function\n",
    "y2 = np.tanh(4*a*x)\n",
    "\n",
    "# plot the function\n",
    "plt.plot(x,y2, 'r')\n",
    "\n",
    "# show the plot\n",
    "plt.show()"
   ]
  },
  {
   "cell_type": "markdown",
   "id": "cf1054fd-1b02-4481-aa2b-1368f87f57d4",
   "metadata": {},
   "source": [
    "### c) Piecewise linear function"
   ]
  },
  {
   "cell_type": "code",
   "execution_count": null,
   "id": "a14acb5c-c23a-4938-9e13-51a0c68ae6d5",
   "metadata": {},
   "outputs": [],
   "source": [
    "# Defining param (a)\n",
    "a = 10\n",
    "\n",
    "# Defining the piecewise functions (over 4 parts)\n",
    "y3 = np.piecewise(x, [x > -1/a, x < 1/a, x <= -1/a, x >= 1/a], [lambda x: a*x, lambda x: a*x, -1, 1])\n",
    "\n",
    "# plot the function\n",
    "plt.plot(x,y3, 'r')\n",
    "\n",
    "# show the plot\n",
    "plt.show()"
   ]
  },
  {
   "cell_type": "markdown",
   "id": "57df785d-09a2-4b0e-a747-9e63e866db3a",
   "metadata": {},
   "source": [
    "### Summary\n",
    "\n",
    "Choosing the parameter (a) to be large would push all the mentioned functions to be step-wise function. Parameter (a) functions as a threshold and controls the sensitivity of the function to 'fire' or no.\n"
   ]
  },
  {
   "cell_type": "markdown",
   "id": "2437bc75-262f-4ca4-9a29-fba53ca3a210",
   "metadata": {},
   "source": [
    "---------------------------------------------------------------------------------------------\n",
    "\n",
    "## 2. Rosenblatt’s perceptron\n",
    "\n"
   ]
  },
  {
   "cell_type": "markdown",
   "id": "e8a7f89e-0abb-4496-914e-fab28338af63",
   "metadata": {},
   "source": [
    "### a. Generating the datasets"
   ]
  },
  {
   "cell_type": "code",
   "execution_count": 4,
   "id": "c97f4ff5-e4b2-4bb5-bac8-28df13a863f3",
   "metadata": {},
   "outputs": [
    {
     "data": {
      "text/plain": [
       "[(array([-1.        ,  0.09686335,  0.99291296]), 1),\n",
       " (array([-1.        ,  0.99625059,  0.36600345]), 1),\n",
       " (array([-1.        ,  0.84508801,  0.97950028]), 1),\n",
       " (array([-1.        ,  0.24635212,  0.61816364]), 1),\n",
       " (array([-1.        ,  0.04317383,  0.12729915]), -1),\n",
       " (array([-1.        ,  0.39951208,  0.64801878]), 1),\n",
       " (array([-1.        ,  0.66223299,  0.53891393]), 1),\n",
       " (array([-1.        ,  0.38711434,  0.581621  ]), 1),\n",
       " (array([-1.        ,  0.28795493,  0.56969919]), 1),\n",
       " (array([-1.        ,  0.39840096,  0.7114807 ]), 1)]"
      ]
     },
     "execution_count": 4,
     "metadata": {},
     "output_type": "execute_result"
    }
   ],
   "source": [
    "import numpy as np\n",
    "import random\n",
    "\n",
    "def generate_input_vector():\n",
    "    x1 = random.uniform(0, 1)\n",
    "    x2 = random.uniform(0, 1)\n",
    "    return np.array([-1,x1,x2])\n",
    "\n",
    "def evaluate_desired_output(x1,x2):\n",
    "    if x2 >= (0.5 - x1):\n",
    "        return 1\n",
    "    else:\n",
    "        return -1\n",
    "\n",
    "def generate_dataset(size):\n",
    "    dataset = []\n",
    "    for i in range(size):\n",
    "        input_vector = generate_input_vector()\n",
    "        desired_output = evaluate_desired_output(input_vector[1], input_vector[2])\n",
    "        dataset.append((input_vector, desired_output))\n",
    "    return dataset\n",
    "\n",
    "test_dataset = generate_dataset(10)   \n",
    "\n",
    "test_dataset"
   ]
  },
  {
   "cell_type": "markdown",
   "id": "227094eb-7c13-4623-bb76-9015bbea7684",
   "metadata": {},
   "source": [
    "### b. Defining neuron function, weight updating function and learning rate"
   ]
  },
  {
   "cell_type": "code",
   "execution_count": 5,
   "id": "32690e52-5368-4ed6-814a-fe83162c2b4a",
   "metadata": {},
   "outputs": [
    {
     "name": "stdout",
     "output_type": "stream",
     "text": [
      "==================== epoch 0 ========================\n",
      "[-1.          0.3786964   0.77196899]\n",
      "desired output: 1, neuron output: -1.0\n",
      "prev weight: [3 2 2], updated_weight: [2.6        2.15147856 2.3087876 ]\n",
      "-------------------------------\n",
      "\n",
      "[-1.          0.15870303  0.83725435]\n",
      "desired output: 1, neuron output: -1.0\n",
      "prev weight: [2.6        2.15147856 2.3087876 ], updated_weight: [2.2        2.21495977 2.64368933]\n",
      "-------------------------------\n",
      "\n",
      "[-1.          0.11724257  0.24787822]\n",
      "desired output: -1, neuron output: -1.0\n",
      "prev weight: [2.2        2.21495977 2.64368933], updated_weight: [2.2        2.21495977 2.64368933]\n",
      "-------------------------------\n",
      "\n",
      "[-1.          0.59710675  0.02424858]\n",
      "desired output: 1, neuron output: -1.0\n",
      "prev weight: [2.2        2.21495977 2.64368933], updated_weight: [1.8        2.45380248 2.65338877]\n",
      "-------------------------------\n",
      "\n",
      "[-1.          0.68107509  0.8548339 ]\n",
      "desired output: 1, neuron output: 1.0\n",
      "prev weight: [1.8        2.45380248 2.65338877], updated_weight: [1.8        2.45380248 2.65338877]\n",
      "-------------------------------\n",
      "\n",
      "[-1.          0.8770578   0.83527038]\n",
      "desired output: 1, neuron output: 1.0\n",
      "prev weight: [1.8        2.45380248 2.65338877], updated_weight: [1.8        2.45380248 2.65338877]\n",
      "-------------------------------\n",
      "\n",
      "[-1.          0.96481052  0.47717367]\n",
      "desired output: 1, neuron output: 1.0\n",
      "prev weight: [1.8        2.45380248 2.65338877], updated_weight: [1.8        2.45380248 2.65338877]\n",
      "-------------------------------\n",
      "\n",
      "[-1.          0.00330248  0.99513783]\n",
      "desired output: 1, neuron output: 1.0\n",
      "prev weight: [1.8        2.45380248 2.65338877], updated_weight: [1.8        2.45380248 2.65338877]\n",
      "-------------------------------\n",
      "\n",
      "[-1.          0.58057302  0.37858572]\n",
      "desired output: 1, neuron output: 1.0\n",
      "prev weight: [1.8        2.45380248 2.65338877], updated_weight: [1.8        2.45380248 2.65338877]\n",
      "-------------------------------\n",
      "\n",
      "[-1.          0.10579224  0.78706639]\n",
      "desired output: 1, neuron output: 1.0\n",
      "prev weight: [1.8        2.45380248 2.65338877], updated_weight: [1.8        2.45380248 2.65338877]\n",
      "-------------------------------\n",
      "\n",
      "[-1.          0.66646744  0.52896066]\n",
      "desired output: 1, neuron output: 1.0\n",
      "prev weight: [1.8        2.45380248 2.65338877], updated_weight: [1.8        2.45380248 2.65338877]\n",
      "-------------------------------\n",
      "\n",
      "[-1.          0.21731939  0.72753189]\n",
      "desired output: 1, neuron output: 1.0\n",
      "prev weight: [1.8        2.45380248 2.65338877], updated_weight: [1.8        2.45380248 2.65338877]\n",
      "-------------------------------\n",
      "\n",
      "[-1.          0.64341551  0.22861998]\n",
      "desired output: 1, neuron output: 1.0\n",
      "prev weight: [1.8        2.45380248 2.65338877], updated_weight: [1.8        2.45380248 2.65338877]\n",
      "-------------------------------\n",
      "\n",
      "[-1.          0.00801029  0.17798293]\n",
      "desired output: -1, neuron output: -1.0\n",
      "prev weight: [1.8        2.45380248 2.65338877], updated_weight: [1.8        2.45380248 2.65338877]\n",
      "-------------------------------\n",
      "\n",
      "[-1.          0.95816588  0.55055158]\n",
      "desired output: 1, neuron output: 1.0\n",
      "prev weight: [1.8        2.45380248 2.65338877], updated_weight: [1.8        2.45380248 2.65338877]\n",
      "-------------------------------\n",
      "\n",
      "[-1.          0.40634943  0.36027192]\n",
      "desired output: 1, neuron output: 1.0\n",
      "prev weight: [1.8        2.45380248 2.65338877], updated_weight: [1.8        2.45380248 2.65338877]\n",
      "-------------------------------\n",
      "\n",
      "[-1.          0.59840873  0.92042099]\n",
      "desired output: 1, neuron output: 1.0\n",
      "prev weight: [1.8        2.45380248 2.65338877], updated_weight: [1.8        2.45380248 2.65338877]\n",
      "-------------------------------\n",
      "\n",
      "[-1.          0.87885535  0.61280861]\n",
      "desired output: 1, neuron output: 1.0\n",
      "prev weight: [1.8        2.45380248 2.65338877], updated_weight: [1.8        2.45380248 2.65338877]\n",
      "-------------------------------\n",
      "\n",
      "[-1.          0.22486748  0.37227098]\n",
      "desired output: 1, neuron output: -1.0\n",
      "prev weight: [1.8        2.45380248 2.65338877], updated_weight: [1.4        2.54374947 2.80229716]\n",
      "-------------------------------\n",
      "\n",
      "[-1.          0.16739361  0.060949  ]\n",
      "desired output: -1, neuron output: -1.0\n",
      "prev weight: [1.4        2.54374947 2.80229716], updated_weight: [1.4        2.54374947 2.80229716]\n",
      "-------------------------------\n",
      "\n",
      "Comparing [3 2 2] with [1.4        2.54374947 2.80229716]\n",
      "==================== epoch 1 ========================\n",
      "[-1.          0.3786964   0.77196899]\n",
      "desired output: 1, neuron output: 1.0\n",
      "prev weight: [1.4        2.54374947 2.80229716], updated_weight: [1.4        2.54374947 2.80229716]\n",
      "-------------------------------\n",
      "\n",
      "[-1.          0.15870303  0.83725435]\n",
      "desired output: 1, neuron output: 1.0\n",
      "prev weight: [1.4        2.54374947 2.80229716], updated_weight: [1.4        2.54374947 2.80229716]\n",
      "-------------------------------\n",
      "\n",
      "[-1.          0.11724257  0.24787822]\n",
      "desired output: -1, neuron output: -1.0\n",
      "prev weight: [1.4        2.54374947 2.80229716], updated_weight: [1.4        2.54374947 2.80229716]\n",
      "-------------------------------\n",
      "\n",
      "[-1.          0.59710675  0.02424858]\n",
      "desired output: 1, neuron output: 1.0\n",
      "prev weight: [1.4        2.54374947 2.80229716], updated_weight: [1.4        2.54374947 2.80229716]\n",
      "-------------------------------\n",
      "\n",
      "[-1.          0.68107509  0.8548339 ]\n",
      "desired output: 1, neuron output: 1.0\n",
      "prev weight: [1.4        2.54374947 2.80229716], updated_weight: [1.4        2.54374947 2.80229716]\n",
      "-------------------------------\n",
      "\n",
      "[-1.          0.8770578   0.83527038]\n",
      "desired output: 1, neuron output: 1.0\n",
      "prev weight: [1.4        2.54374947 2.80229716], updated_weight: [1.4        2.54374947 2.80229716]\n",
      "-------------------------------\n",
      "\n",
      "[-1.          0.96481052  0.47717367]\n",
      "desired output: 1, neuron output: 1.0\n",
      "prev weight: [1.4        2.54374947 2.80229716], updated_weight: [1.4        2.54374947 2.80229716]\n",
      "-------------------------------\n",
      "\n",
      "[-1.          0.00330248  0.99513783]\n",
      "desired output: 1, neuron output: 1.0\n",
      "prev weight: [1.4        2.54374947 2.80229716], updated_weight: [1.4        2.54374947 2.80229716]\n",
      "-------------------------------\n",
      "\n",
      "[-1.          0.58057302  0.37858572]\n",
      "desired output: 1, neuron output: 1.0\n",
      "prev weight: [1.4        2.54374947 2.80229716], updated_weight: [1.4        2.54374947 2.80229716]\n",
      "-------------------------------\n",
      "\n",
      "[-1.          0.10579224  0.78706639]\n",
      "desired output: 1, neuron output: 1.0\n",
      "prev weight: [1.4        2.54374947 2.80229716], updated_weight: [1.4        2.54374947 2.80229716]\n",
      "-------------------------------\n",
      "\n",
      "[-1.          0.66646744  0.52896066]\n",
      "desired output: 1, neuron output: 1.0\n",
      "prev weight: [1.4        2.54374947 2.80229716], updated_weight: [1.4        2.54374947 2.80229716]\n",
      "-------------------------------\n",
      "\n",
      "[-1.          0.21731939  0.72753189]\n",
      "desired output: 1, neuron output: 1.0\n",
      "prev weight: [1.4        2.54374947 2.80229716], updated_weight: [1.4        2.54374947 2.80229716]\n",
      "-------------------------------\n",
      "\n",
      "[-1.          0.64341551  0.22861998]\n",
      "desired output: 1, neuron output: 1.0\n",
      "prev weight: [1.4        2.54374947 2.80229716], updated_weight: [1.4        2.54374947 2.80229716]\n",
      "-------------------------------\n",
      "\n",
      "[-1.          0.00801029  0.17798293]\n",
      "desired output: -1, neuron output: -1.0\n",
      "prev weight: [1.4        2.54374947 2.80229716], updated_weight: [1.4        2.54374947 2.80229716]\n",
      "-------------------------------\n",
      "\n",
      "[-1.          0.95816588  0.55055158]\n",
      "desired output: 1, neuron output: 1.0\n",
      "prev weight: [1.4        2.54374947 2.80229716], updated_weight: [1.4        2.54374947 2.80229716]\n",
      "-------------------------------\n",
      "\n",
      "[-1.          0.40634943  0.36027192]\n",
      "desired output: 1, neuron output: 1.0\n",
      "prev weight: [1.4        2.54374947 2.80229716], updated_weight: [1.4        2.54374947 2.80229716]\n",
      "-------------------------------\n",
      "\n",
      "[-1.          0.59840873  0.92042099]\n",
      "desired output: 1, neuron output: 1.0\n",
      "prev weight: [1.4        2.54374947 2.80229716], updated_weight: [1.4        2.54374947 2.80229716]\n",
      "-------------------------------\n",
      "\n",
      "[-1.          0.87885535  0.61280861]\n",
      "desired output: 1, neuron output: 1.0\n",
      "prev weight: [1.4        2.54374947 2.80229716], updated_weight: [1.4        2.54374947 2.80229716]\n",
      "-------------------------------\n",
      "\n",
      "[-1.          0.22486748  0.37227098]\n",
      "desired output: 1, neuron output: 1.0\n",
      "prev weight: [1.4        2.54374947 2.80229716], updated_weight: [1.4        2.54374947 2.80229716]\n",
      "-------------------------------\n",
      "\n",
      "[-1.          0.16739361  0.060949  ]\n",
      "desired output: -1, neuron output: -1.0\n",
      "prev weight: [1.4        2.54374947 2.80229716], updated_weight: [1.4        2.54374947 2.80229716]\n",
      "-------------------------------\n",
      "\n",
      "Comparing [1.4        2.54374947 2.80229716] with [1.4        2.54374947 2.80229716]\n"
     ]
    }
   ],
   "source": [
    "# Setting up X, weights and the output sign function\n",
    "\n",
    "DATASET_SIZE = 20\n",
    "LEARNING_RATE = 0.2\n",
    "MAX_EPOCHS = 50\n",
    "\n",
    "# Weight and X are vectors\n",
    "def mc_pitts_neuron(weight_vector, input_vector):\n",
    "    return np.sign(np.dot(weight_vector.transpose(), input_vector))\n",
    "\n",
    "def evaluate_updated_weight(weight, input_vector, desired_output):\n",
    "    # desired_output = evaluate_desired_output(input_vector[1], input_vector[2])\n",
    "    neuron_output = mc_pitts_neuron(weight, input_vector)\n",
    "    print(\"desired output: {}, neuron output: {}\".format(desired_output, neuron_output))\n",
    "    multiplying_factor = LEARNING_RATE* (desired_output - neuron_output)\n",
    "    return np.add(weight, np.multiply(multiplying_factor, input_vector))\n",
    "\n",
    "def matching_weights(w1, w2):\n",
    "    print(\"Comparing {} with {}\".format(w1, w2))\n",
    "    each_element_check = [format(e1, \".3f\") == format(e2, \".3f\") for e1, e2 in zip(w1, w2)]\n",
    "    return all(each_element_check)\n",
    "\n",
    "def run_epoch(initial_weight, dataset):\n",
    "    weight = initial_weight\n",
    "    for input_vector, desired_output in dataset:\n",
    "        print(input_vector)\n",
    "        updated_weight = evaluate_updated_weight(weight, input_vector, desired_output)\n",
    "        print(\"prev weight: {}, updated_weight: {}\".format(weight, updated_weight))\n",
    "        print(\"-------------------------------\\n\")\n",
    "        weight = updated_weight\n",
    "    return weight\n",
    "\n",
    "def run_training(initial_weight):\n",
    "    weight = initial_weight\n",
    "    training_dataset = generate_dataset(DATASET_SIZE)\n",
    "    epoch_counter = 0\n",
    "    while True:\n",
    "        print(\"==================== epoch {} ========================\".format(epoch_counter))\n",
    "        epoch_updated_weight = run_epoch(weight, training_dataset)\n",
    "        if matching_weights(weight, epoch_updated_weight) or epoch_counter == MAX_EPOCHS:\n",
    "            break\n",
    "        else:\n",
    "            weight = epoch_updated_weight\n",
    "            epoch_counter += 1\n",
    "    return weight\n",
    "\n",
    "initial_weight = np.array([3,2,2])\n",
    "trained_weight = run_training(initial_weight)"
   ]
  },
  {
   "cell_type": "markdown",
   "id": "76677474-3271-4622-9107-53c206d12eb4",
   "metadata": {},
   "source": [
    "### c. Validating through validation dataset"
   ]
  },
  {
   "cell_type": "code",
   "execution_count": 36,
   "id": "01dd60c3-277d-4d99-8da7-48050f11ff94",
   "metadata": {},
   "outputs": [
    {
     "name": "stdout",
     "output_type": "stream",
     "text": [
      "Successes: 4921/5000\n"
     ]
    }
   ],
   "source": [
    "VALIDATION_DATASET_SIZE = 5000\n",
    "\n",
    "def validate_neuron(trained_weight):\n",
    "    validation_dataset = generate_dataset(VALIDATION_DATASET_SIZE)\n",
    "    successes = 0\n",
    "    in_out = []\n",
    "    for input_vector, desired_output in validation_dataset:\n",
    "        trained_neuron_output = mc_pitts_neuron(trained_weight, input_vector)\n",
    "        # print(\"desired output: {}, neuron output: {}\".format(desired_output, trained_neuron_output))\n",
    "        in_out.append({\"input_vector\": input_vector, \"desired_output\": desired_output, \"trained_output\": trained_neuron_output})\n",
    "        if trained_neuron_output == desired_output:\n",
    "            successes += 1\n",
    "    print(\"Successes: {}/{}\".format(successes, VALIDATION_DATASET_SIZE))\n",
    "    return in_out\n",
    "\n",
    "\n",
    "validation_dataset = validate_neuron(trained_weight)"
   ]
  },
  {
   "cell_type": "markdown",
   "id": "76611f68-a488-4d5a-80dc-98a86ffb4093",
   "metadata": {},
   "source": [
    "### d. Plotting the data"
   ]
  },
  {
   "cell_type": "code",
   "execution_count": 42,
   "id": "94399964-e1ef-4da3-86cd-4be2a223c0e6",
   "metadata": {},
   "outputs": [
    {
     "data": {
      "text/plain": [
       "<matplotlib.quiver.Quiver at 0x7fbc18f69490>"
      ]
     },
     "execution_count": 42,
     "metadata": {},
     "output_type": "execute_result"
    },
    {
     "data": {
      "image/png": "[encoded data removed]",
      "text/plain": [
       "<Figure size 360x360 with 1 Axes>"
      ]
     },
     "metadata": {
      "needs_background": "light"
     },
     "output_type": "display_data"
    }
   ],
   "source": [
    "fig, ax = plt.subplots(figsize=(5, 5))\n",
    "\n",
    "input_x = [datapoint[\"input_vector\"] for datapoint in validation_dataset]\n",
    "x1 = [x[1] for x in input_x]\n",
    "x2 = [x[2] for x in input_x]\n",
    "trained_y = [datapoint[\"trained_output\"] for datapoint in validation_dataset]\n",
    "\n",
    "ax.scatter(x1, x2, c=trained_y, label=trained_y)\n",
    "ax.quiver(0,0, trained_weight[1], trained_weight[2], scale=0.5, color='r')\n",
    "\n",
    "# ax.set_title('XOR problem')\n"
   ]
  },
  {
   "cell_type": "markdown",
   "id": "8de13e78-e7bd-43bc-bb36-3795f9b1bf3c",
   "metadata": {},
   "source": [
    "-----------\n",
    "**TODOS:**\n",
    "\n",
    "- [ ] Change to OOP to be able to reuse the neuron code\n",
    "- [x] Add comments             DONE\n",
    "- [x] (c) Test on new dataset  DONE\n",
    "- [x] (d) plot                 DONE"
   ]
  },
  {
   "cell_type": "code",
   "execution_count": null,
   "id": "76434161-ed67-4d6d-b10b-8798ed10ed86",
   "metadata": {},
   "outputs": [],
   "source": []
  }
 ],
 "metadata": {
  "kernelspec": {
   "display_name": "Python 3 (ipykernel)",
   "language": "python",
   "name": "python3"
  },
  "language_info": {
   "codemirror_mode": {
    "name": "ipython",
    "version": 3
   },
   "file_extension": ".py",
   "mimetype": "text/x-python",
   "name": "python",
   "nbconvert_exporter": "python",
   "pygments_lexer": "ipython3",
   "version": "3.9.6"
  }
 },
 "nbformat": 4,
 "nbformat_minor": 5
}
