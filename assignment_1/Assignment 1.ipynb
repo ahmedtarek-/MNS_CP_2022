{
 "cells": [
  {
   "cell_type": "markdown",
   "id": "2eb2f52b-813c-43c1-8e3f-2e3a2d67abd3",
   "metadata": {},
   "source": [
    "## 1. McCulloch–Pitts neuron \n",
    "\n",
    "\n",
    "### a) Defining the function"
   ]
  },
  {
   "cell_type": "code",
   "execution_count": 2,
   "id": "ff23c9cc-ca64-4d4b-83f3-0c08efa9aeb6",
   "metadata": {},
   "outputs": [],
   "source": [
    "import numpy as np\n",
    "import matplotlib.pyplot as plt"
   ]
  },
  {
   "cell_type": "code",
   "execution_count": 18,
   "id": "06ad039a-431d-40d9-a948-0a4c5cea930b",
   "metadata": {},
   "outputs": [],
   "source": [
    "# Setting up X, weights and the output sign function\n",
    "X = np.array([-1, -1, -1])\n",
    "W = np.array([3,2,2])\n",
    "\n",
    "Y = np.sign(np.dot(W.transpose(), X))\n"
   ]
  },
  {
   "cell_type": "markdown",
   "id": "95b48f41-41b5-4e24-94ee-3b3a45e1eb5c",
   "metadata": {},
   "source": [
    "### b) Truth table of x1, x2"
   ]
  },
  {
   "cell_type": "code",
   "execution_count": 87,
   "id": "df75fcc9-4eb7-4db9-ae43-6e2d4064e7e8",
   "metadata": {},
   "outputs": [
    {
     "name": "stdout",
     "output_type": "stream",
     "text": [
      "  - for x1: 1, x2: 1\n",
      "    Y: 1\n",
      "  - for x1: 1, x2: -1\n",
      "    Y: -1\n",
      "  - for x1: -1, x2: 1\n",
      "    Y: -1\n",
      "  - for x1: -1, x2: -1\n",
      "    Y: -1\n"
     ]
    }
   ],
   "source": [
    "combinations = [(1,1), (1,-1), (-1,1), (-1,-1)]\n",
    "for combination in combinations:\n",
    "    x1 = combination[0]\n",
    "    x2 = combination[1]\n",
    "    X = np.array([-1, x1, x2])\n",
    "    Y = np.sign(np.dot(W.transpose(), X))\n",
    "    print(\"for x1\")\n",
    "    print(x1)\n",
    "    print(\"and x2:\")\n",
    "    print(x2)\n",
    "    print(\"  - for x1: {}, x2: {}\\n    Y: {}\".format(x1, x2, Y))"
   ]
  },
  {
   "cell_type": "markdown",
   "id": "6fc9d40b-513d-4b71-a337-6c074e609f41",
   "metadata": {},
   "source": [
    "### Summary\n",
    "\n",
    "- Trying out all combinations of x1, x2 show us that whenever there is a (-1/False) then output is -1/False, \n",
    "- Only when both inputs are (1/True) then output is (1/True)\n",
    "- Function is logical AND"
   ]
  },
  {
   "cell_type": "markdown",
   "id": "2535b795-3bfc-4be8-8d59-b2fbaabf55cf",
   "metadata": {},
   "source": [
    "-----------------------------------------------------\n",
    "\n",
    "## 2. Activation Functions"
   ]
  },
  {
   "cell_type": "code",
   "execution_count": 66,
   "id": "343cca33-ba84-401f-a11d-1047d3f3fb6d",
   "metadata": {},
   "outputs": [
    {
     "data": {
      "image/png": "[encoded data removed]",
      "text/plain": [
       "<Figure size 432x288 with 1 Axes>"
      ]
     },
     "metadata": {
      "needs_background": "light"
     },
     "output_type": "display_data"
    }
   ],
   "source": [
    "# Defining the plot\n",
    "fig = plt.figure()\n",
    "ax = fig.add_subplot(1, 1, 1)\n",
    "ax.spines['left'].set_position('center')\n",
    "ax.spines['bottom'].set_position('zero')\n",
    "ax.spines['right'].set_color('none')\n",
    "ax.spines['top'].set_color('none')\n",
    "ax.xaxis.set_ticks_position('bottom')\n",
    "ax.yaxis.set_ticks_position('left')\n",
    "\n",
    "# Defining points\n",
    "x = np.linspace(-5,5,100)"
   ]
  },
  {
   "cell_type": "markdown",
   "id": "33510956-d44c-4247-91f4-47a73b07c8a3",
   "metadata": {},
   "source": [
    "### a) Sigmoid function"
   ]
  },
  {
   "cell_type": "code",
   "execution_count": 74,
   "id": "651715db-9b75-41cd-8e72-949612e66090",
   "metadata": {},
   "outputs": [
    {
     "data": {
      "image/png": "[encoded data removed]",
      "text/plain": [
       "<Figure size 432x288 with 1 Axes>"
      ]
     },
     "metadata": {
      "needs_background": "light"
     },
     "output_type": "display_data"
    }
   ],
   "source": [
    "# Defining param (a)\n",
    "a = 1\n",
    "\n",
    "# Defining the function\n",
    "y1 = 2/(1+np.exp(-a*x)) - 1\n",
    "\n",
    "# plot the function\n",
    "plt.plot(x, y1, 'r')\n",
    "\n",
    "# show the plot\n",
    "plt.show()"
   ]
  },
  {
   "cell_type": "markdown",
   "id": "303334bf-23c8-4fc2-b12b-e59a94d39ac8",
   "metadata": {},
   "source": [
    "### b) tanh function"
   ]
  },
  {
   "cell_type": "code",
   "execution_count": 59,
   "id": "721ef7e3-5909-48a7-a246-211c3227c9c3",
   "metadata": {},
   "outputs": [
    {
     "data": {
      "image/png": "[encoded data removed]",
      "text/plain": [
       "<Figure size 432x288 with 1 Axes>"
      ]
     },
     "metadata": {
      "needs_background": "light"
     },
     "output_type": "display_data"
    }
   ],
   "source": [
    "# Defining param (a)\n",
    "a = 0.4\n",
    "\n",
    "# Defining the function\n",
    "y2 = np.tanh(4*a*x)\n",
    "\n",
    "# plot the function\n",
    "plt.plot(x,y2, 'r')\n",
    "\n",
    "# show the plot\n",
    "plt.show()"
   ]
  },
  {
   "cell_type": "markdown",
   "id": "cf1054fd-1b02-4481-aa2b-1368f87f57d4",
   "metadata": {},
   "source": [
    "### c) Piecewise linear function"
   ]
  },
  {
   "cell_type": "code",
   "execution_count": null,
   "id": "a14acb5c-c23a-4938-9e13-51a0c68ae6d5",
   "metadata": {},
   "outputs": [],
   "source": [
    "# Defining param (a)\n",
    "a = 10\n",
    "\n",
    "# Defining the piecewise functions (over 4 parts)\n",
    "y3 = np.piecewise(x, [x > -1/a, x < 1/a, x <= -1/a, x >= 1/a], [lambda x: a*x, lambda x: a*x, -1, 1])\n",
    "\n",
    "# plot the function\n",
    "plt.plot(x,y3, 'r')\n",
    "\n",
    "# show the plot\n",
    "plt.show()"
   ]
  },
  {
   "cell_type": "markdown",
   "id": "57df785d-09a2-4b0e-a747-9e63e866db3a",
   "metadata": {},
   "source": [
    "### Summary\n",
    "\n",
    "Choosing the parameter (a) to be large would push all the mentioned functions to be step-wise function. Parameter (a) functions as a threshold and controls the sensitivity of the function to 'fire' or no.\n"
   ]
  },
  {
   "cell_type": "markdown",
   "id": "2437bc75-262f-4ca4-9a29-fba53ca3a210",
   "metadata": {},
   "source": [
    "---------------------------------------------------------------------------------------------\n",
    "\n",
    "## 2. Rosenblatt’s perceptron\n",
    "\n"
   ]
  },
  {
   "cell_type": "markdown",
   "id": "e8a7f89e-0abb-4496-914e-fab28338af63",
   "metadata": {},
   "source": [
    "### a. Generating the datasets"
   ]
  },
  {
   "cell_type": "code",
   "execution_count": 72,
   "id": "c97f4ff5-e4b2-4bb5-bac8-28df13a863f3",
   "metadata": {},
   "outputs": [],
   "source": [
    "import numpy as np\n",
    "from numpy import random\n",
    "\n",
    "class Dataset:\n",
    "    def __init__(self, dataset_size):\n",
    "        self.dataset_size = dataset_size\n",
    "\n",
    "    def generate_input_vector(self):\n",
    "        x1, x2 = random.normal(0, 1, size=2)\n",
    "        return np.array([-1, x1, x2])\n",
    "\n",
    "    def evaluate_desired_output(self,x1,x2):\n",
    "        if x2 >= (0.5 - x1):\n",
    "            return 1\n",
    "        else:\n",
    "            return -1\n",
    "\n",
    "    def generate_dataset(self):\n",
    "        dataset = []\n",
    "        for i in range(self.dataset_size):\n",
    "            input_vector = self.generate_input_vector()\n",
    "            desired_output = self.evaluate_desired_output(input_vector[1], input_vector[2])\n",
    "            dataset.append((input_vector, desired_output))\n",
    "        return dataset\n",
    "\n",
    "test_dataset = Dataset(3).generate_dataset()"
   ]
  },
  {
   "cell_type": "markdown",
   "id": "227094eb-7c13-4623-bb76-9015bbea7684",
   "metadata": {},
   "source": [
    "### b. Defining neuron function, weight updating function and learning rate"
   ]
  },
  {
   "cell_type": "code",
   "execution_count": 92,
   "id": "32690e52-5368-4ed6-814a-fe83162c2b4a",
   "metadata": {},
   "outputs": [
    {
     "name": "stdout",
     "output_type": "stream",
     "text": [
      "==================== epoch 0 ========================\n",
      "Comparing [3 2 2] with [1.4        3.12467516 3.2420997 ]\n",
      "==================== epoch 1 ========================\n",
      "Comparing [1.4        3.12467516 3.2420997 ] with [1.8        3.58958737 3.81445494]\n",
      "==================== epoch 2 ========================\n",
      "Comparing [1.8        3.58958737 3.81445494] with [1.8        4.10908578 4.15157601]\n",
      "==================== epoch 3 ========================\n",
      "Comparing [1.8        4.10908578 4.15157601] with [1.8        4.54144994 4.33305112]\n",
      "==================== epoch 4 ========================\n",
      "Comparing [1.8        4.54144994 4.33305112] with [2.2        4.3745875  4.39483965]\n",
      "==================== epoch 5 ========================\n",
      "Comparing [2.2        4.3745875  4.39483965] with [2.2        4.84022875 4.57324735]\n",
      "==================== epoch 6 ========================\n",
      "Comparing [2.2        4.84022875 4.57324735] with [2.2        4.91664374 4.98515091]\n",
      "==================== epoch 7 ========================\n",
      "Comparing [2.2        4.91664374 4.98515091] with [2.2        5.25090207 5.13043858]\n",
      "==================== epoch 8 ========================\n",
      "Comparing [2.2        5.25090207 5.13043858] with [2.2        5.31267259 5.37721277]\n",
      "==================== epoch 9 ========================\n",
      "Comparing [2.2        5.31267259 5.37721277] with [2.6        5.69541662 5.33084644]\n",
      "==================== epoch 10 ========================\n",
      "Comparing [2.6        5.69541662 5.33084644] with [2.6        5.80664827 5.4762242 ]\n",
      "==================== epoch 11 ========================\n",
      "Comparing [2.6        5.80664827 5.4762242 ] with [2.6        5.98257513 5.64589993]\n",
      "==================== epoch 12 ========================\n",
      "Comparing [2.6        5.98257513 5.64589993] with [3.         5.8157589  5.80300232]\n",
      "==================== epoch 13 ========================\n",
      "Comparing [3.         5.8157589  5.80300232] with [2.6        6.2783357  5.73858106]\n",
      "==================== epoch 14 ========================\n",
      "Comparing [2.6        6.2783357  5.73858106] with [2.6        6.59603314 5.52902612]\n",
      "==================== epoch 15 ========================\n",
      "Comparing [2.6        6.59603314 5.52902612] with [2.6        6.67195479 5.576718  ]\n",
      "==================== epoch 16 ========================\n",
      "Comparing [2.6        6.67195479 5.576718  ] with [2.6        6.74787643 5.62440989]\n",
      "==================== epoch 17 ========================\n",
      "Comparing [2.6        6.74787643 5.62440989] with [2.6        6.66371128 6.00464935]\n",
      "==================== epoch 18 ========================\n",
      "Comparing [2.6        6.66371128 6.00464935] with [2.6        6.80634936 6.19909281]\n",
      "==================== epoch 19 ========================\n",
      "Comparing [2.6        6.80634936 6.19909281] with [3.         6.76591819 6.38202982]\n",
      "==================== epoch 20 ========================\n",
      "Comparing [3.         6.76591819 6.38202982] with [3.         6.90076185 6.44154159]\n",
      "==================== epoch 21 ========================\n",
      "Comparing [3.         6.90076185 6.44154159] with [3.         7.03560552 6.50105336]\n",
      "==================== epoch 22 ========================\n",
      "Comparing [3.         7.03560552 6.50105336] with [3.4        7.1068911  6.57229192]\n",
      "==================== epoch 23 ========================\n",
      "Comparing [3.4        7.1068911  6.57229192] with [3.4        6.92925328 6.80735722]\n",
      "==================== epoch 24 ========================\n",
      "Comparing [3.4        6.92925328 6.80735722] with [3.4        6.75241241 7.15871063]\n",
      "==================== epoch 25 ========================\n",
      "Comparing [3.4        6.75241241 7.15871063] with [3.         7.49753625 6.92201294]\n",
      "==================== epoch 26 ========================\n",
      "Comparing [3.         7.49753625 6.92201294] with [3.         7.61713786 7.09617353]\n",
      "==================== epoch 27 ========================\n",
      "Comparing [3.         7.61713786 7.09617353] with [3.         7.73673947 7.27033413]\n",
      "==================== epoch 28 ========================\n",
      "Comparing [3.         7.73673947 7.27033413] with [3.4        7.76661478 7.37264884]\n",
      "==================== epoch 29 ========================\n",
      "Comparing [3.4        7.76661478 7.37264884] with [3.4        8.07985263 7.11843056]\n",
      "==================== epoch 30 ========================\n",
      "Comparing [3.4        8.07985263 7.11843056] with [3.4        8.14139582 7.14502739]\n",
      "==================== epoch 31 ========================\n",
      "Comparing [3.4        8.14139582 7.14502739] with [3.8        7.5883531  7.53608526]\n",
      "==================== epoch 32 ========================\n",
      "Comparing [3.8        7.5883531  7.53608526] with [3.8        7.5883531  7.53608526]\n"
     ]
    }
   ],
   "source": [
    "# Setting up X, weights and the output sign function\n",
    "\n",
    "DATASET_SIZE = 1000\n",
    "\n",
    "class McPittsNeuron:\n",
    "    LEARNING_RATE = 0.2\n",
    "    MAX_EPOCHS = 200\n",
    "\n",
    "    def __init__(self, initial_weight):\n",
    "        self.weight_vector = initial_weight\n",
    "        \n",
    "    def reset_weight(self):\n",
    "        self.weight_vector = np.array([3,2,2])\n",
    "\n",
    "    # Weight and input_vector are vectors (Hamada Helal)\n",
    "    def evaluate_output(self, input_vector):\n",
    "        return np.sign(np.dot(self.weight_vector.transpose(), input_vector))\n",
    "\n",
    "    def evaluate_and_update_weight(self, input_vector, desired_output):\n",
    "        neuron_output = self.evaluate_output(input_vector)\n",
    "        # print(\"desired output: {}, neuron output: {}\".format(desired_output, neuron_output))\n",
    "        multiplying_factor = LEARNING_RATE* (desired_output - neuron_output)\n",
    "        self.weight_vector = np.add(self.weight_vector, np.multiply(multiplying_factor, input_vector))\n",
    "        return self.weight_vector\n",
    "\n",
    "    def matching_weights(self, w1, w2):\n",
    "        print(\"Comparing {} with {}\".format(w1, w2))\n",
    "        each_element_check = [format(e1, \".3f\") == format(e2, \".3f\") for e1, e2 in zip(w1, w2)]\n",
    "        return all(each_element_check)\n",
    "\n",
    "    def run_epoch(self, training_dataset):\n",
    "        for input_vector, desired_output in training_dataset:\n",
    "            # print(\"input_vector: {}\".format(input_vector))\n",
    "            prev_weight = self.weight_vector\n",
    "            self.evaluate_and_update_weight(input_vector, desired_output)\n",
    "            # print(\"prev weight: {}, updated_weight: {}\".format(prev_weight, self.weight_vector))\n",
    "            # print(\"-------------------------------\\n\")\n",
    "        return self.weight_vector\n",
    "\n",
    "    def run_training(self, training_dataset):\n",
    "        epoch_counter = 0\n",
    "        while True:\n",
    "            print(\"==================== epoch {} ========================\".format(epoch_counter))\n",
    "            pre_epoch_weight = self.weight_vector\n",
    "            self.run_epoch(training_dataset)\n",
    "            if self.matching_weights(pre_epoch_weight, self.weight_vector) or epoch_counter == self.MAX_EPOCHS:\n",
    "                break\n",
    "            else:\n",
    "                epoch_counter += 1\n",
    "        return self.weight_vector\n",
    "    \n",
    "    def validate(self, validation_dataset):\n",
    "        successes = 0\n",
    "        in_out = []\n",
    "        for input_vector, desired_output in validation_dataset:\n",
    "            trained_neuron_output = self.evaluate_output(input_vector)\n",
    "            in_out.append({\"input_vector\": input_vector, \"desired_output\": desired_output, \"trained_output\": trained_neuron_output})\n",
    "            if trained_neuron_output == desired_output:\n",
    "                successes += 1\n",
    "        success_rate = (successes / VALIDATION_DATASET_SIZE) * 100\n",
    "        print(\"Successes: {}/{} ({}%)\".format(successes, VALIDATION_DATASET_SIZE, success_rate))\n",
    "        return in_out\n",
    "\n",
    "initial_weight = np.array([3,2,2])\n",
    "mc_pitt_neuron = McPittsNeuron(initial_weight)\n",
    "\n",
    "training_dataset = Dataset(DATASET_SIZE).generate_dataset()\n",
    "trained_weight = mc_pitt_neuron.run_training(training_dataset)"
   ]
  },
  {
   "cell_type": "markdown",
   "id": "76677474-3271-4622-9107-53c206d12eb4",
   "metadata": {},
   "source": [
    "### c. Validating through validation dataset"
   ]
  },
  {
   "cell_type": "code",
   "execution_count": 93,
   "id": "01dd60c3-277d-4d99-8da7-48050f11ff94",
   "metadata": {},
   "outputs": [
    {
     "name": "stdout",
     "output_type": "stream",
     "text": [
      "Successes: 4993/5000 (99.86%)\n"
     ]
    }
   ],
   "source": [
    "VALIDATION_DATASET_SIZE = 5000\n",
    "\n",
    "validation_dataset = Dataset(VALIDATION_DATASET_SIZE).generate_dataset()\n",
    "validation_results = mc_pitt_neuron.validate(validation_dataset)"
   ]
  },
  {
   "cell_type": "markdown",
   "id": "76611f68-a488-4d5a-80dc-98a86ffb4093",
   "metadata": {},
   "source": [
    "### d. Plotting the data"
   ]
  },
  {
   "cell_type": "code",
   "execution_count": 94,
   "id": "94399964-e1ef-4da3-86cd-4be2a223c0e6",
   "metadata": {},
   "outputs": [
    {
     "data": {
      "text/plain": [
       "<matplotlib.quiver.Quiver at 0x7fbc18084e80>"
      ]
     },
     "execution_count": 94,
     "metadata": {},
     "output_type": "execute_result"
    },
    {
     "data": {
      "image/png": "[encoded data removed]",
      "text/plain": [
       "<Figure size 360x360 with 1 Axes>"
      ]
     },
     "metadata": {
      "needs_background": "light"
     },
     "output_type": "display_data"
    }
   ],
   "source": [
    "fig, ax = plt.subplots(figsize=(5, 5))\n",
    "\n",
    "input_x = [datapoint[\"input_vector\"] for datapoint in validation_results]\n",
    "x1 = [x[1] for x in input_x]\n",
    "x2 = [x[2] for x in input_x]\n",
    "trained_y = [datapoint[\"trained_output\"] for datapoint in validation_results]\n",
    "\n",
    "ax.scatter(x1, x2, c=trained_y, label=trained_y)\n",
    "ax.quiver(0,0, trained_weight[1], trained_weight[2], scale=0.5, color='r')\n",
    "\n",
    "# ax.set_title('XOR problem')\n"
   ]
  },
  {
   "cell_type": "markdown",
   "id": "8de13e78-e7bd-43bc-bb36-3795f9b1bf3c",
   "metadata": {},
   "source": [
    "-----------\n",
    "**TODOS:**\n",
    "\n",
    "- [x] Change to OOP to be able to reuse the neuron code\n",
    "- [x] Add comments             DONE\n",
    "- [x] (c) Test on new dataset  DONE\n",
    "- [x] (d) plot                 DONE"
   ]
  },
  {
   "cell_type": "code",
   "execution_count": null,
   "id": "76434161-ed67-4d6d-b10b-8798ed10ed86",
   "metadata": {},
   "outputs": [],
   "source": []
  }
 ],
 "metadata": {
  "kernelspec": {
   "display_name": "Python 3 (ipykernel)",
   "language": "python",
   "name": "python3"
  },
  "language_info": {
   "codemirror_mode": {
    "name": "ipython",
    "version": 3
   },
   "file_extension": ".py",
   "mimetype": "text/x-python",
   "name": "python",
   "nbconvert_exporter": "python",
   "pygments_lexer": "ipython3",
   "version": "3.9.6"
  }
 },
 "nbformat": 4,
 "nbformat_minor": 5
}
